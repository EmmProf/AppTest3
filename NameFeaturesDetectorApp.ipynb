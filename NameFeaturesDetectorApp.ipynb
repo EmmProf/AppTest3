{
  "nbformat": 4,
  "nbformat_minor": 0,
  "metadata": {
    "colab": {
      "name": "NameFeaturesDetectorApp.ipynb",
      "provenance": [],
      "collapsed_sections": []
    },
    "kernelspec": {
      "name": "python3",
      "display_name": "Python 3"
    }
  },
  "cells": [
    {
      "cell_type": "code",
      "metadata": {
        "id": "q7nSa0G7MD5r",
        "outputId": "32b60a3f-f434-4b8e-9789-776ce7ba0040",
        "colab": {
          "base_uri": "https://localhost:8080/"
        }
      },
      "source": [
        "#mount google drive in colab, comment out if in a local env\n",
        "from google.colab import drive\n",
        "drive.mount('/content/gdrive')"
      ],
      "execution_count": 1,
      "outputs": [
        {
          "output_type": "stream",
          "text": [
            "Mounted at /content/gdrive\n"
          ],
          "name": "stdout"
        }
      ]
    },
    {
      "cell_type": "code",
      "metadata": {
        "id": "cVEwfhgs4KPh"
      },
      "source": [
        "cd \"gdrive/My Drive/NameFeaturesClassifier/NameFeaturesDetector\""
      ],
      "execution_count": null,
      "outputs": []
    },
    {
      "cell_type": "markdown",
      "metadata": {
        "id": "uEhv5cURbhTE"
      },
      "source": [
        "After writting the app files, run these cells if you want to run a dash app from Colab (uses ngrok to tunnel local host to an outside url)."
      ]
    },
    {
      "cell_type": "code",
      "metadata": {
        "id": "f3iduGcBhcT1"
      },
      "source": [
        "# How to run a Dash app in Google Colab (https://stackoverflow.com/questions/53622518/launch-a-dash-app-in-a-google-colab-notebook)\n",
        "\n",
        "### Install ngrok\n",
        "!wget https://bin.equinox.io/c/4VmDzA7iaHb/ngrok-stable-linux-amd64.zip\n",
        "!unzip ngrok-stable-linux-amd64.zip"
      ],
      "execution_count": null,
      "outputs": []
    },
    {
      "cell_type": "code",
      "metadata": {
        "id": "CPs4tywwo9nH"
      },
      "source": [
        "### Run ngrok to tunnel Dash app port 8050 to the outside world. \n",
        "### This command runs in the background.\n",
        "get_ipython().system_raw('./ngrok http 8050 &')"
      ],
      "execution_count": 126,
      "outputs": []
    },
    {
      "cell_type": "code",
      "metadata": {
        "id": "3KASMltbhjW8"
      },
      "source": [
        "### Get the public URL where you can access the Dash app. Copy this URL.\n",
        "! curl -s http://localhost:4040/api/tunnels | python3 -c \\\n",
        "    \"import sys, json; print(json.load(sys.stdin)['tunnels'][0]['public_url'])\""
      ],
      "execution_count": null,
      "outputs": []
    },
    {
      "cell_type": "code",
      "metadata": {
        "id": "MZzkPV4NccCi"
      },
      "source": [
        "!pip install dash"
      ],
      "execution_count": null,
      "outputs": []
    },
    {
      "cell_type": "code",
      "metadata": {
        "id": "vaT0EdW1lOqg",
        "outputId": "fe16836d-5ff7-41a7-9507-4eb29e6d07aa",
        "colab": {
          "base_uri": "https://localhost:8080/"
        }
      },
      "source": [
        "### Run Dash app\n",
        "!python NameFeaturesDetectorApp.py"
      ],
      "execution_count": 128,
      "outputs": [
        {
          "output_type": "stream",
          "text": [
            "^C\n"
          ],
          "name": "stdout"
        }
      ]
    },
    {
      "cell_type": "markdown",
      "metadata": {
        "id": "liV-TKxDbSpJ"
      },
      "source": [
        "Write the different files needed to deploy the App in Heroku (Colab was used for the full project)."
      ]
    },
    {
      "cell_type": "code",
      "metadata": {
        "id": "95OtxYgxgzG0",
        "outputId": "cc264a69-f9c4-49f5-d710-bb06de233d86",
        "colab": {
          "base_uri": "https://localhost:8080/"
        }
      },
      "source": [
        "%%writefile NameFeaturesDetectorApp.py\n",
        "\n",
        "import pickle\n",
        "import numpy as np\n",
        "import pandas as pd\n",
        "from collections import Counter\n",
        "\n",
        "from sklearn.model_selection import train_test_split\n",
        "\n",
        "from tensorflow.keras.models import load_model, Model\n",
        "from tensorflow.keras.preprocessing.sequence import pad_sequences\n",
        "\n",
        "#config for plotly to not show the mode bar (zoom etc...)\n",
        "config = {'displayModeBar': False}\n",
        "\n",
        "#---------LOAD DATA AND MODEL------------------------------------\n",
        "\n",
        "#load needed data\n",
        "with open(\"ressources/names.txt\",\"r\") as f:\n",
        "  names = f.readlines()\n",
        "names = [name.replace('\\n',\"\") for name in names]\n",
        "#capitalize names\n",
        "names = [name.capitalize() for name in names]\n",
        "\n",
        "features = np.load(\"ressources/features.npy\",allow_pickle=True)\n",
        "#doing some renaming on features names\n",
        "features = [[feat.capitalize() if \"twi\" not in feat else \"Twi\" for feat in feature] for feature in features]\n",
        "\n",
        "names_train, names_test, features_train, features_test = train_test_split(names,features,random_state = 50, test_size=0.1,)\n",
        "\n",
        "namesVsFeatures = dict(zip(names,features))\n",
        "\n",
        "with open('ressources/tokenizer.pickle', 'rb') as handle:\n",
        "    tk = pickle.load(handle)\n",
        "with open(\"ressources/classes.txt\",\"r\") as f:\n",
        "  classes = f.readlines()\n",
        "classes = [cl.replace('\\n',\"\") for cl in classes]\n",
        "#doing some renaming on classes names\n",
        "classes = [classe.capitalize() if \"twi\" not in classe else \"Twi\" for classe in classes]\n",
        "\n",
        "repr_train = np.load(\"ressources/repr_train.npy\")\n",
        "repr_test = np.load(\"ressources/repr_test.npy\")\n",
        "namesFeaturesDetector = load_model(\"ressources/nameFeaturesDetector.h5\")\n",
        "representation = load_model(\"ressources/nameRepresentation.h5\")\n",
        "\n",
        "#this function is also available in utils.py\n",
        "def predictionPipeline(name,classes,tokenizer,model,representation,inputLen):\n",
        "  '''\n",
        "  A function taking as input a name and building blocks of a prediction pipeline, \n",
        "  and returning as a dictionnary predicted features: locality, firstVsLastName, femaleVsMale,\n",
        "  as well as an embedding vector.\n",
        "  Parameters:\n",
        "    name (str): a name to be processed.\n",
        "    classes (list(str)): a list of the names of the classes predicted by the model.\n",
        "    tokenizer (keras tokenizer): a tokenizer with a vocabulary, trained on the same train set as the model.\n",
        "    model (keras model): a trained model for names features inference.\n",
        "    representation (keras model): a model output embeddings for the name.\n",
        "    inputLen (int): the model's inputs length.\n",
        "  Returns:\n",
        "    namesFeaturesDict (dict): a dictionnary with predicted features: locality, firstVsLastName, femaleVsMale\n",
        "  '''\n",
        "  name = name.lower()\n",
        "\n",
        "\n",
        "  # tokenize names with the tokenizer\n",
        "  sequence = tokenizer.texts_to_sequences([name])\n",
        "  sequence = pad_sequences(sequences=sequence, maxlen=inputLen, padding='post')\n",
        "\n",
        "  predictions = model.predict(sequence).ravel()\n",
        "\n",
        "  nameFeaturesDict = dict()\n",
        "\n",
        "  nameFeaturesDict[\"firstVsLastName\"] = dict(firstName=predictions[1],lastName=predictions[3])\n",
        "  nameFeaturesDict[\"femaleVsMale\"] = dict(female=predictions[0],male=predictions[4])  \n",
        "  nameFeaturesDict[\"locality\"] = dict(zip(classes[5:],predictions[5:]))\n",
        "\n",
        "  #representation\n",
        "  repr = representation.predict(x=sequence)\n",
        "  norm = np.linalg.norm(repr,axis=1).reshape(-1,1)\n",
        "  repr = repr/norm\n",
        "\n",
        "  nameFeaturesDict[\"representation\"] = repr\n",
        "\n",
        "  return nameFeaturesDict\n",
        "\n",
        "#-----------DEFINE DASH APP-------------------------------------------\n",
        "\n",
        "import dash\n",
        "import dash_core_components as dcc\n",
        "import dash_html_components as html\n",
        "from dash.dependencies import Input, Output, State\n",
        "\n",
        "import plotly.graph_objects as go\n",
        "\n",
        "\n",
        "app = dash.Dash(__name__)\n",
        "\n",
        "#for Heroku deployment\n",
        "server = app.server\n",
        "\n",
        "#---Define layout-----------------------------------\n",
        "\n",
        "graphLayout = go.Layout(template=\"plotly_dark\",xaxis=dict(tickmode=\"linear\",showgrid=False,visible=False),\n",
        "                       paper_bgcolor='rgba(0,0,0,0)',plot_bgcolor='rgba(0,0,0,0)')\n",
        "\n",
        "buttonStyle = {\"margin\":\"1%\",\"background-color\": \"rgba(0,0,0,0)\",\"border-color\":\"white\", \"color\":\"white\", \"border-radius\":\"25px\"}\n",
        "#look at the ids of the Div to understand their purposes\n",
        "app.layout = html.Div(\n",
        "    [\n",
        "        html.Title(\"NameFeaturesDetector\"),\n",
        "        html.Div(\n",
        "            [\n",
        "                html.P(\"Name Features Detector\",style = {\"padding-left\":\"2%\",\"font-size\":\"18px\"})\n",
        "            ],\n",
        "            id = \"header\"\n",
        "        ),\n",
        "        html.Div(\n",
        "            [\n",
        "                html.Div(\n",
        "                    [\"Enter a Name: \",\n",
        "                     dcc.Input(value=\"John\",type=\"text\",id=\"name\"),\n",
        "                     html.Button(id='run-button', n_clicks=0, children='Run',style = buttonStyle),\n",
        "                     html.Button(id='pickrandom-button', n_clicks=0, children='Pick Random', style = buttonStyle)\n",
        "                    ],\n",
        "                    style = {\"padding-left\":\"5%\",\"font-size\":\"14px\"}\n",
        "                )\n",
        "            ],\n",
        "            id = \"parameters\"\n",
        "        ),\n",
        "        html.Div(\n",
        "            [\n",
        "                \n",
        "            ],\n",
        "            id = \"text-output\"\n",
        "        ),\n",
        "        html.Div(\n",
        "            [\n",
        "             html.P([\n",
        "                     \"The model is a multi-label model, a name can be both for man or woman. Scores do not sum up to 1. Refer to the\",\n",
        "                     html.A(\" source code.\",href=\"https://github.com/EmmProf/NameFeaturesDetector\",style={\"color\":\"grey\"})\n",
        "                     ]),\n",
        "             \n",
        "            ],\n",
        "            id = \"read-me\"\n",
        "            ),\n",
        "        html.Div(\n",
        "            [\n",
        "                html.Div(\n",
        "                    [\n",
        "                        dcc.Graph(id=\"firstVsLast\",config=config,figure=go.Figure(layout=graphLayout)),\n",
        "                        dcc.Graph(id=\"femaleVsMale\",config=config,figure=go.Figure(layout=graphLayout)),\n",
        "                        dcc.Graph(id=\"similarity\",config=config,figure=go.Figure(layout=graphLayout)),\n",
        "                        dcc.Graph(id=\"locality\",config=config,figure=go.Figure(layout=graphLayout)),\n",
        "                        dcc.Graph(id=\"locSimilar\",config=config,figure=go.Figure(layout=graphLayout))\n",
        "                    ],\n",
        "                    className = \"graphs-container\",\n",
        "                )\n",
        "            ],\n",
        "            id= \"graphs-output\"\n",
        "        )\n",
        "    ],\n",
        "    className = \"main-container\",\n",
        "\n",
        ")\n",
        "\n",
        "#------Define callbacks----------------------\n",
        "\n",
        "#this callback gets as input the run button event or the pick random button event\n",
        "#it will then ouput the locality of the name, its gender, if it is a first or last name\n",
        "#and similar names based on the similarity measure defined via last layer embeddings.\n",
        "\n",
        "@app.callback(\n",
        "    [Output(\"firstVsLast\",\"figure\"),\n",
        "     Output(\"femaleVsMale\",\"figure\"),\n",
        "     Output(\"similarity\",\"figure\"),\n",
        "     Output(\"locality\",\"figure\"),\n",
        "     Output(\"locSimilar\",\"figure\"),\n",
        "     Output(\"name\",\"value\"),\n",
        "     Output(\"text-output\",\"children\")],\n",
        "    [Input(\"run-button\",\"n_clicks\"),\n",
        "     Input(\"pickrandom-button\",\"n_clicks\")],\n",
        "    [State(\"name\",\"value\")]\n",
        ")\n",
        "\n",
        "\n",
        "def update_graphs(n_clicks1,n_clicks2,name):\n",
        "\n",
        "    #this is to understand which button has been clicked\n",
        "    ctx = dash.callback_context\n",
        "    button_id = ctx.triggered[0]['prop_id'].split('.')[0]\n",
        "\n",
        "    #if the \"pick random\" button was clicked then pick a name at random in the test set\n",
        "    if button_id == \"pickrandom-button\":\n",
        "      rndIndex = np.random.randint(0,len(names_test))\n",
        "      name = names_test[rndIndex]\n",
        "    \n",
        "    name = name.lower()\n",
        "\n",
        "    #get the data from the prediction pipeline\n",
        "    data = predictionPipeline(name,classes,tk,namesFeaturesDetector,representation,inputLen=12)\n",
        "    \n",
        "    firstVsLast = pd.Series(data[\"firstVsLastName\"]).sort_values(ascending=True)\n",
        "    femaleVsMale = pd.Series(data[\"femaleVsMale\"]).sort_values(ascending=True)\n",
        "    locality = pd.Series(data[\"locality\"]).sort_values(ascending=True).iloc[-10:]\n",
        "\n",
        "    #compute cosine similarity from name embeddings, and extract the most similar 10 names\n",
        "    similarity_train = np.dot(data[\"representation\"],repr_train.T)\n",
        "    similarity_train = pd.Series(data=similarity_train.ravel(),\n",
        "                               index=names_train).sort_values(ascending=False).iloc[:20].iloc[::-1]\n",
        "\n",
        "    #text for similarity \n",
        "    text = [namesVsFeatures[name] for name in similarity_train.index]\n",
        "\n",
        "    #locality for similar names\n",
        "    localities = [locality for locality in [feature for features in text for feature in features if feature not in [\"Last\",\"Firstname\",\"Lastname\",\"Male\",\"Female\"]]]\n",
        "    locCounter = Counter(localities)\n",
        "    locSimilar = pd.Series(dict(locCounter.most_common(10))).iloc[::-1]\n",
        "    \n",
        "    colorscale = \"Blugrn\"\n",
        "    #figures\n",
        "    localityBar = go.Bar(y=locality.index,x=locality.values,text=locality.values.round(2)*100,\n",
        "                         orientation=\"h\",showlegend=False,marker={'color': locality.values,'colorscale': colorscale}\n",
        "                         )\n",
        "\n",
        "    femaleVsMaleBar = go.Bar(y=femaleVsMale.index,x=femaleVsMale.values,text=femaleVsMale.values.round(2)*100,\n",
        "                             orientation=\"h\",showlegend=False,marker={'color': femaleVsMale.values,'colorscale': colorscale}, \n",
        "                             )\n",
        "\n",
        "    firstVsLastBar = go.Bar(y=firstVsLast.index,x=firstVsLast.values,text=firstVsLast.values.round(2)*100,\n",
        "                            orientation=\"h\",showlegend=False,marker={'color': firstVsLast.values,'colorscale': colorscale}\n",
        "                           )\n",
        "\n",
        "    similarityBar = go.Bar(y=similarity_train.index,x=similarity_train.values.round(2)*100,\n",
        "                           orientation=\"h\",showlegend=False,text=text,marker={'color': similarity_train.values,'colorscale': colorscale}\n",
        "                           )\n",
        "\n",
        "    locSimilarBar = go.Bar(y=locSimilar.index,x=locSimilar.values.round(2)*100,\n",
        "                           orientation=\"h\",showlegend=False,text=locSimilar.values,marker={'color': locSimilar.values,'colorscale': colorscale}\n",
        "                           )\n",
        "\n",
        "    fig1 = go.Figure([firstVsLastBar]).update_layout(margin=dict(t=30,b=30))\n",
        "    fig2 = go.Figure([femaleVsMaleBar]).update_layout(margin=dict(t=30,b=30))\n",
        "    fig3 = go.Figure([similarityBar]).update_layout(margin=dict(t=30,b=50))\n",
        "    fig4 = go.Figure([localityBar]).update_layout(margin=dict(t=30,b=10))\n",
        "    fig5 = go.Figure([locSimilarBar]).update_layout(margin=dict(t=30,b=50))\n",
        "    \n",
        "    #titles of the barplots\n",
        "    titles = [\"Is it a first name or a last name ?\",\n",
        "              \"Is it a female or male name ?\",\n",
        "              \"What are the most similar names in the train set ?\",\n",
        "              \"Locality predicted by the model\",\"Locality among most similar names\"\n",
        "             ]\n",
        "    \n",
        "    for fig,title in zip([fig1,fig2,fig3,fig4,fig5],titles):\n",
        "        fig.update_layout(title_text=title,template=\"plotly_dark\",xaxis=dict(tickmode=\"linear\",showgrid=False,visible=False),\n",
        "                       paper_bgcolor='rgba(0,0,0,0)',plot_bgcolor='rgba(0,0,0,0)')\n",
        "                       \n",
        "    #message to output (this could maybe done more nicely)\n",
        "    \n",
        "    #capitalize name\n",
        "    name = name.capitalize()\n",
        "    mess = str()\n",
        "    if name in names:\n",
        "        postmess = \"\"\n",
        "        feats = namesVsFeatures[name]\n",
        "        if \"Firstname\" in feats:\n",
        "            postmess += \" a firstname\"\n",
        "            if \"Lastname\" in feats: \n",
        "                postmess+= \" and a lastname,\"\n",
        "            else: postmess+= \" only,\"\n",
        "            \n",
        "            if \"Male\" in feats:\n",
        "                postmess+= \" a male name\"\n",
        "                if \"Female\" in feats: \n",
        "                    postmess += \" and a female name,\"\n",
        "                else: \n",
        "                    postmess += \" only,\"\n",
        "                \n",
        "        else: postmess += \" a lastname only,\"\n",
        "        \n",
        "        locas = [feat for feat in feats if feat not in [\"Firstname\",\"Lastname\",\"Male\",\"Female\",\"Last\"]]\n",
        "        \n",
        "        if len(locas) == 1: postmess += \" possible localities are  \" + locas[0] + \".\"\n",
        "        else: postmess += \" possible localities are  \" + \", \".join(locas[:-1])  + \", \" + locas[-1] + \".\"\n",
        "    \n",
        "    \n",
        "    if name in names_train: \n",
        "        mess = name + \" was in the train dataset. It can be \" + postmess\n",
        "    elif name in names_test: \n",
        "        mess = name + \" was in the test dataset. It can be \" + postmess\n",
        "    else: mess = name + \" was not in the train nor in the test dataset.\"\n",
        "        \n",
        "    return fig1,fig2,fig3,fig4,fig5,name,mess\n",
        "\n",
        "if __name__ == '__main__':\n",
        "    app.run_server(debug=False)"
      ],
      "execution_count": 129,
      "outputs": [
        {
          "output_type": "stream",
          "text": [
            "Overwriting NameFeaturesDetectorApp.py\n"
          ],
          "name": "stdout"
        }
      ]
    },
    {
      "cell_type": "code",
      "metadata": {
        "id": "bXQ9BfWOctk4",
        "outputId": "0d72921b-15b3-40dc-d61d-1ea61a72a639",
        "colab": {
          "base_uri": "https://localhost:8080/"
        }
      },
      "source": [
        "%%writefile assets/styles.css\n",
        "\n",
        "body {\n",
        "    font-family: Arial, Helvetica, sans-serif;\n",
        "    background-color: #171b26;\n",
        "    color: white;\n",
        "}\n",
        "\n",
        "#header {\n",
        "    grid-area:header;\n",
        "}\n",
        "\n",
        "#params {\n",
        "    grid-area:params;\n",
        "}\n",
        "\n",
        "#text-output {\n",
        "    grid-area:text-output;\n",
        "    text-align:left;\n",
        "    font-size:14px;\n",
        "}\n",
        "\n",
        "#graphs-output {\n",
        "    grid-area:graphs;\n",
        "}\n",
        "\n",
        "#read-me {\n",
        "    grid-area:readme;\n",
        "    font-size:10px;\n",
        "    padding-left:5%;\n",
        "}\n",
        "\n",
        ".main-container {\n",
        "    height:100vh;\n",
        "    display:grid;\n",
        "    grid-template-columns: 1fr 1fr;\n",
        "    grid-template-rows: 1fr 1fr 1fr 6fr;\n",
        "    grid-template-areas:\n",
        "        \"header header\"\n",
        "        \"params text-output\"\n",
        "        \"readme empty\"\n",
        "        \"graphs graphs\"\n",
        "}\n",
        "\n",
        ".graphs-container {\n",
        "    height:80vh;\n",
        "    display:grid;\n",
        "    grid-template-rows: 20% 40% 40%;\n",
        "    grid-template-columns: 50% 50%;\n",
        "    grid-template-areas:\n",
        "        \"graph1 graph2\"\n",
        "        \"graph3 graph4\"\n",
        "        \"graph3 graph5\"\n",
        "}\n",
        "\n",
        "#firstVsLast{\n",
        "    grid-area:graph1;\n",
        "\n",
        "}\n",
        "\n",
        "#femaleVsMale{\n",
        "    grid-area:graph2;\n",
        "}\n",
        "\n",
        "#similarity{\n",
        "    grid-area:graph3;\n",
        "}\n",
        "\n",
        "#locality{\n",
        "    grid-area:graph4;\n",
        "}\n",
        "\n",
        "#locSimilar{\n",
        "    grid-area:graph5;\n",
        "}"
      ],
      "execution_count": 130,
      "outputs": [
        {
          "output_type": "stream",
          "text": [
            "Overwriting assets/styles.css\n"
          ],
          "name": "stdout"
        }
      ]
    },
    {
      "cell_type": "code",
      "metadata": {
        "id": "SyB8N0-dc3_C",
        "outputId": "e958dd3b-3fb1-47e9-c565-16d4171a1321",
        "colab": {
          "base_uri": "https://localhost:8080/",
          "height": 33
        }
      },
      "source": [
        "%%writefile Procfile\n",
        "web: gunicorn NameFeaturesDetectorApp:server"
      ],
      "execution_count": null,
      "outputs": [
        {
          "output_type": "stream",
          "text": [
            "Writing Procfile\n"
          ],
          "name": "stdout"
        }
      ]
    },
    {
      "cell_type": "code",
      "metadata": {
        "id": "mSZbdjczf5y4"
      },
      "source": [
        "#requirements where not pip freeze, because in colab a lot of packages are installed and this would be to heavy for deployement on Heroku"
      ],
      "execution_count": null,
      "outputs": []
    },
    {
      "cell_type": "code",
      "metadata": {
        "id": "gKXQAnCefsWz",
        "outputId": "e0a004be-2e62-48ed-bb78-ba649b234a66",
        "colab": {
          "base_uri": "https://localhost:8080/",
          "height": 33
        }
      },
      "source": [
        "%%writefile requirements.txt\n",
        "\n",
        "Brotli==1.0.9\n",
        "click==7.1.2\n",
        "dash==1.16.3\n",
        "dash-core-components==1.12.1\n",
        "dash-html-components==1.1.1\n",
        "dash-renderer==1.8.2\n",
        "dash-table==4.10.1\n",
        "Flask==1.1.2\n",
        "Flask-Compress==1.7.0\n",
        "future==0.18.2\n",
        "gunicorn==20.0.4\n",
        "itsdangerous==1.1.0\n",
        "Jinja2==2.11.2\n",
        "joblib==0.17.0\n",
        "MarkupSafe==1.1.1\n",
        "numpy==1.16.0\n",
        "pandas==1.1.3\n",
        "plotly==4.12.0\n",
        "python-dateutil==2.8.1\n",
        "pytz==2020.1\n",
        "retrying==1.3.3\n",
        "scikit-learn==0.23.2\n",
        "scipy==1.4.1\n",
        "six==1.15.0\n",
        "sklearn==0.0\n",
        "threadpoolctl==2.1.0\n",
        "Werkzeug==1.0.1\n",
        "tensorflow==2.3.0"
      ],
      "execution_count": null,
      "outputs": [
        {
          "output_type": "stream",
          "text": [
            "Writing requirements.txt\n"
          ],
          "name": "stdout"
        }
      ]
    },
    {
      "cell_type": "code",
      "metadata": {
        "id": "qK_6-QhggM4u"
      },
      "source": [
        "#I think it might be possible to use git from colab. But I uploaded the needed files for the app manually.\n",
        "#I build some git files just in case these are needed."
      ],
      "execution_count": null,
      "outputs": []
    },
    {
      "cell_type": "code",
      "metadata": {
        "id": "_iFoqkG7gRKe",
        "outputId": "386d9bbf-2a59-42e9-dce4-e9634845a8fc",
        "colab": {
          "base_uri": "https://localhost:8080/",
          "height": 33
        }
      },
      "source": [
        "! git init"
      ],
      "execution_count": null,
      "outputs": [
        {
          "output_type": "stream",
          "text": [
            "Initialized empty Git repository in /content/gdrive/My Drive/NameFeaturesClassifier/NameFeaturesDetector/.git/\n"
          ],
          "name": "stdout"
        }
      ]
    },
    {
      "cell_type": "code",
      "metadata": {
        "id": "xYo8luzef4th",
        "outputId": "d44a660e-8737-4a1a-9e4f-9e519d3cc887",
        "colab": {
          "base_uri": "https://localhost:8080/",
          "height": 33
        }
      },
      "source": [
        "%%writefile .gitignore\n",
        "*.pyc\n",
        ".DS_Store\n",
        ".env"
      ],
      "execution_count": null,
      "outputs": [
        {
          "output_type": "stream",
          "text": [
            "Writing .gitignore\n"
          ],
          "name": "stdout"
        }
      ]
    },
    {
      "cell_type": "code",
      "metadata": {
        "id": "6ezgclrCktBg"
      },
      "source": [
        ""
      ],
      "execution_count": null,
      "outputs": []
    }
  ]
}
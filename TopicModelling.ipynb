{
  "nbformat": 4,
  "nbformat_minor": 0,
  "metadata": {
    "colab": {
      "name": "TopicModelling.ipynb",
      "provenance": [],
      "collapsed_sections": []
    },
    "kernelspec": {
      "name": "python3",
      "display_name": "Python 3"
    },
    "widgets": {
      "application/vnd.jupyter.widget-state+json": {
        "05b6c83439e145d4a13dcb3be74d67e6": {
          "model_module": "@jupyter-widgets/controls",
          "model_name": "VBoxModel",
          "state": {
            "_view_name": "VBoxView",
            "_dom_classes": [],
            "_model_name": "VBoxModel",
            "_view_module": "@jupyter-widgets/controls",
            "_model_module_version": "1.5.0",
            "_view_count": null,
            "_view_module_version": "1.5.0",
            "box_style": "",
            "layout": "IPY_MODEL_5cbae304974a4ad7b75e3f2c2792a15f",
            "_model_module": "@jupyter-widgets/controls",
            "children": [
              "IPY_MODEL_0c0fb4f174e041e6963ad89ebc728224",
              "IPY_MODEL_0b2cc39237e64126b79f3402ba973a5a"
            ]
          }
        },
        "5cbae304974a4ad7b75e3f2c2792a15f": {
          "model_module": "@jupyter-widgets/base",
          "model_name": "LayoutModel",
          "state": {
            "_view_name": "LayoutView",
            "grid_template_rows": null,
            "right": null,
            "justify_content": null,
            "_view_module": "@jupyter-widgets/base",
            "overflow": null,
            "_model_module_version": "1.2.0",
            "_view_count": null,
            "flex_flow": null,
            "width": null,
            "min_width": null,
            "border": null,
            "align_items": null,
            "bottom": null,
            "_model_module": "@jupyter-widgets/base",
            "top": null,
            "grid_column": null,
            "overflow_y": null,
            "overflow_x": null,
            "grid_auto_flow": null,
            "grid_area": null,
            "grid_template_columns": null,
            "flex": null,
            "_model_name": "LayoutModel",
            "justify_items": null,
            "grid_row": null,
            "max_height": null,
            "align_content": null,
            "visibility": null,
            "align_self": null,
            "height": null,
            "min_height": null,
            "padding": null,
            "grid_auto_rows": null,
            "grid_gap": null,
            "max_width": null,
            "order": null,
            "_view_module_version": "1.2.0",
            "grid_template_areas": null,
            "object_position": null,
            "object_fit": null,
            "grid_auto_columns": null,
            "margin": null,
            "display": null,
            "left": null
          }
        },
        "0c0fb4f174e041e6963ad89ebc728224": {
          "model_module": "@jupyter-widgets/controls",
          "model_name": "HBoxModel",
          "state": {
            "_view_name": "HBoxView",
            "_dom_classes": [],
            "_model_name": "HBoxModel",
            "_view_module": "@jupyter-widgets/controls",
            "_model_module_version": "1.5.0",
            "_view_count": null,
            "_view_module_version": "1.5.0",
            "box_style": "",
            "layout": "IPY_MODEL_e4eb8becb6444dbca5e2a39a37452785",
            "_model_module": "@jupyter-widgets/controls",
            "children": [
              "IPY_MODEL_5b47e881235f47a0bf1fe1087f4d2678",
              "IPY_MODEL_e9ecfc0098ac4ad5958dfcbd0a5dd438",
              "IPY_MODEL_ee57673929cd4938aed858952bdef612"
            ]
          }
        },
        "0b2cc39237e64126b79f3402ba973a5a": {
          "model_module": "@jupyter-widgets/output",
          "model_name": "OutputModel",
          "state": {
            "_view_name": "OutputView",
            "msg_id": "",
            "_dom_classes": [],
            "_model_name": "OutputModel",
            "outputs": [],
            "_view_module": "@jupyter-widgets/output",
            "_model_module_version": "1.0.0",
            "_view_count": null,
            "_view_module_version": "1.0.0",
            "layout": "IPY_MODEL_7256d1e154ac4ea9b25fd094c8d5a23d",
            "_model_module": "@jupyter-widgets/output"
          }
        },
        "e4eb8becb6444dbca5e2a39a37452785": {
          "model_module": "@jupyter-widgets/base",
          "model_name": "LayoutModel",
          "state": {
            "_view_name": "LayoutView",
            "grid_template_rows": null,
            "right": null,
            "justify_content": null,
            "_view_module": "@jupyter-widgets/base",
            "overflow": null,
            "_model_module_version": "1.2.0",
            "_view_count": null,
            "flex_flow": null,
            "width": null,
            "min_width": null,
            "border": null,
            "align_items": null,
            "bottom": null,
            "_model_module": "@jupyter-widgets/base",
            "top": null,
            "grid_column": null,
            "overflow_y": null,
            "overflow_x": null,
            "grid_auto_flow": null,
            "grid_area": null,
            "grid_template_columns": null,
            "flex": null,
            "_model_name": "LayoutModel",
            "justify_items": null,
            "grid_row": null,
            "max_height": null,
            "align_content": null,
            "visibility": null,
            "align_self": null,
            "height": null,
            "min_height": null,
            "padding": null,
            "grid_auto_rows": null,
            "grid_gap": null,
            "max_width": null,
            "order": null,
            "_view_module_version": "1.2.0",
            "grid_template_areas": null,
            "object_position": null,
            "object_fit": null,
            "grid_auto_columns": null,
            "margin": null,
            "display": null,
            "left": null
          }
        },
        "5b47e881235f47a0bf1fe1087f4d2678": {
          "model_module": "@jupyter-widgets/controls",
          "model_name": "FloatTextModel",
          "state": {
            "_view_name": "FloatTextView",
            "style": "IPY_MODEL_9acfd07f3d164978ad3906edfefb83e5",
            "_dom_classes": [],
            "description": "",
            "_model_name": "FloatTextModel",
            "_view_module": "@jupyter-widgets/controls",
            "_model_module_version": "1.5.0",
            "value": 0,
            "_view_count": null,
            "disabled": false,
            "_view_module_version": "1.5.0",
            "continuous_update": false,
            "step": 1,
            "description_tooltip": null,
            "_model_module": "@jupyter-widgets/controls",
            "layout": "IPY_MODEL_9d91c2c5d0ef40758da143af0dd5187f"
          }
        },
        "e9ecfc0098ac4ad5958dfcbd0a5dd438": {
          "model_module": "@jupyter-widgets/controls",
          "model_name": "ButtonModel",
          "state": {
            "_view_name": "ButtonView",
            "style": "IPY_MODEL_4cf52f24befa4658ac598d51e886acaf",
            "_dom_classes": [],
            "description": "Show",
            "_model_name": "ButtonModel",
            "button_style": "",
            "_view_module": "@jupyter-widgets/controls",
            "_model_module_version": "1.5.0",
            "tooltip": "",
            "_view_count": null,
            "disabled": false,
            "_view_module_version": "1.5.0",
            "layout": "IPY_MODEL_bc0c6d72878e43ce9bf756153a25804d",
            "_model_module": "@jupyter-widgets/controls",
            "icon": ""
          }
        },
        "ee57673929cd4938aed858952bdef612": {
          "model_module": "@jupyter-widgets/controls",
          "model_name": "ButtonModel",
          "state": {
            "_view_name": "ButtonView",
            "style": "IPY_MODEL_d0632b56605c41fa8ed86937b58ab888",
            "_dom_classes": [],
            "description": "Clear",
            "_model_name": "ButtonModel",
            "button_style": "",
            "_view_module": "@jupyter-widgets/controls",
            "_model_module_version": "1.5.0",
            "tooltip": "",
            "_view_count": null,
            "disabled": false,
            "_view_module_version": "1.5.0",
            "layout": "IPY_MODEL_e7b53b92aecd4df4858c97e4ac1bc0ff",
            "_model_module": "@jupyter-widgets/controls",
            "icon": ""
          }
        },
        "9acfd07f3d164978ad3906edfefb83e5": {
          "model_module": "@jupyter-widgets/controls",
          "model_name": "DescriptionStyleModel",
          "state": {
            "_view_name": "StyleView",
            "_model_name": "DescriptionStyleModel",
            "description_width": "",
            "_view_module": "@jupyter-widgets/base",
            "_model_module_version": "1.5.0",
            "_view_count": null,
            "_view_module_version": "1.2.0",
            "_model_module": "@jupyter-widgets/controls"
          }
        },
        "9d91c2c5d0ef40758da143af0dd5187f": {
          "model_module": "@jupyter-widgets/base",
          "model_name": "LayoutModel",
          "state": {
            "_view_name": "LayoutView",
            "grid_template_rows": null,
            "right": null,
            "justify_content": null,
            "_view_module": "@jupyter-widgets/base",
            "overflow": null,
            "_model_module_version": "1.2.0",
            "_view_count": null,
            "flex_flow": null,
            "width": null,
            "min_width": null,
            "border": null,
            "align_items": null,
            "bottom": null,
            "_model_module": "@jupyter-widgets/base",
            "top": null,
            "grid_column": null,
            "overflow_y": null,
            "overflow_x": null,
            "grid_auto_flow": null,
            "grid_area": null,
            "grid_template_columns": null,
            "flex": null,
            "_model_name": "LayoutModel",
            "justify_items": null,
            "grid_row": null,
            "max_height": null,
            "align_content": null,
            "visibility": null,
            "align_self": null,
            "height": null,
            "min_height": null,
            "padding": null,
            "grid_auto_rows": null,
            "grid_gap": null,
            "max_width": null,
            "order": null,
            "_view_module_version": "1.2.0",
            "grid_template_areas": null,
            "object_position": null,
            "object_fit": null,
            "grid_auto_columns": null,
            "margin": null,
            "display": null,
            "left": null
          }
        },
        "4cf52f24befa4658ac598d51e886acaf": {
          "model_module": "@jupyter-widgets/controls",
          "model_name": "ButtonStyleModel",
          "state": {
            "_view_name": "StyleView",
            "_model_name": "ButtonStyleModel",
            "_view_module": "@jupyter-widgets/base",
            "_model_module_version": "1.5.0",
            "_view_count": null,
            "button_color": null,
            "font_weight": "",
            "_view_module_version": "1.2.0",
            "_model_module": "@jupyter-widgets/controls"
          }
        },
        "bc0c6d72878e43ce9bf756153a25804d": {
          "model_module": "@jupyter-widgets/base",
          "model_name": "LayoutModel",
          "state": {
            "_view_name": "LayoutView",
            "grid_template_rows": null,
            "right": null,
            "justify_content": null,
            "_view_module": "@jupyter-widgets/base",
            "overflow": null,
            "_model_module_version": "1.2.0",
            "_view_count": null,
            "flex_flow": null,
            "width": null,
            "min_width": null,
            "border": null,
            "align_items": null,
            "bottom": null,
            "_model_module": "@jupyter-widgets/base",
            "top": null,
            "grid_column": null,
            "overflow_y": null,
            "overflow_x": null,
            "grid_auto_flow": null,
            "grid_area": null,
            "grid_template_columns": null,
            "flex": null,
            "_model_name": "LayoutModel",
            "justify_items": null,
            "grid_row": null,
            "max_height": null,
            "align_content": null,
            "visibility": null,
            "align_self": null,
            "height": null,
            "min_height": null,
            "padding": null,
            "grid_auto_rows": null,
            "grid_gap": null,
            "max_width": null,
            "order": null,
            "_view_module_version": "1.2.0",
            "grid_template_areas": null,
            "object_position": null,
            "object_fit": null,
            "grid_auto_columns": null,
            "margin": null,
            "display": null,
            "left": null
          }
        },
        "d0632b56605c41fa8ed86937b58ab888": {
          "model_module": "@jupyter-widgets/controls",
          "model_name": "ButtonStyleModel",
          "state": {
            "_view_name": "StyleView",
            "_model_name": "ButtonStyleModel",
            "_view_module": "@jupyter-widgets/base",
            "_model_module_version": "1.5.0",
            "_view_count": null,
            "button_color": null,
            "font_weight": "",
            "_view_module_version": "1.2.0",
            "_model_module": "@jupyter-widgets/controls"
          }
        },
        "e7b53b92aecd4df4858c97e4ac1bc0ff": {
          "model_module": "@jupyter-widgets/base",
          "model_name": "LayoutModel",
          "state": {
            "_view_name": "LayoutView",
            "grid_template_rows": null,
            "right": null,
            "justify_content": null,
            "_view_module": "@jupyter-widgets/base",
            "overflow": null,
            "_model_module_version": "1.2.0",
            "_view_count": null,
            "flex_flow": null,
            "width": null,
            "min_width": null,
            "border": null,
            "align_items": null,
            "bottom": null,
            "_model_module": "@jupyter-widgets/base",
            "top": null,
            "grid_column": null,
            "overflow_y": null,
            "overflow_x": null,
            "grid_auto_flow": null,
            "grid_area": null,
            "grid_template_columns": null,
            "flex": null,
            "_model_name": "LayoutModel",
            "justify_items": null,
            "grid_row": null,
            "max_height": null,
            "align_content": null,
            "visibility": null,
            "align_self": null,
            "height": null,
            "min_height": null,
            "padding": null,
            "grid_auto_rows": null,
            "grid_gap": null,
            "max_width": null,
            "order": null,
            "_view_module_version": "1.2.0",
            "grid_template_areas": null,
            "object_position": null,
            "object_fit": null,
            "grid_auto_columns": null,
            "margin": null,
            "display": null,
            "left": null
          }
        },
        "7256d1e154ac4ea9b25fd094c8d5a23d": {
          "model_module": "@jupyter-widgets/base",
          "model_name": "LayoutModel",
          "state": {
            "_view_name": "LayoutView",
            "grid_template_rows": null,
            "right": null,
            "justify_content": null,
            "_view_module": "@jupyter-widgets/base",
            "overflow": null,
            "_model_module_version": "1.2.0",
            "_view_count": null,
            "flex_flow": null,
            "width": null,
            "min_width": null,
            "border": null,
            "align_items": null,
            "bottom": null,
            "_model_module": "@jupyter-widgets/base",
            "top": null,
            "grid_column": null,
            "overflow_y": null,
            "overflow_x": null,
            "grid_auto_flow": null,
            "grid_area": null,
            "grid_template_columns": null,
            "flex": null,
            "_model_name": "LayoutModel",
            "justify_items": null,
            "grid_row": null,
            "max_height": null,
            "align_content": null,
            "visibility": null,
            "align_self": null,
            "height": null,
            "min_height": null,
            "padding": null,
            "grid_auto_rows": null,
            "grid_gap": null,
            "max_width": null,
            "order": null,
            "_view_module_version": "1.2.0",
            "grid_template_areas": null,
            "object_position": null,
            "object_fit": null,
            "grid_auto_columns": null,
            "margin": null,
            "display": null,
            "left": null
          }
        },
        "65e80ba41cb54fdaad52d156027ceca5": {
          "model_module": "@jupyter-widgets/controls",
          "model_name": "VBoxModel",
          "state": {
            "_view_name": "VBoxView",
            "_dom_classes": [],
            "_model_name": "VBoxModel",
            "_view_module": "@jupyter-widgets/controls",
            "_model_module_version": "1.5.0",
            "_view_count": null,
            "_view_module_version": "1.5.0",
            "box_style": "",
            "layout": "IPY_MODEL_945f3f84e5ab4ef190938bcdcc671499",
            "_model_module": "@jupyter-widgets/controls",
            "children": [
              "IPY_MODEL_70da8518d96c4bdeb0108e7a2960b32e",
              "IPY_MODEL_802a747f1d8e401a95543033baeba3c9"
            ]
          }
        },
        "945f3f84e5ab4ef190938bcdcc671499": {
          "model_module": "@jupyter-widgets/base",
          "model_name": "LayoutModel",
          "state": {
            "_view_name": "LayoutView",
            "grid_template_rows": null,
            "right": null,
            "justify_content": null,
            "_view_module": "@jupyter-widgets/base",
            "overflow": null,
            "_model_module_version": "1.2.0",
            "_view_count": null,
            "flex_flow": null,
            "width": null,
            "min_width": null,
            "border": null,
            "align_items": null,
            "bottom": null,
            "_model_module": "@jupyter-widgets/base",
            "top": null,
            "grid_column": null,
            "overflow_y": null,
            "overflow_x": null,
            "grid_auto_flow": null,
            "grid_area": null,
            "grid_template_columns": null,
            "flex": null,
            "_model_name": "LayoutModel",
            "justify_items": null,
            "grid_row": null,
            "max_height": null,
            "align_content": null,
            "visibility": null,
            "align_self": null,
            "height": null,
            "min_height": null,
            "padding": null,
            "grid_auto_rows": null,
            "grid_gap": null,
            "max_width": null,
            "order": null,
            "_view_module_version": "1.2.0",
            "grid_template_areas": null,
            "object_position": null,
            "object_fit": null,
            "grid_auto_columns": null,
            "margin": null,
            "display": null,
            "left": null
          }
        },
        "70da8518d96c4bdeb0108e7a2960b32e": {
          "model_module": "@jupyter-widgets/controls",
          "model_name": "HBoxModel",
          "state": {
            "_view_name": "HBoxView",
            "_dom_classes": [],
            "_model_name": "HBoxModel",
            "_view_module": "@jupyter-widgets/controls",
            "_model_module_version": "1.5.0",
            "_view_count": null,
            "_view_module_version": "1.5.0",
            "box_style": "",
            "layout": "IPY_MODEL_9cc5501ee8f144b6b5c90b202d8cf732",
            "_model_module": "@jupyter-widgets/controls",
            "children": [
              "IPY_MODEL_85b0485d8d754197b42e94b8024a5a7a",
              "IPY_MODEL_68bc51a9ce8843a6a796a5b7c5686ba1",
              "IPY_MODEL_e177e8e934d2471793b6272e059954d9"
            ]
          }
        },
        "802a747f1d8e401a95543033baeba3c9": {
          "model_module": "@jupyter-widgets/output",
          "model_name": "OutputModel",
          "state": {
            "_view_name": "OutputView",
            "msg_id": "",
            "_dom_classes": [],
            "_model_name": "OutputModel",
            "outputs": [
              {
                "output_type": "stream",
                "metadata": {
                  "tags": []
                },
                "text": "Doc 0:  la gestion d'instituts de beauté et la vente de services et de produits dans le domaine de la cosmétique\n",
                "stream": "stdout"
              },
              {
                "output_type": "stream",
                "metadata": {
                  "tags": []
                },
                "text": "Doc 1:  la société a pour but de fournir des conseils aux entreprises et aux personnes privées dans le domaine immobilier, notamment concernant l'achat, la vente, la location, la mise en valeur, le courtage, la promotion, la gérance, l'administration et la gestion de tous projets immobiliers, à l'exception des opérations prohibées par la LFAIE; promotion et commercialisation de bateaux électriques; importation, exportation, achat, vente, production et fabrication de tous produits dans les domaines de l'esthétique et de l'onglerie; exploitation d'instituts de beauté (pour but complet cf. statuts)\n",
                "stream": "stdout"
              },
              {
                "output_type": "stream",
                "metadata": {
                  "tags": []
                },
                "text": "Doc 2:  la société a pour but la recherche d'héritiers et la généalogie successorale \n",
                "stream": "stdout"
              }
            ],
            "_view_module": "@jupyter-widgets/output",
            "_model_module_version": "1.0.0",
            "_view_count": null,
            "_view_module_version": "1.0.0",
            "layout": "IPY_MODEL_bad88e5192824bcfb57eb7c92c614a93",
            "_model_module": "@jupyter-widgets/output"
          }
        },
        "9cc5501ee8f144b6b5c90b202d8cf732": {
          "model_module": "@jupyter-widgets/base",
          "model_name": "LayoutModel",
          "state": {
            "_view_name": "LayoutView",
            "grid_template_rows": null,
            "right": null,
            "justify_content": null,
            "_view_module": "@jupyter-widgets/base",
            "overflow": null,
            "_model_module_version": "1.2.0",
            "_view_count": null,
            "flex_flow": null,
            "width": null,
            "min_width": null,
            "border": null,
            "align_items": null,
            "bottom": null,
            "_model_module": "@jupyter-widgets/base",
            "top": null,
            "grid_column": null,
            "overflow_y": null,
            "overflow_x": null,
            "grid_auto_flow": null,
            "grid_area": null,
            "grid_template_columns": null,
            "flex": null,
            "_model_name": "LayoutModel",
            "justify_items": null,
            "grid_row": null,
            "max_height": null,
            "align_content": null,
            "visibility": null,
            "align_self": null,
            "height": null,
            "min_height": null,
            "padding": null,
            "grid_auto_rows": null,
            "grid_gap": null,
            "max_width": null,
            "order": null,
            "_view_module_version": "1.2.0",
            "grid_template_areas": null,
            "object_position": null,
            "object_fit": null,
            "grid_auto_columns": null,
            "margin": null,
            "display": null,
            "left": null
          }
        },
        "85b0485d8d754197b42e94b8024a5a7a": {
          "model_module": "@jupyter-widgets/controls",
          "model_name": "FloatTextModel",
          "state": {
            "_view_name": "FloatTextView",
            "style": "IPY_MODEL_91605badbd094af687dee9edb3f690ab",
            "_dom_classes": [],
            "description": "",
            "_model_name": "FloatTextModel",
            "_view_module": "@jupyter-widgets/controls",
            "_model_module_version": "1.5.0",
            "value": 3,
            "_view_count": null,
            "disabled": false,
            "_view_module_version": "1.5.0",
            "continuous_update": false,
            "step": 1,
            "description_tooltip": null,
            "_model_module": "@jupyter-widgets/controls",
            "layout": "IPY_MODEL_279b0543fe3640cba28eb1afbf727e73"
          }
        },
        "68bc51a9ce8843a6a796a5b7c5686ba1": {
          "model_module": "@jupyter-widgets/controls",
          "model_name": "ButtonModel",
          "state": {
            "_view_name": "ButtonView",
            "style": "IPY_MODEL_9ad8b67e9d93407a8efe9addd9358812",
            "_dom_classes": [],
            "description": "Show",
            "_model_name": "ButtonModel",
            "button_style": "",
            "_view_module": "@jupyter-widgets/controls",
            "_model_module_version": "1.5.0",
            "tooltip": "",
            "_view_count": null,
            "disabled": false,
            "_view_module_version": "1.5.0",
            "layout": "IPY_MODEL_c1daa0136d774200be99a6df11882b79",
            "_model_module": "@jupyter-widgets/controls",
            "icon": ""
          }
        },
        "e177e8e934d2471793b6272e059954d9": {
          "model_module": "@jupyter-widgets/controls",
          "model_name": "ButtonModel",
          "state": {
            "_view_name": "ButtonView",
            "style": "IPY_MODEL_f15e4861777846b8b9f98c3059b79ad6",
            "_dom_classes": [],
            "description": "Clear",
            "_model_name": "ButtonModel",
            "button_style": "",
            "_view_module": "@jupyter-widgets/controls",
            "_model_module_version": "1.5.0",
            "tooltip": "",
            "_view_count": null,
            "disabled": false,
            "_view_module_version": "1.5.0",
            "layout": "IPY_MODEL_7c62ce0ea6e649a79a9f541012615cf3",
            "_model_module": "@jupyter-widgets/controls",
            "icon": ""
          }
        },
        "91605badbd094af687dee9edb3f690ab": {
          "model_module": "@jupyter-widgets/controls",
          "model_name": "DescriptionStyleModel",
          "state": {
            "_view_name": "StyleView",
            "_model_name": "DescriptionStyleModel",
            "description_width": "",
            "_view_module": "@jupyter-widgets/base",
            "_model_module_version": "1.5.0",
            "_view_count": null,
            "_view_module_version": "1.2.0",
            "_model_module": "@jupyter-widgets/controls"
          }
        },
        "279b0543fe3640cba28eb1afbf727e73": {
          "model_module": "@jupyter-widgets/base",
          "model_name": "LayoutModel",
          "state": {
            "_view_name": "LayoutView",
            "grid_template_rows": null,
            "right": null,
            "justify_content": null,
            "_view_module": "@jupyter-widgets/base",
            "overflow": null,
            "_model_module_version": "1.2.0",
            "_view_count": null,
            "flex_flow": null,
            "width": null,
            "min_width": null,
            "border": null,
            "align_items": null,
            "bottom": null,
            "_model_module": "@jupyter-widgets/base",
            "top": null,
            "grid_column": null,
            "overflow_y": null,
            "overflow_x": null,
            "grid_auto_flow": null,
            "grid_area": null,
            "grid_template_columns": null,
            "flex": null,
            "_model_name": "LayoutModel",
            "justify_items": null,
            "grid_row": null,
            "max_height": null,
            "align_content": null,
            "visibility": null,
            "align_self": null,
            "height": null,
            "min_height": null,
            "padding": null,
            "grid_auto_rows": null,
            "grid_gap": null,
            "max_width": null,
            "order": null,
            "_view_module_version": "1.2.0",
            "grid_template_areas": null,
            "object_position": null,
            "object_fit": null,
            "grid_auto_columns": null,
            "margin": null,
            "display": null,
            "left": null
          }
        },
        "9ad8b67e9d93407a8efe9addd9358812": {
          "model_module": "@jupyter-widgets/controls",
          "model_name": "ButtonStyleModel",
          "state": {
            "_view_name": "StyleView",
            "_model_name": "ButtonStyleModel",
            "_view_module": "@jupyter-widgets/base",
            "_model_module_version": "1.5.0",
            "_view_count": null,
            "button_color": null,
            "font_weight": "",
            "_view_module_version": "1.2.0",
            "_model_module": "@jupyter-widgets/controls"
          }
        },
        "c1daa0136d774200be99a6df11882b79": {
          "model_module": "@jupyter-widgets/base",
          "model_name": "LayoutModel",
          "state": {
            "_view_name": "LayoutView",
            "grid_template_rows": null,
            "right": null,
            "justify_content": null,
            "_view_module": "@jupyter-widgets/base",
            "overflow": null,
            "_model_module_version": "1.2.0",
            "_view_count": null,
            "flex_flow": null,
            "width": null,
            "min_width": null,
            "border": null,
            "align_items": null,
            "bottom": null,
            "_model_module": "@jupyter-widgets/base",
            "top": null,
            "grid_column": null,
            "overflow_y": null,
            "overflow_x": null,
            "grid_auto_flow": null,
            "grid_area": null,
            "grid_template_columns": null,
            "flex": null,
            "_model_name": "LayoutModel",
            "justify_items": null,
            "grid_row": null,
            "max_height": null,
            "align_content": null,
            "visibility": null,
            "align_self": null,
            "height": null,
            "min_height": null,
            "padding": null,
            "grid_auto_rows": null,
            "grid_gap": null,
            "max_width": null,
            "order": null,
            "_view_module_version": "1.2.0",
            "grid_template_areas": null,
            "object_position": null,
            "object_fit": null,
            "grid_auto_columns": null,
            "margin": null,
            "display": null,
            "left": null
          }
        },
        "f15e4861777846b8b9f98c3059b79ad6": {
          "model_module": "@jupyter-widgets/controls",
          "model_name": "ButtonStyleModel",
          "state": {
            "_view_name": "StyleView",
            "_model_name": "ButtonStyleModel",
            "_view_module": "@jupyter-widgets/base",
            "_model_module_version": "1.5.0",
            "_view_count": null,
            "button_color": null,
            "font_weight": "",
            "_view_module_version": "1.2.0",
            "_model_module": "@jupyter-widgets/controls"
          }
        },
        "7c62ce0ea6e649a79a9f541012615cf3": {
          "model_module": "@jupyter-widgets/base",
          "model_name": "LayoutModel",
          "state": {
            "_view_name": "LayoutView",
            "grid_template_rows": null,
            "right": null,
            "justify_content": null,
            "_view_module": "@jupyter-widgets/base",
            "overflow": null,
            "_model_module_version": "1.2.0",
            "_view_count": null,
            "flex_flow": null,
            "width": null,
            "min_width": null,
            "border": null,
            "align_items": null,
            "bottom": null,
            "_model_module": "@jupyter-widgets/base",
            "top": null,
            "grid_column": null,
            "overflow_y": null,
            "overflow_x": null,
            "grid_auto_flow": null,
            "grid_area": null,
            "grid_template_columns": null,
            "flex": null,
            "_model_name": "LayoutModel",
            "justify_items": null,
            "grid_row": null,
            "max_height": null,
            "align_content": null,
            "visibility": null,
            "align_self": null,
            "height": null,
            "min_height": null,
            "padding": null,
            "grid_auto_rows": null,
            "grid_gap": null,
            "max_width": null,
            "order": null,
            "_view_module_version": "1.2.0",
            "grid_template_areas": null,
            "object_position": null,
            "object_fit": null,
            "grid_auto_columns": null,
            "margin": null,
            "display": null,
            "left": null
          }
        },
        "bad88e5192824bcfb57eb7c92c614a93": {
          "model_module": "@jupyter-widgets/base",
          "model_name": "LayoutModel",
          "state": {
            "_view_name": "LayoutView",
            "grid_template_rows": null,
            "right": null,
            "justify_content": null,
            "_view_module": "@jupyter-widgets/base",
            "overflow": null,
            "_model_module_version": "1.2.0",
            "_view_count": null,
            "flex_flow": null,
            "width": null,
            "min_width": null,
            "border": null,
            "align_items": null,
            "bottom": null,
            "_model_module": "@jupyter-widgets/base",
            "top": null,
            "grid_column": null,
            "overflow_y": null,
            "overflow_x": null,
            "grid_auto_flow": null,
            "grid_area": null,
            "grid_template_columns": null,
            "flex": null,
            "_model_name": "LayoutModel",
            "justify_items": null,
            "grid_row": null,
            "max_height": null,
            "align_content": null,
            "visibility": null,
            "align_self": null,
            "height": null,
            "min_height": null,
            "padding": null,
            "grid_auto_rows": null,
            "grid_gap": null,
            "max_width": null,
            "order": null,
            "_view_module_version": "1.2.0",
            "grid_template_areas": null,
            "object_position": null,
            "object_fit": null,
            "grid_auto_columns": null,
            "margin": null,
            "display": null,
            "left": null
          }
        }
      }
    }
  },
  "cells": [
    {
      "cell_type": "code",
      "metadata": {
        "id": "s-79TGJgBf8Y"
      },
      "source": [
        "from google.colab import drive\n",
        "drive.mount('/content/gdrive')"
      ],
      "execution_count": null,
      "outputs": []
    },
    {
      "cell_type": "code",
      "metadata": {
        "id": "OTKOEsi3tWUQ"
      },
      "source": [
        "cd \"gdrive/My Drive/TopicModelling\""
      ],
      "execution_count": null,
      "outputs": []
    },
    {
      "cell_type": "code",
      "metadata": {
        "id": "7pC1PTVOU1F4"
      },
      "source": [
        "!python -m spacy download fr_core_news_sm"
      ],
      "execution_count": null,
      "outputs": []
    },
    {
      "cell_type": "code",
      "metadata": {
        "id": "zaI1u40_Almc"
      },
      "source": [
        "!pip install pyLDAvis"
      ],
      "execution_count": null,
      "outputs": []
    },
    {
      "cell_type": "code",
      "metadata": {
        "id": "xhWrKbrq3nzi"
      },
      "source": [
        "import pandas as pd\n",
        "import numpy as np\n",
        "import warnings\n",
        "from collections import Counter\n",
        "\n",
        "from utilsTM import corpusVisualizer, Output, deTokenize, compareCorpuses #Output is from ipywidgets\n",
        "\n",
        "from gensim.utils import simple_preprocess\n",
        "from gensim.models.phrases import Phrases\n",
        "from gensim.models.ldamodel import LdaModel, CoherenceModel\n",
        "from gensim.corpora.dictionary import Dictionary\n",
        "\n",
        "import pyLDAvis\n",
        "import pyLDAvis.gensim  \n",
        "\n",
        "import spacy\n",
        "\n",
        "import nltk"
      ],
      "execution_count": null,
      "outputs": []
    },
    {
      "cell_type": "code",
      "metadata": {
        "id": "5bUKeJQ2DO_K"
      },
      "source": [
        "warnings.filterwarnings(action=\"ignore\")"
      ],
      "execution_count": null,
      "outputs": []
    },
    {
      "cell_type": "code",
      "metadata": {
        "id": "-cShWKo0j6rY"
      },
      "source": [
        "with open(file=\"frenchVerbs.txt\",mode=\"r\") as f:\n",
        "  FRENCHVERBS = list(f.readlines())\n",
        "  FRENCHVERBS = [verb.replace(\"\\n\",\"\").strip() for verb in FRENCHVERBS]"
      ],
      "execution_count": null,
      "outputs": []
    },
    {
      "cell_type": "code",
      "metadata": {
        "id": "7Ylv1sQAkLGW"
      },
      "source": [
        "FRENCHVERBS"
      ],
      "execution_count": null,
      "outputs": []
    },
    {
      "cell_type": "code",
      "metadata": {
        "id": "4Cj84giO3hQ0"
      },
      "source": [
        "'''\n",
        "from nltk.corpus import twitter_samples\n",
        "nltk.download('twitter_samples')\n",
        "tweets = twitter_samples.strings('tweets.20150430-223406.json')\n",
        "'''"
      ],
      "execution_count": null,
      "outputs": []
    },
    {
      "cell_type": "code",
      "metadata": {
        "id": "9odSxPYHVqY-"
      },
      "source": [
        "#a correct implementation would be to have processing pipeline taking in the same things and trying them in different orders."
      ],
      "execution_count": null,
      "outputs": []
    },
    {
      "cell_type": "code",
      "metadata": {
        "id": "ilRy_G9lIsxx"
      },
      "source": [
        "corpus0 = pd.read_csv(\"CommercialRegisterData.csv\").Objet.to_list()"
      ],
      "execution_count": null,
      "outputs": []
    },
    {
      "cell_type": "code",
      "metadata": {
        "id": "De5h2Lc3JFxB"
      },
      "source": [
        "#corpus0 = pd.read_csv(\"GenevaCommercialRegisterData.csv\").Objet.to_list()[:2000]"
      ],
      "execution_count": null,
      "outputs": []
    },
    {
      "cell_type": "code",
      "metadata": {
        "id": "pJMRQIr3Bm64",
        "outputId": "e9b767d8-6a49-43fb-bfda-78ad850166d3",
        "colab": {
          "base_uri": "https://localhost:8080/",
          "height": 49,
          "referenced_widgets": [
            "05b6c83439e145d4a13dcb3be74d67e6",
            "5cbae304974a4ad7b75e3f2c2792a15f",
            "0c0fb4f174e041e6963ad89ebc728224",
            "0b2cc39237e64126b79f3402ba973a5a",
            "e4eb8becb6444dbca5e2a39a37452785",
            "5b47e881235f47a0bf1fe1087f4d2678",
            "e9ecfc0098ac4ad5958dfcbd0a5dd438",
            "ee57673929cd4938aed858952bdef612",
            "9acfd07f3d164978ad3906edfefb83e5",
            "9d91c2c5d0ef40758da143af0dd5187f",
            "4cf52f24befa4658ac598d51e886acaf",
            "bc0c6d72878e43ce9bf756153a25804d",
            "d0632b56605c41fa8ed86937b58ab888",
            "e7b53b92aecd4df4858c97e4ac1bc0ff",
            "7256d1e154ac4ea9b25fd094c8d5a23d"
          ]
        }
      },
      "source": [
        "#small UI to vizualize the corpus more easily\n",
        "Out0 = Output()\n",
        "corpusVisualizer(corpus0,Out0)"
      ],
      "execution_count": null,
      "outputs": [
        {
          "output_type": "display_data",
          "data": {
            "application/vnd.jupyter.widget-view+json": {
              "model_id": "05b6c83439e145d4a13dcb3be74d67e6",
              "version_minor": 0,
              "version_major": 2
            },
            "text/plain": [
              "VBox(children=(HBox(children=(FloatText(value=0.0, step=1.0), Button(description='Show', style=ButtonStyle()),…"
            ]
          },
          "metadata": {
            "tags": []
          }
        }
      ]
    },
    {
      "cell_type": "code",
      "metadata": {
        "id": "EkhJ_JTe_GiE"
      },
      "source": [
        "#a lot of doc contain (cf. statuts pour but complet), (cf. but de l'établissement principal), ... at the end of the description. We remove them. \n",
        "corpus1 = [doc[:doc.find(\"(cf\")] for doc in corpus0]"
      ],
      "execution_count": null,
      "outputs": []
    },
    {
      "cell_type": "code",
      "metadata": {
        "id": "qwE-3_2sK4_E",
        "outputId": "7acdcdc4-21bc-4c75-f84f-5581130ca4a9",
        "colab": {
          "base_uri": "https://localhost:8080/",
          "height": 124,
          "referenced_widgets": [
            "65e80ba41cb54fdaad52d156027ceca5",
            "945f3f84e5ab4ef190938bcdcc671499",
            "70da8518d96c4bdeb0108e7a2960b32e",
            "802a747f1d8e401a95543033baeba3c9",
            "9cc5501ee8f144b6b5c90b202d8cf732",
            "85b0485d8d754197b42e94b8024a5a7a",
            "68bc51a9ce8843a6a796a5b7c5686ba1",
            "e177e8e934d2471793b6272e059954d9",
            "91605badbd094af687dee9edb3f690ab",
            "279b0543fe3640cba28eb1afbf727e73",
            "9ad8b67e9d93407a8efe9addd9358812",
            "c1daa0136d774200be99a6df11882b79",
            "f15e4861777846b8b9f98c3059b79ad6",
            "7c62ce0ea6e649a79a9f541012615cf3",
            "bad88e5192824bcfb57eb7c92c614a93"
          ]
        }
      },
      "source": [
        "Out1 = Output()\n",
        "corpusVisualizer(corpus1,Out1)"
      ],
      "execution_count": null,
      "outputs": [
        {
          "output_type": "display_data",
          "data": {
            "application/vnd.jupyter.widget-view+json": {
              "model_id": "65e80ba41cb54fdaad52d156027ceca5",
              "version_minor": 0,
              "version_major": 2
            },
            "text/plain": [
              "VBox(children=(HBox(children=(FloatText(value=0.0, step=1.0), Button(description='Show', style=ButtonStyle()),…"
            ]
          },
          "metadata": {
            "tags": []
          }
        }
      ]
    },
    {
      "cell_type": "code",
      "metadata": {
        "id": "DDUM2w3Tki-Z"
      },
      "source": [
        "# VERB detection is so shit with spacy that we had to scrape a list of all french verbs\n",
        "v = set([word for doc in corpus2 for word in doc if word in FRENCHVERBS])\n",
        "v"
      ],
      "execution_count": null,
      "outputs": []
    },
    {
      "cell_type": "code",
      "metadata": {
        "id": "OQvo5PYdm0hR",
        "outputId": "e8697a9a-3993-473c-9fe1-4f4304cb1433",
        "colab": {
          "base_uri": "https://localhost:8080/",
          "height": 35
        }
      },
      "source": [
        "len(v)"
      ],
      "execution_count": null,
      "outputs": [
        {
          "output_type": "execute_result",
          "data": {
            "text/plain": [
              "442"
            ]
          },
          "metadata": {
            "tags": []
          },
          "execution_count": 33
        }
      ]
    },
    {
      "cell_type": "code",
      "metadata": {
        "id": "VsukzZJtNYbF"
      },
      "source": [
        "#2. Perform a number of preliminary preprocessing steps using gensim's simple_preprocess() (remove punctations, lowercase etc...).\n",
        "corpus2 = [simple_preprocess(doc,deacc=False,max_len=30) for doc in corpus1]"
      ],
      "execution_count": null,
      "outputs": []
    },
    {
      "cell_type": "code",
      "metadata": {
        "id": "uzscz4S3Pssr"
      },
      "source": [
        "Out2 = Output()\n",
        "corpusVisualizer(deTokenize(corpus2),Out2)"
      ],
      "execution_count": null,
      "outputs": []
    },
    {
      "cell_type": "code",
      "metadata": {
        "id": "9gOWJTPRVkKT"
      },
      "source": [
        "#3. Remove stopwords, lemmatize\n",
        "nlp = spacy.load(\"fr_core_news_sm\")\n",
        "corpus3 = []\n",
        "for doc2 in deTokenize(corpus2):\n",
        "  doc2 = nlp(doc2)\n",
        "  doc3 = [token.lemma_ for token in doc2 if not token.is_stop if not token.text in FRENCHVERBS]\n",
        "  corpus3.append(doc3)"
      ],
      "execution_count": null,
      "outputs": []
    },
    {
      "cell_type": "code",
      "metadata": {
        "id": "f2omX4XFnSvG"
      },
      "source": [
        "#2. Remove accents\n",
        "corpus4 = [simple_preprocess(doc,deacc=True,max_len=30) for doc in deTokenize(corpus3)]"
      ],
      "execution_count": null,
      "outputs": []
    },
    {
      "cell_type": "code",
      "metadata": {
        "id": "Iqw42imZV5W8"
      },
      "source": [
        "Out3 = Output()\n",
        "corpusVisualizer(deTokenize(corpus3),Out3)"
      ],
      "execution_count": null,
      "outputs": []
    },
    {
      "cell_type": "code",
      "metadata": {
        "id": "yWH_L0RLMZG8"
      },
      "source": [
        "#stemming, we try the french stemmer from nltk\n",
        "from nltk.stem.snowball import FrenchStemmer\n",
        "stemmer = FrenchStemmer()\n",
        "corpus4 = [[stemmer.stem(word) for word in doc] for doc in corpus3]"
      ],
      "execution_count": null,
      "outputs": []
    },
    {
      "cell_type": "code",
      "metadata": {
        "id": "O8R7e8eiMdRj"
      },
      "source": [
        "Out4 = Output()\n",
        "corpusVisualizer(deTokenize(corpus4),Out4)"
      ],
      "execution_count": null,
      "outputs": []
    },
    {
      "cell_type": "code",
      "metadata": {
        "id": "Pdac1chkRow0"
      },
      "source": [
        "#4. detect bigrams\n",
        "corpus5 = list(Phrases(sentences=corpus3,min_count=2)[corpus4])"
      ],
      "execution_count": null,
      "outputs": []
    },
    {
      "cell_type": "code",
      "metadata": {
        "id": "rsU6_AznFbWh"
      },
      "source": [
        "# detect trigrams\n",
        "#corpus4 = list(Phrases(sentences=corpus4,min_count=2)[corpus4])"
      ],
      "execution_count": null,
      "outputs": []
    },
    {
      "cell_type": "code",
      "metadata": {
        "id": "QrqUy6PDYZ31"
      },
      "source": [
        "Out4 = Output()\n",
        "corpusVisualizer(deTokenize(corpus4),Out4)"
      ],
      "execution_count": null,
      "outputs": []
    },
    {
      "cell_type": "code",
      "metadata": {
        "id": "tCVnpJIALfhI"
      },
      "source": [
        "#5. Remove pervasive words, which are present in most of the documents and are noise from a domain specific vocabulary (business) rather than discriminative features\n",
        "#a. Take the most frequent word, manually set the threshold for the most common word number and keep some words which might be due to a frequent topic\n",
        "cnt = Counter([word for doc in corpus5 for word in doc])\n",
        "keep = [\"financier\",\"immobilier\",\"courtage\",\"batiment\",\"materiel\",\"importation_exportation\",\"informatique\",\"bien_immobilier\",\"investissement\",\"industriel\",\"public\"]\n",
        "remove = [k for k,_ in cnt.most_common(63) if k not in keep]\n",
        "manual = [\"lfaie\",\"but\",\"pays\",\"genre\",\"aupres\",\"groupe\",\"lien\",\"principalement\",\"commercer\",\"rapport\",\"edition\",\"geneve\",\"premier\",\"tiers\"] #remove adverbes...\n",
        "remove = remove + manual\n",
        "#b. Automatically detect topics that are domain specific and not disciminative, by looking at the entropy of topic distributions\n",
        "\n",
        "#remove words\n",
        "corpus6 = [[word for word in doc if word not in remove] for doc in corpus5]"
      ],
      "execution_count": null,
      "outputs": []
    },
    {
      "cell_type": "code",
      "metadata": {
        "id": "aBm_0SHVR3-s"
      },
      "source": [
        " #To compare corpuses\n",
        "Out = Output()\n",
        "compareCorpuses(corpus0,corpus4,Out)"
      ],
      "execution_count": null,
      "outputs": []
    },
    {
      "cell_type": "code",
      "metadata": {
        "id": "Utmf81Vt9nob"
      },
      "source": [
        "#Final corpus remove empty docs\n",
        "corpusFinal = [doc for doc in corpus6 if doc]"
      ],
      "execution_count": null,
      "outputs": []
    },
    {
      "cell_type": "code",
      "metadata": {
        "id": "6daWaE_o8rHx"
      },
      "source": [
        "id2word = Dictionary(documents=corpusFinal)"
      ],
      "execution_count": null,
      "outputs": []
    },
    {
      "cell_type": "code",
      "metadata": {
        "id": "DqLR1MU_9ced"
      },
      "source": [
        "corpusBow = [id2word.doc2bow(doc) for doc in corpusFinal]"
      ],
      "execution_count": null,
      "outputs": []
    },
    {
      "cell_type": "code",
      "metadata": {
        "id": "sSbsvLvldlg3",
        "outputId": "4e98f5f4-dbe4-4cc6-858e-3733c016077c",
        "colab": {
          "base_uri": "https://localhost:8080/",
          "height": 35
        }
      },
      "source": [
        "ntopics = 15\n",
        "rs = 100\n",
        "model = LdaModel(corpus=corpusBow,num_topics=ntopics,id2word=id2word,chunksize=2000,\n",
        "                 passes=20,minimum_probability=0.0001,random_state=rs,per_word_topics=False)\n",
        "coherence = CoherenceModel(model=model,texts=corpusFinal,dictionary=id2word).get_coherence()\n",
        "print(\"Average correlation between multi-words in topics\",round(coherence,4))"
      ],
      "execution_count": null,
      "outputs": [
        {
          "output_type": "stream",
          "text": [
            "Average correlation between multi-words in topics 0.5005\n"
          ],
          "name": "stdout"
        }
      ]
    },
    {
      "cell_type": "code",
      "metadata": {
        "id": "rTgqUo5LwZWQ"
      },
      "source": [
        "#80 not so bad,10 not bad, 15 0.5 !!! #sometimes bigrams are confusing the thign\n",
        "#model.save(fname=\"model80topics\")"
      ],
      "execution_count": null,
      "outputs": []
    },
    {
      "cell_type": "code",
      "metadata": {
        "id": "HK7uVCOIhaNh",
        "outputId": "9b174cb0-8da5-4b9e-cd39-2cdff0c5710d",
        "colab": {
          "base_uri": "https://localhost:8080/",
          "height": 860
        }
      },
      "source": [
        "pyLDAvis.enable_notebook()\n",
        "vis = pyLDAvis.gensim.prepare(model, corpusBow, id2word)\n",
        "vis"
      ],
      "execution_count": null,
      "outputs": [
        {
          "output_type": "execute_result",
          "data": {
            "text/html": [
              "\n",
              "<link rel=\"stylesheet\" type=\"text/css\" href=\"https://cdn.rawgit.com/bmabey/pyLDAvis/files/ldavis.v1.0.0.css\">\n",
              "\n",
              "\n",
              "<div id=\"ldavis_el47411396807148939766621329358\"></div>\n",
              "<script type=\"text/javascript\">\n",
              "\n",
              "var ldavis_el47411396807148939766621329358_data = {\"mdsDat\": {\"x\": [-0.052461485504357634, -0.3256317087175889, -0.23094443705185289, -0.00033761440333536676, -0.004760211251443077, 0.05177900356075351, -0.22332749045101738, 0.07908375973780518, 0.07486984198971582, 0.08227697648212569, 0.001029275587174284, -0.21090268282841, 0.07841527804950985, 0.0918526238717673, 0.03591654649786535, 0.0619811440462512, 0.08095627279607247, 0.035348090318392415, 0.08244882337943937, 0.05012922140109814, 0.05926251838074613, 0.027050304000897852, 0.060753401136741686, 0.08935350980938138, 0.005859039162265356], \"y\": [0.0029378723701214667, -0.060223058492708724, 0.04314185456651168, 0.17614509172300769, -0.15214157251892269, -0.27605379307355826, 0.07972181293019552, 0.1423572070798395, -0.13715272983393245, 0.11115116536455799, 0.07269839031569937, -0.03436610907193561, 0.09821329410874495, -0.16879712955969206, 0.04532472573774674, 0.0646895033825078, 0.04227468048546031, -0.008130569130364557, -0.0007406067719064874, -0.06412007655748592, 0.09161032542271448, -0.102293630317513, -0.007810257911115581, 0.052189738319541, -0.010626128567512718], \"topics\": [1, 2, 3, 4, 5, 6, 7, 8, 9, 10, 11, 12, 13, 14, 15, 16, 17, 18, 19, 20, 21, 22, 23, 24, 25], \"cluster\": [1, 1, 1, 1, 1, 1, 1, 1, 1, 1, 1, 1, 1, 1, 1, 1, 1, 1, 1, 1, 1, 1, 1, 1, 1], \"Freq\": [7.134647980106487, 6.645026387318845, 6.403726713155578, 5.4064191009000515, 5.142901606153768, 4.98183013742001, 4.89258081018736, 4.6381055463532554, 3.979074720682056, 3.7383094829968266, 3.7039492429339522, 3.654801287310499, 3.6134467096829117, 3.5999112043736217, 3.5511731626303042, 3.436651697129775, 3.2636314527814028, 3.155599147650649, 2.992185087411412, 2.987381621786224, 2.8026379611970893, 2.797960806854621, 2.5862405401660244, 2.512268716878519, 2.379538875938759]}, \"tinfo\": {\"Term\": [\"immobilier\", \"financier\", \"informatique\", \"courtage\", \"batiment\", \"medical\", \"vehicule\", \"bien_immobilier\", \"transport\", \"investissement\", \"etablissement\", \"materiel\", \"importation_exportation\", \"cafe\", \"entretien\", \"interieur\", \"communication\", \"immeuble\", \"execution\", \"restauration\", \"reparation\", \"accessoire\", \"public\", \"administratif\", \"decoration\", \"restaurant\", \"economique\", \"automobile\", \"marketing\", \"evenement\", \"informatique\", \"logiciel\", \"internet\", \"electronique\", \"telecommunications\", \"numerique\", \"technologie_information\", \"telecommunication\", \"graphique\", \"contenu\", \"web\", \"logiciel_informatique\", \"television\", \"solution_informatique\", \"multimedia\", \"dessin\", \"commercialisation_logiciel\", \"familial\", \"transmission\", \"radio\", \"conservation\", \"alarme\", \"architectur_urbanisme\", \"climatisation\", \"dossier\", \"conditionnement\", \"bio\", \"domotique\", \"video\", \"reproduction\", \"systeme\", \"site_internet\", \"marketing_communication\", \"digital\", \"maintenance\", \"materiel\", \"conception\", \"donnee\", \"media\", \"securite\", \"support\", \"ingenierie\", \"technologie\", \"audiovisuel\", \"application\", \"technique\", \"integration\", \"fourniture_service\", \"fourniture\", \"equipement\", \"industriel\", \"electrique\", \"communication\", \"assistance\", \"appareil\", \"relation\", \"courtage\", \"mise_valeur\", \"bien_mobilier\", \"immobiliere\", \"architecte\", \"installation_sanitaire\", \"construction_transformation\", \"type_entrepris\", \"maquillage\", \"interne\", \"droit_auteur\", \"architecture_urbanisme\", \"mentionner\", \"semblable\", \"artister\", \"oeuvre_musical\", \"but_analogue\", \"bijoux_accessoire\", \"immeuble\", \"edification\", \"soumettre_lfaie\", \"papier_valeur\", \"geopolitique\", \"immobilier\", \"travailleur\", \"valeur_patrimonial\", \"exclusivement_affectation\", \"artisanau\", \"argent\", \"suisse_financemer\", \"gerance\", \"courtage_assurance\", \"commercial_financier\", \"bien_immobilier\", \"assurance\", \"transaction\", \"pilotage\", \"immeubler\", \"industriel\", \"fonds_commerce\", \"exception\", \"financement\", \"investissement\", \"mobiliere\", \"achat\", \"prise_participation\", \"bien\", \"type\", \"intermediation\", \"exploitation_bureau\", \"qu\", \"financier\", \"transformation\", \"compte_tiers\", \"expertise\", \"fiduciaire\", \"comptabilite\", \"fiscal\", \"comptable\", \"revision\", \"mandat_fiduciaire\", \"juridique_fiscal\", \"tenir\", \"administratif\", \"inclure\", \"hypothecaire\", \"comptable_fiscal\", \"constitution_administration\", \"immateriel\", \"gestion_salaire\", \"tenue\", \"fonds_placement\", \"recherch\", \"garde\", \"placement_investissement\", \"obligation\", \"surete\", \"bureau_architectur\", \"reorganisation\", \"bureau_fiduciaire\", \"mandat_entrer\", \"gage\", \"architectur_architectur\", \"total\", \"rapprocher\", \"mandat\", \"brevet\", \"restructuration\", \"credit\", \"risque\", \"mobilier\", \"execution\", \"domiciliation\", \"fortune\", \"juridique\", \"constitution\", \"patrimoine\", \"entreprendre\", \"assistance\", \"controle\", \"economique\", \"financier\", \"surveillance\", \"affaire\", \"bien\", \"audit\", \"titre\", \"technique\", \"fourniture\", \"industriel\", \"droit\", \"qu\", \"mise_place\", \"offre_conseil\", \"prestation_exercice\", \"respect_prescription\", \"afrique\", \"affilie\", \"optimisation\", \"demarche\", \"relever\", \"complementaire\", \"apprentissage\", \"temporaire\", \"site_web\", \"environnemental\", \"fonctionnement\", \"bien_produire\", \"peuple\", \"verification\", \"production_diffusion\", \"commercialisation_solution\", \"reinsertion\", \"fournisseur\", \"vocation\", \"mise_oeuvre\", \"divertissement\", \"bilan\", \"groupement\", \"reglementation\", \"structuration\", \"espace_publicitaire\", \"specialise\", \"existant\", \"accompagnement\", \"information\", \"nouveau\", \"sante\", \"selection\", \"plan\", \"viser\", \"methode\", \"qualite\", \"cadre\", \"negociation\", \"centre\", \"permettre\", \"professionnel\", \"mise_disposition\", \"bancaire\", \"reseau\", \"structure\", \"personnel\", \"marche\", \"local\", \"economique\", \"mise\", \"entreprendre\", \"relation\", \"elaboration\", \"interieur\", \"batiment\", \"peintur\", \"maconnerie\", \"exterieur\", \"revetement\", \"materiau\", \"genie\", \"carrelage\", \"menuiserie\", \"sol\", \"ingenieur\", \"sanitaire\", \"agencemer\", \"beton\", \"nettoyage_entretien\", \"jardin\", \"chauffage\", \"atelier_architectur\", \"peindre\", \"arme\", \"installation_chauffage\", \"papier_peindre\", \"ventilation_climatisation\", \"peinture_papier\", \"organisation_exposition\", \"pose_carrelage\", \"enchere\", \"chauffage_ventilation\", \"hydraulique\", \"bois\", \"architectur\", \"civil\", \"decoration\", \"pose\", \"chantier\", \"petit\", \"platrerie\", \"exploitation_bureau\", \"gaz\", \"nettoyage\", \"entretien\", \"technique\", \"transformation\", \"energetique\", \"execution\", \"depannage\", \"public\", \"vehicule\", \"carrosserie\", \"paramedical\", \"exploitation_garage\", \"neuf_occasion\", \"occasion\", \"collection\", \"vente_ligne\", \"antiquite\", \"automobile\", \"maroquinerie\", \"chaussure\", \"confiserie\", \"moto\", \"retraite\", \"manutention\", \"norme\", \"chocolaterie\", \"sujet\", \"article_mode\", \"cereale\", \"papier\", \"roue\", \"journal\", \"chocolat\", \"or\", \"document\", \"garde_meuble\", \"scooter\", \"livre\", \"marchandise\", \"mode\", \"accessoire\", \"reparation\", \"textile\", \"article\", \"import_export\", \"importation_exportation\", \"objet\", \"manufacture\", \"marque\", \"chauffeur\", \"ligne\", \"vetement\", \"achat\", \"atelier\", \"entretien\", \"importation\", \"negoc\", \"diffusion\", \"qu\", \"site\", \"decoration\", \"gestion_fortune\", \"commercial_industriel\", \"capital\", \"gestion_patrimoine\", \"placement_collectif\", \"administratif_comptable\", \"exploitation_banque\", \"banque\", \"investisseur\", \"global\", \"poursuivre_but\", \"negocier\", \"fusion_acquisition\", \"baser\", \"gestion_portefeuille\", \"partie\", \"viticole\", \"mieux\", \"exploitation_galerie\", \"bourse_commerce\", \"titre_fiduciaire\", \"appel_public\", \"tissu\", \"placement\", \"magasin_alimentation\", \"bail\", \"applicatier\", \"producteur\", \"proposition\", \"fournitur\", \"valeur\", \"actif\", \"suivi\", \"marche\", \"financier\", \"autorisation\", \"investissement\", \"finance\", \"entite\", \"mobiliere\", \"fonds\", \"personnaliser\", \"compte_tiers\", \"propre_compte\", \"compte\", \"analyse\", \"financement\", \"prise_participation\", \"relation\", \"strategique\", \"strategie\", \"monde\", \"film\", \"musique\", \"droit_homme\", \"mondial\", \"placement_capital\", \"esprit\", \"boutique\", \"situation\", \"dialogue\", \"principe\", \"paix\", \"cinematographique\", \"concerne\", \"cycle\", \"initiative\", \"decembre\", \"individu\", \"theatre\", \"liberte\", \"essentiellement\", \"reserve\", \"interesser\", \"createur\", \"equitable\", \"droit_humain\", \"comprehension\", \"contribuer\", \"paysagiste\", \"videos\", \"enfant\", \"durable\", \"environnement\", \"echange\", \"region\", \"but_lucratif\", \"action\", \"population\", \"social\", \"education\", \"programme\", \"musical\", \"oeuvre\", \"age\", \"association\", \"moyen\", \"spectacle\", \"enseignement\", \"vie\", \"public\", \"communaute\", \"economique\", \"aide\", \"information\", \"droit\", \"relation\", \"restauration\", \"restaurant\", \"produit_alimentaire\", \"cafes\", \"restaurer\", \"cafe\", \"hotel\", \"bar\", \"consequence\", \"service_traiteur\", \"place\", \"biere\", \"hotellerie\", \"artisanat\", \"bijouterie_joaillerie\", \"alcool\", \"brasserie\", \"employe\", \"liquide\", \"brut\", \"aeroport\", \"article_horlogerie\", \"plan_national\", \"joaillerie_bijouterie\", \"provenance\", \"russie\", \"tea_rooms\", \"froid\", \"insertion\", \"reservation\", \"etablissement\", \"alimentation\", \"commerce_gros\", \"tourisme\", \"public\", \"importation\", \"organisation_manifestation\", \"similaire\", \"denree\", \"importation_exportation\", \"import_export\", \"enseigne\", \"qu\", \"manufacture\", \"artistique\", \"jeune\", \"bijouterie\", \"bijou\", \"vin_spiritueux\", \"resulter\", \"idee\", \"physiotherapie\", \"pluridisciplinaire\", \"favoriser\", \"auto\", \"patient\", \"tache\", \"autonomie\", \"apparenter\", \"domestique\", \"station_service\", \"illustration\", \"navigation\", \"scene\", \"vin\", \"generation\", \"trouble\", \"salle_bain\", \"social_culturel\", \"democratie\", \"type_family\", \"expression\", \"maintien\", \"quotidien\", \"cours\", \"exposition\", \"lieu\", \"prise_charge\", \"soutien\", \"ecole\", \"eleve\", \"condition\", \"aide\", \"local\", \"mesure\", \"collaboration\", \"association\", \"soin\", \"forme\", \"culture\", \"professionnel\", \"priver\", \"technique\", \"propriete\", \"coiffure\", \"intellectuel\", \"exploitation_salon\", \"patrimonial\", \"nom\", \"consulter\", \"equipe\", \"laboratoire\", \"produit_consommation\", \"recrutement\", \"secretariat\", \"entrepris\", \"meilleur\", \"parfums\", \"filiale\", \"france\", \"organisationnel\", \"football\", \"bureau_architecte\", \"soumettre\", \"mettre_relation\", \"stockage_transport\", \"decouverte\", \"architectural\", \"succursale\", \"coaching\", \"arbitrage\", \"particulier_professionnel\", \"direction_projet\", \"ressource_humain\", \"management\", \"competence\", \"droit\", \"moral\", \"brevet_marque\", \"contrat\", \"prevoyance\", \"ville\", \"optique\", \"marque\", \"strategie\", \"independant\", \"conference\", \"personne_physique\", \"professionnel\", \"personnel\", \"seminaire\", \"licence\", \"esthetique\", \"acquisition_immeubler\", \"prohiber_loi\", \"fiscalite\", \"mettre_valeur\", \"demolition\", \"geranc\", \"soumis_lfaie\", \"legal\", \"prise\", \"droit_valeur\", \"soumettre_loi\", \"terrassement\", \"amenagemer\", \"sens_lfaie\", \"entretien_maintenance\", \"affectation_exclusivement\", \"territoire\", \"souscription\", \"viser_loi\", \"federal\", \"pilotage_projet\", \"fusion\", \"indirecte\", \"menager\", \"mouvement\", \"apporteur_affaire\", \"estimation\", \"loi\", \"fiduciaire_constitution\", \"limite_lfaie\", \"agir\", \"cession\", \"respect_lfaie\", \"immeubles\", \"voie\", \"indirectement\", \"conduite\", \"mobilier_immobilier\", \"exception\", \"prise_participation\", \"nature\", \"bien_immobilier\", \"immobilier\", \"financement\", \"forme\", \"planification\", \"bien\", \"sportif\", \"metier\", \"accessoire_mode\", \"horloger\", \"probleme\", \"difficulte\", \"collectif\", \"salle\", \"mettre_disposition\", \"paysagisme\", \"religion\", \"homme\", \"homme_femme\", \"tour\", \"soiree\", \"activer_domaine\", \"employeur\", \"fitnes\", \"regle\", \"verts\", \"entrainement\", \"conflit\", \"emploi\", \"agir_participation\", \"africain\", \"suisse_limiter\", \"engineering\", \"camion\", \"physique\", \"calcul\", \"sport\", \"necessaire\", \"touristique\", \"organisation_voyage\", \"culturel\", \"espace\", \"voiture\", \"associer\", \"hebergement\", \"institution\", \"evenement\", \"travers\", \"cas\", \"materiel\", \"relation\", \"manifestation\", \"sante\", \"voyage\", \"qu\", \"enfant\", \"beaute\", \"detail\", \"epicerie\", \"institut\", \"meuble\", \"gros\", \"livraison\", \"chirurgical\", \"magasin\", \"magasins\", \"cuisine\", \"horlogerie_bijouterie\", \"agencement\", \"electromenager\", \"surface\", \"precision\", \"plomberie\", \"onglerie\", \"chaussure_accessoire\", \"corps\", \"controler\", \"retouche\", \"christ\", \"entretien_parc\", \"alcooliser\", \"dynamique\", \"alimentation_boisson\", \"susmentionner\", \"architectes\", \"evangil\", \"amenagement\", \"luxe\", \"esthetique\", \"congres\", \"appartement\", \"scientifique\", \"cosmetique\", \"vetement\", \"tabac\", \"soin\", \"clinique\", \"importation_exportation\", \"article\", \"accessoire\", \"materiel\", \"appareil\", \"publicitaire\", \"petrolier\", \"photographie\", \"petrole\", \"petit_restauration\", \"produit_agricole\", \"transport_personne\", \"communication_visuel\", \"exploite\", \"indirectemer\", \"poursuivre\", \"meditation\", \"limiter\", \"italien\", \"brut_produit\", \"petrochimique\", \"pauvrete\", \"musicien\", \"pension\", \"titre_valeur\", \"continue\", \"physique_mental\", \"seance\", \"exploration\", \"manifestation_culturel\", \"formation_adulte\", \"situer\", \"sonore\", \"terre\", \"premieres\", \"derive\", \"publicite\", \"deriver\", \"marketing\", \"relation_public\", \"communication\", \"therapeutique\", \"evenement\", \"negoc\", \"negoce\", \"specialiser\", \"maladie\", \"premiere\", \"regie\", \"animation\", \"agricole\", \"consulting\", \"impression\", \"design\", \"graphisme\", \"image\", \"mediation\", \"afferent\", \"strategie\", \"energie\", \"forme\", \"entreprendre\", \"dentaire\", \"moteur\", \"prive\", \"bar_restaurant\", \"special\", \"europe\", \"logement\", \"scolaire\", \"avocat\", \"encadrement\", \"limite\", \"possession_exploitation\", \"participation_direct\", \"socio\", \"marque_brevet\", \"echafaudage\", \"fenetre\", \"plafond\", \"intellectuel_industriel\", \"carouge\", \"soutenir\", \"indirect\", \"nutritionnel\", \"aluminium\", \"chien\", \"mental\", \"leadership\", \"detection\", \"aliment\", \"verre\", \"humanitaire\", \"medico\", \"machine\", \"que\", \"produit_chimique\", \"destiner\", \"evaluation\", \"etancheite\", \"licence\", \"analogue\", \"hygiene\", \"equipement\", \"etablissement\", \"social\", \"public\", \"sante\", \"type\", \"centre\", \"precieux\", \"metallique\", \"objet_art\", \"serrurerie\", \"joaillerie\", \"detacher\", \"ebenisterie\", \"instrument\", \"composant\", \"atelier_carrosserie\", \"reglementaire\", \"bijoux\", \"organiser\", \"orfevrerie\", \"piece\", \"habitation\", \"aeronef\", \"article_bijouterie\", \"conclusion_contrat\", \"semi\", \"neuf\", \"outillage\", \"maritimer\", \"elagage\", \"prototype\", \"nautique\", \"post\", \"bain\", \"asiatique\", \"lingerie\", \"second_oeuvre\", \"metal\", \"genevois\", \"aviation\", \"pierre\", \"membre\", \"ordinateur\", \"montre\", \"interet\", \"industrie\", \"economie\", \"loisir\", \"echange\", \"technologique\", \"experience\", \"transfert\", \"cadre\", \"professionnel\", \"transport\", \"demenagement\", \"rapporter_indirectement\", \"artisanal\", \"jeu\", \"perle\", \"autour\", \"fruit\", \"conciergerie\", \"photographique\", \"universitaire\", \"cultureller\", \"audio_visuel\", \"fret\", \"competition\", \"legume\", \"anti\", \"restaurer_bar\", \"laser\", \"travail_second\", \"rapporte\", \"shipping\", \"telephonie\", \"courrier\", \"superieur\", \"axer\", \"colis\", \"manuel\", \"article_produire\", \"fete\", \"mecanique\", \"montage\", \"parquet\", \"transport_marchandise\", \"logistique\", \"indirect_but\", \"egalement\", \"exportation\", \"lieux\", \"exercice\", \"nettoyage\", \"enseignement\", \"traitement\", \"rapport_direct\", \"but_principal\", \"type\", \"infrastructure\", \"cinema\", \"mise_disposition\", \"marchandise\", \"local\", \"medecine\", \"exploitation_cabinet\", \"transport_maritime\", \"art\", \"redaction\", \"national\", \"presse\", \"the\", \"main\", \"devise\", \"pme\", \"sens_large\", \"dispositif\", \"sensibilisation\", \"realiser\", \"plat\", \"article_sport\", \"assimiler\", \"culturelle\", \"traditionnel_chinois\", \"sud\", \"marketing_digital\", \"culinaire\", \"affection_humain\", \"comptable_administratif\", \"dentaire_laboratoire\", \"chape\", \"mosaique\", \"style\", \"biologie\", \"salon\", \"medecin\", \"medical\", \"europeen\", \"atelier\", \"affilier\", \"medicament\", \"buvette\", \"prevention\", \"pris_participation\", \"preparation\", \"plateforme\", \"evenement\", \"change\", \"coordination\", \"boisson\", \"oeuvre_art\", \"pharmaceutique\", \"produire\", \"family_office\", \"but_complet\", \"cf_statut\", \"veterinaire\", \"plan_international\", \"produit_pharmaceutique\", \"debit\", \"discotheque\", \"complement\", \"talent\", \"droit_enfant\", \"issu\", \"central\", \"emprunt\", \"priver_institutionnel\", \"prospection\", \"danse\", \"article_maroquinerie\", \"revent\", \"patrimoine_familial\", \"imprimerie\", \"hospitalier\", \"gestionnaire\", \"asie\", \"distance\", \"menuiserie_agencemer\", \"alimentaire\", \"public_priver\", \"naturel\", \"animal\", \"opportunite\", \"rapportant\", \"operationnel\", \"clientele\", \"nutrition\", \"specialite\", \"chirurgie\", \"cosmetique\", \"ouvrage\", \"restaurant_bar\", \"importation_exportation\", \"transformation\", \"franchise\", \"relation\", \"invalidite\", \"horlogerie\", \"deces\", \"affretement\", \"salon_coiffure\", \"vieillesse\", \"maritime\", \"navire\", \"piscine\", \"club\", \"mobile\", \"alternatif\", \"tolerie\", \"poursuite\", \"chine\", \"organisation_gouvernemental\", \"bien_consommation\", \"prestataire_service\", \"collaborateur\", \"synthetique\", \"impact\", \"fixer_voie\", \"couverture\", \"active\", \"cuir\", \"private_equity\", \"revente\", \"benefice\", \"intelligence\", \"malade\", \"agent\", \"agence\", \"comprendre\", \"famille\", \"generalement\", \"intermediaire\", \"economique\", \"aeronautique\", \"aerien\", \"modele\", \"personnel\", \"consultation\", \"faveur\", \"professionnel\", \"rattacher\", \"connexe\", \"renouvelable\", \"store\", \"institutionnel\", \"solaire\", \"utiliser\", \"consultance\", \"coaching_formation\", \"photovoltaique\", \"lier_loin\", \"automatique\", \"jardinage\", \"ventilation\", \"but_similaire\", \"course\", \"blanchisserie\", \"objet_similaire\", \"vol\", \"arrosage\", \"proprieter\", \"automation\", \"alliance\", \"floral\", \"aquatique\", \"ambiance\", \"evenementiell\", \"sanitaire_chauffage\", \"ecologie\", \"fluvial\", \"exploitation_agence\", \"energie\", \"traval\", \"architecture\", \"design\", \"thermique\", \"bureau\", \"dechet\", \"voyage\", \"telephonique\", \"entretien\", \"sorte\", \"velo\", \"electrique\", \"evenementiel\", \"pilotage_promotion\", \"objet_social\", \"pris\", \"reparation\", \"materiel\", \"expertis\", \"pose\", \"qu\", \"industriel\", \"import_export\", \"depannage\", \"exploitation_centre\", \"cabinet\", \"therapie\", \"chinois\", \"restaurer_enseigne\", \"domicil\", \"diagnostic_traitement\", \"point_vente\", \"ferblanterie\", \"party\", \"reassurance\", \"specialiste\", \"tribunal\", \"client_cadre\", \"registre\", \"viande\", \"temps\", \"approche\", \"epilation\", \"room\", \"texte\", \"interpretation\", \"histoire\", \"avocat_inscrire\", \"chantier_naval\", \"commercant\", \"peintur_carrelage\", \"comestible\", \"juridique_client\", \"import\", \"maison\", \"tea_room\", \"traduction\", \"monde_entier\", \"culture\", \"autorite\", \"soin\", \"massage\", \"qualifie\", \"medical\", \"canton\", \"offre\", \"langue\", \"pratique\", \"individuel\", \"gerance\", \"fin\", \"expertise\", \"patisserie\", \"boulangerie\", \"bateau\", \"parfumerie\", \"valorisation\", \"prendre_participation\", \"urbanisme\", \"representant\", \"etablir\", \"enregistrement\", \"marchandise_genre\", \"exploitation_boutique\", \"constituer\", \"exploitation_boulangeri\", \"route\", \"biologique\", \"amerique\", \"citoyen\", \"bar_restaurer\", \"biomedical\", \"diamant_pierre\", \"gravure\", \"analyses\", \"octroi\", \"membre_association\", \"voiture_moto\", \"academique\", \"vitrerie\", \"confiseri\", \"large\", \"traire\", \"mer\", \"disposition\", \"pret\", \"fabrication_commercialisation\", \"enseigne\", \"exercer\", \"client\", \"restaurant_bar\", \"rencontre\", \"principal\", \"membre\", \"association\", \"buvette\", \"interet\", \"mediation\", \"peinture\", \"sens\", \"sens_holding\", \"isolation\", \"direct_indirect\", \"gypserie_peintur\", \"travaux\", \"facade\", \"rapport_but\", \"confection\", \"immeuble_affectation\", \"holding_exclusion\", \"plante\", \"entrer_cadre\", \"immobilier_affectation\", \"charcuterie\", \"sandwicherie\", \"faux_plafond\", \"pose_papier\", \"exploitation_boucherie\", \"bateal\", \"cloison\", \"trust_fondation\", \"refection\", \"mandataire\", \"trustee\", \"gypserie\", \"article_nature\", \"faible\", \"pose_parquet\", \"exclusivement_commercial\", \"suisse_qu\", \"trust\", \"holding\", \"electricite\", \"maniere\", \"prise_participation\", \"pouvoir\"], \"Freq\": [1174.0, 971.0, 525.0, 482.0, 403.0, 324.0, 286.0, 370.0, 232.0, 335.0, 271.0, 417.0, 390.0, 220.0, 272.0, 222.0, 253.0, 271.0, 274.0, 186.0, 259.0, 230.0, 307.0, 217.0, 218.0, 159.0, 275.0, 180.0, 183.0, 222.0, 524.6336050532065, 116.69378291663644, 113.1623994163531, 103.81426247579883, 41.494019938764175, 37.600938149011014, 31.92729477794165, 31.60319373043809, 31.588201922395864, 26.774416041842148, 26.500433303608222, 25.191669736557085, 24.506914294637546, 23.070860774458925, 58.35799986329331, 20.670672306898776, 19.922169768247187, 19.2901366998892, 18.536603324612656, 18.477362280307297, 17.929469138958666, 16.035827909602503, 15.195181775750239, 14.840658846439895, 14.749139318934448, 14.30977864146463, 14.122008018655356, 13.973146598307988, 60.342421667270344, 12.345772361135639, 168.45746368477327, 73.69765189215357, 36.77879704065798, 36.523726390260855, 87.87481331171053, 300.212303464434, 194.50247507777354, 47.10329356374193, 54.7909253641855, 101.99200749909859, 86.10596718303661, 64.41335707682131, 55.058985132657426, 46.51070441039381, 43.75085012838035, 106.27660666746819, 36.20215565359432, 69.14928200238109, 71.16782896260182, 53.33331881515072, 82.21083164323187, 46.248482511543614, 68.24244923444269, 66.23419939119324, 44.68278743769503, 38.17101264191805, 482.10402914869263, 92.09820060752824, 76.71321920840853, 73.22061906798312, 38.962489409071004, 28.751515361658704, 20.26754155812214, 18.077773486521476, 17.162766209983698, 17.12862097308035, 15.658242369430381, 15.330424052937866, 11.304106435729889, 10.117371871179678, 9.703788217588295, 9.245235043930993, 8.644645188042103, 8.601833523302773, 246.1243418279833, 8.085425124172026, 45.07479328703014, 7.983855990195518, 7.569615138547826, 1051.5027712308447, 7.545905810478292, 7.374758226604833, 7.249779631812622, 7.183802230963897, 7.160937022608895, 7.03876423419175, 152.05679275343576, 25.512478743870428, 177.69656844906086, 280.6895725428511, 102.77276678736322, 91.60935621772995, 40.44378080295846, 24.292853893479162, 148.4527635266876, 24.52809248860455, 90.38276969144574, 123.48340118255577, 138.0441307239606, 71.67207814917012, 64.34300542523727, 85.57546168214296, 72.25834901343823, 69.09317749417548, 34.96706868701671, 47.59667953376307, 66.39920707377628, 102.67603780148382, 39.870830913966316, 34.54029021375614, 35.650795087779244, 169.1274633309438, 148.3604949739808, 92.83085642834358, 74.54623395587289, 70.66224946608068, 50.73741712992918, 40.37156698845378, 37.248758786767304, 212.45416495176926, 35.04313183268343, 26.166349577009314, 25.008206317235892, 22.69965219306698, 20.979330435883828, 18.84615045061172, 17.067746615865488, 16.886460517117662, 16.15397327449054, 14.60185594089821, 14.349947127961032, 14.339053794531832, 13.160258139266778, 12.509284398194533, 12.052226504724981, 11.47096271401496, 11.002845992977397, 10.757475471555045, 10.749773628941202, 10.400224547138045, 9.50308973187267, 161.14916912337782, 47.75453040351093, 17.599400355887663, 37.408223846797135, 37.9660816741521, 99.62951859872763, 217.19234871206038, 25.099986820556165, 32.50516209510528, 91.84958311987543, 29.800664516865616, 45.84359249724658, 134.53160104993526, 166.77338304222016, 75.89068797105477, 127.50902785580514, 313.7859511701677, 51.424701558088145, 60.316518319757215, 74.24883335024056, 39.617927048823084, 42.382333505311905, 51.13695562590761, 41.36993966055649, 42.68007019134921, 41.07794180204038, 40.629274461408485, 61.628745164692184, 50.99013132657405, 35.4998952839138, 32.53493790308728, 28.560486245150337, 28.02113361044665, 27.17101721469089, 25.18649873539625, 24.45080252474412, 24.112131244187996, 22.545503310935278, 22.3603201633366, 19.964196402348016, 18.098962524442737, 17.4590940248936, 15.47697443582206, 14.83775079923612, 14.209702637802422, 14.20352162630016, 14.172874513974122, 13.969720110362688, 12.813045534846516, 12.806808635220776, 29.28038116366088, 12.06917461136423, 11.20492389422675, 10.851332634245413, 10.650260063233507, 10.53647936723505, 10.522081726810024, 17.037830845554147, 21.161726270897667, 38.78146103378219, 102.78684864934472, 56.47142782198873, 146.50636502016982, 32.76389219908471, 40.51090611752664, 48.25095981505244, 29.76760307641955, 74.62321537083353, 82.5503868048476, 36.02532747678523, 74.51946981731406, 42.06615221947889, 102.49884425180714, 50.72285712376013, 28.483001661035544, 44.57772579676901, 33.39180171498132, 63.15483916162142, 38.61441143270867, 34.61783237696116, 39.065067465910744, 30.232489085676214, 33.550352022199874, 30.034028209665266, 28.693646147964532, 221.80581926598853, 401.95693690458694, 103.28356926071848, 91.67567395226932, 82.42712544460576, 74.2411217623781, 68.90993744221119, 67.04235398802645, 64.6329225652829, 63.53482735047163, 51.75924854776742, 44.72871226631069, 43.25089079995528, 37.57750586644838, 28.13846853307322, 27.751511971116603, 24.40033466191853, 23.917198204353365, 22.95060834971117, 20.295043746828735, 17.2739906331833, 17.19895367017233, 17.181654907137943, 16.289351584533478, 16.26101719217326, 16.07066332135057, 15.435441905441438, 14.856158268604428, 14.139530427881478, 14.109234077704295, 55.19165847624055, 84.2454994388395, 81.1367767666717, 181.68119527376075, 88.70779510962969, 37.21931105400023, 36.468131694557, 45.494732573993105, 94.49349931659744, 26.786930081639863, 69.15760829017535, 90.56106107696257, 83.95134685549738, 49.42591123466472, 28.97431163760376, 56.63375779245285, 36.463355109397625, 38.15104369665104, 285.83779071778497, 118.98732136961571, 37.21978381040272, 34.96172728436528, 27.94200456682165, 27.706883934875016, 26.647181238965512, 21.133180128076695, 21.007619641658973, 172.8380036970238, 19.475494897587993, 19.172817490858673, 19.154151086731893, 18.877864933035806, 16.903381668162883, 16.456485293811017, 14.708958089809752, 14.15478139072162, 13.544745120752617, 13.318971555982793, 10.82068609406802, 10.795841791546565, 10.474257321936072, 10.257917976484569, 10.083622606754313, 9.993399342622649, 23.24672255764875, 9.640980841492466, 8.89686199217753, 41.43586769241184, 163.85006672660438, 46.59324620170792, 185.822991410536, 194.22647027415394, 47.0556635801703, 130.89243066645912, 137.9876845797335, 215.38674085312644, 100.37892095447245, 49.17891555059862, 59.71056651917917, 23.741128733505803, 30.686025395372727, 38.736171650739905, 46.585557005950264, 43.74553017060537, 54.92007079540798, 34.15669899178819, 32.01239383699404, 28.742399930785357, 32.91265565147431, 24.36041204376193, 26.85538968576035, 162.0115054054565, 122.73409887200556, 84.72747471133205, 80.35159767568442, 36.519230890911885, 29.131765211101357, 27.984702414262774, 27.44801883375863, 26.886297995005265, 24.509190162212764, 23.835895862081063, 22.570180854523073, 21.045798736528294, 20.352692108273814, 19.29053150812123, 17.134212960217475, 16.360090736316693, 12.210731734337546, 10.53147595684474, 10.328362147605246, 10.001978114198776, 9.799514017044997, 9.185391175234633, 80.20649012255265, 8.146444651737449, 8.105825002282776, 8.079638103786076, 7.487239280374651, 7.31498095946933, 7.3045097015130285, 124.13215478473558, 93.26689353583592, 18.129636068643364, 109.71583726298857, 554.6470225555556, 14.784533092720133, 196.35150469859144, 48.14469264125754, 36.30953339737867, 86.82302572676377, 55.1960723744056, 23.434286257049642, 44.148523688566286, 30.35561658453756, 33.840713062474755, 38.50717480108137, 48.136440908719806, 46.01536048786016, 34.702421922218086, 24.57564753854921, 26.45734212500084, 62.719233066161266, 53.874965209266996, 49.20184430928726, 34.958910407300586, 29.53929574168278, 24.927678221259672, 24.641384710239443, 22.146514649786102, 21.683891288885654, 21.485165224544076, 20.61608330338951, 19.762107993092698, 19.29237574732205, 18.221517672182504, 18.08288796297318, 17.266076169353177, 16.183637342725994, 16.173707032732214, 14.839576800325888, 14.781512608910091, 14.422870750260177, 13.740696257096193, 13.719906226479695, 13.479933877341304, 12.893613153596364, 12.254635047888135, 24.532737714157108, 12.141896985376608, 11.723546948057516, 11.099612754870966, 74.2913764410676, 74.18695789453322, 61.05347842574919, 100.09307684355117, 32.10000274315707, 23.137935777181557, 54.63124729160831, 20.832685769788597, 106.22350623344036, 55.865419779685446, 54.96788572243172, 32.41038901185022, 40.22558170239585, 30.83929226229991, 51.620646535526426, 43.54033946307451, 30.502028692184417, 37.42977438131029, 28.82571491434906, 52.24480478306103, 25.789057467419994, 42.14051797107518, 33.82158103150446, 30.011823595615088, 27.47020639340831, 26.737917489029677, 185.11819906708746, 158.74294322718222, 149.80776105959137, 105.95420303548308, 104.50252576371547, 218.5093645417722, 96.33968483416267, 70.16449428201776, 43.36508611007316, 41.553411555683056, 41.123225307721526, 23.294956000032492, 67.05553096844865, 19.23772657048575, 18.672955837076085, 13.883056505533336, 12.8282254858846, 12.005535696660605, 11.402769011834362, 10.748851679500076, 10.621175980321503, 10.102339895260098, 9.923809390806687, 9.918145673187029, 9.733416720232551, 9.15985456816019, 8.726606273982782, 8.332217727261147, 7.411301197414761, 7.347702236473678, 213.85754759502314, 48.69735284954737, 16.943753237857152, 29.187063823725627, 150.0053773431966, 58.07953839311568, 19.59399181124657, 31.233276405242645, 21.182458937837133, 49.93101496201481, 37.72091939051078, 22.982590899000137, 32.05906858280523, 14.354132263438354, 95.63753293363041, 46.42060797732735, 31.094496889959835, 25.478578274964185, 25.373941491106507, 23.261314420794292, 20.622764147207185, 19.705992829864805, 19.482924745232072, 16.709828511628647, 16.240704948909446, 16.12751886418885, 14.644680381991856, 14.535409258758207, 14.155955258114773, 14.001633837740126, 13.138158909539346, 12.928348781043127, 12.662228010597588, 12.491476831575744, 67.08086449488695, 11.66154141113264, 11.392837420085616, 11.141298171913313, 10.35901707766403, 9.978512993387136, 9.843792391011398, 9.548680245742906, 9.325255444801568, 9.286932222713693, 61.25371929038632, 36.47572292761607, 34.007026097007476, 22.757827187012744, 58.97600837140524, 43.454479172275796, 19.986927731343147, 19.035705050179217, 59.31721346585842, 50.684987951734016, 25.037352900213858, 21.241586681468682, 34.71040525958806, 30.38612369905878, 29.75750632949015, 22.08162386187611, 23.486188381739343, 19.635706340207904, 20.44251539646871, 108.79758645661774, 84.22296466508935, 68.4447330028965, 64.71289150199385, 33.614827898277646, 33.25848328225034, 30.03018431843427, 24.702293758295422, 24.000999943264198, 22.370530480553207, 20.51505086562733, 20.056649672301184, 18.948768614906747, 17.481834725937567, 12.889106138067481, 12.230232933667873, 11.868961544876052, 11.361666678689504, 10.976958695917478, 9.518784904927578, 9.49832528633026, 9.439815165658697, 9.340732618429485, 9.176467343326198, 8.945607062638135, 8.87049568374678, 85.3506779893556, 8.441468099615344, 8.160237807792655, 7.814853438753794, 73.26770114668399, 108.9690508136697, 26.109121166803252, 127.15710244576142, 29.341307944129497, 19.270630975880707, 37.79669853954985, 26.68067393249857, 17.27445521892869, 14.225550868131373, 71.84453166752371, 70.84719558025867, 21.453382019592244, 36.68110517937026, 21.73780208568124, 56.09086980858987, 41.99288634860462, 26.25645162695945, 22.139721006518972, 19.688986217395374, 126.62042329473715, 59.42833471276012, 58.203997421217466, 55.519784383588, 38.61876829279612, 38.59525397209285, 37.97428816295868, 34.72276997834621, 105.76966394662483, 24.228995047408244, 23.755112171611348, 22.549425622018173, 19.88608514047458, 19.055039466508344, 16.33436775217359, 31.994515905500165, 36.94540367209044, 14.559266131381543, 13.691161643863497, 144.13890899792534, 13.243388353680016, 11.739042176642613, 11.71793058299922, 11.338657174038822, 10.549693008563885, 10.489793393505817, 10.308780931602177, 45.65554573907427, 8.750851107553718, 8.647082651507441, 17.01866906879587, 32.11730710115381, 31.447990315188566, 15.471455247591694, 25.094066882144944, 39.48286944614425, 24.122528155226384, 35.66597294616739, 83.24820499227785, 104.06202032299059, 62.2358010368839, 88.58894630434072, 122.22456184618768, 58.10458104714537, 45.69202766563318, 29.817838453664308, 27.285138899602263, 96.380958315164, 48.51695175026314, 30.88355559998438, 29.457596665962825, 28.53329256233009, 24.941884288485205, 21.98376032115608, 21.686618857633185, 18.928686742842594, 18.24424248779014, 17.287756894485344, 15.595592390561807, 14.546564901018806, 14.14563669662988, 14.039466514185014, 13.621420343303118, 13.262896998251712, 13.201568273648107, 12.816123101142919, 12.119629464220843, 11.845601924652808, 11.667726642195566, 11.591835793515354, 10.912597325419448, 9.815561949319239, 9.774577960217687, 9.730772344075245, 9.72053676268379, 56.63124427642685, 9.61861123252625, 70.85154346576955, 58.42710932079765, 27.2111993862251, 15.166136157582791, 54.612062680510306, 30.29967131678887, 25.259739712637195, 21.988884936051626, 16.827950930733017, 29.82830731355388, 48.35587190106533, 25.457664494162223, 19.512723313444585, 31.112113136990995, 24.70685310002938, 16.94951363462192, 19.880363789453977, 16.467753860883935, 17.655733552127916, 16.560884793317033, 111.52687210146911, 105.55809798663961, 70.46754013784569, 56.08276303268144, 51.146757735988444, 40.017185319962884, 39.34279771870139, 31.697602749996378, 31.61157350992493, 28.40698217032551, 28.16792204664912, 25.001460327312287, 20.757318707834468, 18.057405239610812, 17.9906569347705, 17.38114121446928, 16.7425258954609, 15.626079450094226, 14.861760906627811, 13.185357228256922, 13.138204742899159, 12.262082252090702, 12.032072188058468, 11.503249851059214, 11.449611465768271, 10.212130670616855, 9.780834427095927, 8.710561463323515, 8.542265849985066, 8.003440212835091, 110.09505333409494, 45.69428501528818, 86.04580298307006, 16.621003475086464, 19.59129230579001, 33.48758517785367, 74.55202971668648, 60.33381493018583, 26.408612207464028, 76.38561216302871, 19.72957229350808, 72.09751842722117, 44.68857047951668, 44.11109280050517, 30.546008065711217, 17.815635680080177, 67.88875653916418, 53.83095325732883, 51.63461333839056, 37.86005699776415, 33.916447781919366, 32.103654368571036, 52.49455383054815, 25.362308831148557, 12.938272471701508, 12.339578472933596, 12.204202722878492, 11.728939679623844, 10.223056184331268, 9.674028387123762, 9.641195733190434, 9.621438111154827, 9.465828923962388, 9.412528455126486, 9.316012114974193, 9.041571282932798, 8.529352796139365, 8.494036585043023, 8.480251360278336, 8.354826075889143, 7.768986850396193, 7.738713291038171, 7.447782712489193, 7.008621610610147, 6.941537328923804, 6.922710864335046, 28.20837780127901, 106.20395256639989, 61.673634265965454, 141.56750232366346, 37.46267090871095, 164.3826924361617, 29.51437024280518, 128.659838740954, 74.71745156348094, 38.38965756087018, 40.42079221742645, 22.081812201656966, 29.910590090689162, 17.38277521015295, 25.079615360325, 22.36498431141074, 39.7249246324236, 14.412020092742363, 39.41546973893503, 20.979592872123295, 19.750587878822053, 19.871577634599756, 20.627988102575912, 30.98144515710789, 27.742784958711958, 23.480870970869358, 20.936837284851897, 79.18295871102663, 35.04955329136613, 43.64045048154377, 28.199387940019545, 27.128371622425206, 25.472754423244368, 25.150168135346405, 24.981862721271487, 22.981368085549946, 22.17094122568518, 20.765295333191702, 18.885972779901625, 18.721740549233843, 16.70860278500971, 16.371430374041914, 15.829806291417054, 15.158272116334354, 12.490152523150984, 11.724470559976414, 11.647121066687403, 11.637102757146605, 47.394889865706226, 10.998391799711074, 10.929941549471602, 10.667823110785104, 10.561447574182514, 9.84650823952156, 9.373706062918375, 9.319248926155076, 9.221077827582727, 34.77067754932334, 29.591911104085607, 53.41908030150546, 35.858158764621805, 28.98356524388482, 60.62174749845408, 33.05579491669698, 22.21214446139205, 32.05104810438479, 24.394857008153103, 25.489765873569375, 36.90916305800249, 57.211018660986745, 42.14926090559268, 49.17214781619093, 34.28295038702537, 35.869805800972834, 23.533148482252376, 92.97155405062705, 46.95565003387137, 36.85275491136654, 36.676264468116976, 34.173539826266015, 30.14901947973108, 25.165208811404273, 24.805353291644327, 24.64553688338937, 22.015471922609922, 20.558580385738818, 19.527993966454428, 18.580795888406897, 17.97222734845069, 75.66769468981556, 14.919277718041398, 14.737809718508615, 14.103647508028383, 13.45606432136533, 13.104152649250286, 11.574542855948598, 10.58727454150799, 10.485692038272926, 9.823295561065246, 9.785298225131612, 9.363786406009494, 9.359780744839972, 9.27965065277599, 8.944850303577203, 8.510161455243392, 25.707414692081933, 59.09910707106526, 23.441388682099213, 17.71485680595995, 45.799969424419245, 95.09037363461766, 17.57082688095359, 19.64673126187986, 51.73466981511729, 47.83553561656128, 27.162031553206305, 20.32617158730966, 35.8866340743831, 18.59235092977865, 17.130758223352252, 17.801893971041544, 21.880771671658913, 22.086598035776817, 230.85492563149947, 53.79985426286055, 38.38636276792608, 37.76218055842367, 22.92871555704944, 17.953418760392093, 17.291660154558837, 16.92202635059835, 16.444339392006757, 15.104584660429936, 14.645767451448224, 14.083199240189945, 13.909628909719208, 13.915467993142373, 13.524076263800598, 13.50125064181572, 13.285829364686949, 11.653900900370683, 10.804669324743081, 10.380513988931064, 10.112197190289487, 9.673472375265717, 9.591981153413254, 9.539423756735545, 9.428778520808294, 8.913318187781545, 8.7049228812522, 8.616066309327609, 8.518095422506676, 8.339553590518042, 83.78552745895274, 52.45307105140909, 20.71393515528188, 27.46314900888182, 56.95630668450481, 24.597493982522078, 63.069372849744006, 21.087366747278878, 17.34195606694986, 47.05715574235397, 94.67120998862, 42.189417773110556, 41.71794503458663, 20.2639091920127, 17.838028485035014, 37.5712096589809, 19.35425050531723, 16.785307235921593, 23.007230778498005, 23.75026982706574, 16.397809901712073, 69.54005018805694, 64.58628238614368, 30.454301157402842, 124.45594968139824, 24.203210092910417, 23.965498239026772, 22.817499430568784, 21.286221278255464, 18.051943873821102, 17.138845739295768, 16.45504257412033, 13.775691854078199, 13.694856451915758, 13.600742001673357, 12.54518378387629, 12.077199055471478, 11.909632268143168, 11.038751798840337, 10.94281716014046, 10.897920367855061, 9.58014139911116, 9.323811872505122, 8.6252848103075, 8.028000080145066, 7.986382006414439, 7.983997321602014, 7.563834773336807, 7.488520014662545, 7.419269576682389, 7.334997230432598, 19.870056364722387, 23.617197444862086, 249.6374050679643, 28.030086134478463, 93.87667890523464, 30.073477283466612, 23.061169130070102, 26.263194698503057, 34.12047002382938, 19.46579131865146, 20.705999922632618, 17.299705191641568, 28.74825398186477, 12.599576487447681, 12.82788284463538, 76.92485521067877, 57.24069546788321, 45.631289537226785, 43.935511514505315, 42.00383092807456, 38.91878240473783, 38.04901493072869, 24.00333172287892, 22.816046230088702, 20.752142287580547, 20.038032592452986, 19.286961123212738, 16.62510169283953, 15.194820358439042, 15.194102953909201, 14.045227109605635, 13.257211682590361, 13.006111782855765, 12.143877056409933, 11.38643802808944, 11.021285061180555, 10.713102803334142, 10.012690308600792, 9.68652364564087, 9.602273154228929, 9.122441172815913, 9.085899864272038, 9.025580277607114, 8.641669082652287, 8.179027491570993, 120.18507051553017, 29.10737276474652, 19.51427027338992, 23.584298587613922, 15.537959458533294, 30.434825324699506, 24.816018026532088, 41.675563718904336, 17.012438375648756, 18.747263871745165, 18.0236259992362, 33.79304819013351, 19.10260953864928, 20.757195000941365, 40.49485839349046, 21.353374793819484, 16.498412091239814, 18.054722634990696, 49.17515127297702, 43.05044035958384, 42.326419470930105, 37.929810446990444, 31.94867530321591, 30.542406533261786, 29.7842701304934, 27.04627057628404, 26.72213753448478, 23.26063412841778, 22.320340313729147, 22.071656757842582, 17.88899288005196, 17.13910009413163, 15.45412620501432, 14.759652186371824, 13.714479017620445, 13.617993711370138, 13.50347451824919, 13.375644970539156, 12.202311305956103, 11.603696355030715, 11.489102503579298, 11.28131388393547, 11.21810724991648, 11.179889984839717, 11.169475704890816, 11.05565852293698, 10.932568107756655, 10.820290893156699, 28.285826179994334, 34.310238640766016, 21.561495213973014, 27.879720519945458, 27.797351209671255, 27.358431541925484, 65.59159550016874, 17.22755238688401, 18.19888958110361, 17.583313817520164, 30.028213439546818, 18.107832046908843, 17.331359781037616, 15.58014389533115, 60.8699280881601, 57.07623203757152, 34.27682001363672, 26.50399909759502, 25.23114529911912, 21.91617165842651, 20.752223887557065, 15.512912621699039, 12.221147896959291, 11.342628743132162, 10.89738533077257, 10.88704182789524, 10.45768188876457, 9.82158649779264, 8.65834012276791, 8.28105312383259, 8.135232872094235, 7.892648361103332, 7.891819034216361, 7.702440487477654, 7.578137124602851, 7.414625678386309, 7.340456266083798, 7.300113490019445, 6.841397270244567, 6.614888685267891, 6.582110527354306, 6.5200305985449525, 6.355689825441441, 6.153087658708884, 44.50849558582095, 100.03968996430117, 25.170559382394543, 73.28436532819767, 92.54389203960366, 19.759906178090088, 73.40749951259063, 13.094111506220989, 35.55784137482776, 14.871377380321631, 126.19204333738236, 27.52565862593621, 20.0166893661056, 38.180986187878815, 30.408888360336814, 12.541881031888778, 13.518009346069265, 15.289347006916167, 39.02606527970417, 43.60242787259888, 20.152334093987324, 17.861614200684077, 21.683310462868956, 19.835975088259133, 18.626785338628867, 15.268710061134565, 87.15821017604861, 67.40395757502509, 29.934094179775954, 26.747790531845762, 25.752871403849582, 24.656838787906917, 20.976675534500618, 18.959728079287018, 15.826454154548966, 15.398825148444722, 15.045166498294735, 14.772872463376805, 13.150546682489205, 12.114991518837432, 12.053622560108794, 11.970689839550822, 11.699755172003947, 11.31934927218992, 11.205573719336357, 10.965606304245359, 10.263443700338044, 9.916242559333458, 9.573802288924925, 9.452492632646464, 9.041192487247471, 8.969684827854238, 8.859251138809999, 8.850613706195132, 8.810752982943303, 8.761208052504946, 37.62753150150724, 37.864760644806175, 31.464719217735706, 20.096564338208633, 40.064361008382186, 26.36361398138903, 43.23797996955797, 20.19118741250451, 16.825814362481292, 58.687920210298536, 17.8951665660361, 16.152976870567244, 13.366141113619463, 16.056975920116134, 13.504065488492094, 15.848737702429538, 13.649764580983893, 14.974698415612648, 73.819423203672, 41.852906450275164, 40.26946115874607, 35.81138633819425, 31.743142751312224, 20.825057429852453, 17.788243772052375, 16.998514841389383, 16.098027845077098, 15.794453756352153, 13.527671603462222, 12.923480037585783, 12.808341991615684, 12.27179390288977, 11.485994468824735, 28.718553084199943, 11.19988636319889, 10.913271837955566, 10.833509249919683, 10.709661186071044, 10.400165883357111, 9.485309355255756, 9.124367013453284, 31.445469899471043, 8.92529316216559, 8.623236334582561, 8.544914095833473, 8.539299530409703, 8.455133988382007, 8.1130909869786, 20.904851981256698, 12.96222163775058, 20.59509098304326, 55.086056590245605, 31.390257176047403, 45.63301825077194, 25.50269062539072, 32.00193815867307, 29.621765956520317, 18.862590516291352, 18.074571625835706, 42.98100159612471, 24.967446042780804, 14.619765009128722, 15.767027188587367, 13.273974353355053, 68.34080325413879, 54.84086752794956, 47.7805484634255, 43.010806281457924, 38.44293552278952, 30.735601592782842, 28.710720790275133, 24.868476832380907, 23.212507881794604, 22.823211723829388, 20.524542046605728, 19.421079938298647, 18.526904652472542, 18.387906126344426, 18.152707980465703, 17.420698903233177, 16.64188709602816, 16.420076025732836, 14.583817699070584, 14.041225807470799, 13.973182566267013, 13.780038759381762, 13.603707794912946, 13.012777680501673, 12.932003945372077, 12.924569624528662, 12.72300000173205, 12.232714205381686, 11.678424942579559, 10.934865137022106, 39.28116891608938, 74.43560669209883, 24.338218079813288, 31.933619028447318, 33.205306061392925, 21.70980060585199, 26.668931590959897, 19.088626343951926], \"Total\": [1174.0, 971.0, 525.0, 482.0, 403.0, 324.0, 286.0, 370.0, 232.0, 335.0, 271.0, 417.0, 390.0, 220.0, 272.0, 222.0, 253.0, 271.0, 274.0, 186.0, 259.0, 230.0, 307.0, 217.0, 218.0, 159.0, 275.0, 180.0, 183.0, 222.0, 525.5163799656648, 117.57655782909471, 114.06599291522262, 104.69703763584842, 42.37679485122245, 38.48371306146929, 32.81006969039992, 32.48596864289637, 32.470976834854135, 27.657190954300415, 27.38320821606649, 26.07444464901535, 25.38968921375992, 23.953635686917192, 60.64247910129465, 21.553447219357043, 20.804944680705454, 20.172911612347466, 19.419378237070923, 19.360137192765563, 18.812244051416933, 16.91860282206077, 16.077956688208506, 15.723475105068859, 15.631914231392711, 15.192553553922894, 15.004782931113619, 14.855921510766251, 64.41298979695527, 13.228547273593902, 180.97498506785536, 80.83680493598871, 39.96596914852582, 40.044617421414195, 103.36304015930673, 417.6310344605612, 262.02505424609774, 55.25142897710249, 65.34608409414109, 134.33100467411333, 117.81575626667896, 85.32118857273602, 80.87266937780663, 68.51535715568498, 65.99900146647983, 285.2899810027852, 48.99860440914126, 172.8381727854259, 197.9649531908577, 112.830610550632, 305.6447270216601, 85.27607088154501, 253.81729892730294, 298.9244564524916, 83.66267547648987, 272.74562164863306, 482.98960900877347, 92.98378046760908, 77.59879906848937, 74.10671937626427, 39.84806926915184, 29.637095221739532, 21.15312142540636, 18.963353346602304, 18.048346070064525, 18.014200833161176, 16.543822229511207, 16.21600391301869, 12.189686295810711, 11.0029517312605, 10.589368077669118, 10.130814904011816, 9.530225048122926, 9.487413383383595, 271.80892411178286, 8.971004984252849, 50.03833282854584, 8.869435850276341, 8.455194998628652, 1174.576482513861, 8.431485670559118, 8.26033808668566, 8.135359491893446, 8.069382091044721, 8.046516882689719, 7.924344094272574, 179.0515610025731, 29.557292274299524, 219.39472685352226, 370.12766828402107, 135.01650962030592, 121.52045445235447, 50.778688876595766, 29.50084931211922, 305.6447270216601, 34.27566046432512, 174.48012412055283, 284.664043336975, 335.2445968444066, 166.15471530534234, 154.63703775744673, 283.6128253461726, 239.4385262844215, 247.8559027700075, 74.92725421089399, 148.20491961852474, 313.4610366594669, 971.9211405586866, 129.6783778360018, 86.26343088979361, 146.93580098903072, 170.01149182334942, 149.2445234663864, 93.72783832629054, 75.43026244827854, 71.54627795848633, 51.621445622334825, 41.25559548085943, 38.13278727917295, 217.6942904561486, 35.92716033068006, 27.050378069414954, 25.892234809641533, 23.583680685472622, 21.86335892828947, 19.73017894301736, 17.95177510827113, 17.770489009523303, 17.03800176689618, 15.485884433303847, 15.23397562036667, 15.22308228693747, 14.044286631672415, 13.39331289060017, 12.936254997130618, 12.354991206420596, 11.886874485383034, 11.641503963960682, 11.63380212134684, 11.284253039543682, 10.387118224278307, 184.3975195828615, 53.39396222969315, 19.382687983378116, 42.67110873960606, 43.448412668365, 120.03997244918995, 274.6737758726396, 28.281170258585306, 37.47418863791821, 116.0644485269242, 34.37548715299179, 56.678267233297895, 222.46765825328086, 298.9244564524916, 115.19709255587638, 275.07492672247366, 971.9211405586866, 87.74244879270614, 117.8269396960372, 239.4385262844215, 69.27012056194246, 86.29001017740467, 285.2899810027852, 197.9649531908577, 305.6447270216601, 212.79094913385853, 313.4610366594669, 62.511477311529646, 51.87285836212462, 36.38262231946437, 33.41766493863785, 29.44321328345855, 28.903860645997216, 28.053744250241458, 26.069307810259016, 25.333529560294686, 24.994858279738562, 23.428230346485844, 23.243047198887165, 20.846923441767196, 18.981689564346052, 18.341821060444165, 16.35970147137262, 15.728961809090485, 15.09242967335298, 15.086248661850718, 15.05560154952468, 14.852447145913246, 13.695772570397073, 13.689535670771333, 31.328165484363424, 12.951901646914788, 12.087650929777308, 11.73405966979597, 11.532987098784064, 11.419206402785607, 11.404808762360581, 18.48350380793568, 23.71874622629051, 45.795817235512985, 133.64091528476513, 70.54992740520007, 201.6284611016537, 40.24642821352396, 51.72852403191346, 63.44790278084933, 36.17121188478983, 113.66648990473435, 131.69539932827473, 49.23051181390606, 131.47139989802443, 65.82727122552132, 264.95858902034416, 94.78709106330949, 38.77695239705096, 86.72455317950485, 52.2237012224536, 199.65012321580605, 158.90751522258012, 119.44841064439673, 275.07492672247366, 71.31554177054774, 222.46765825328086, 272.74562164863306, 52.50326000750411, 222.69059490299114, 403.60001232148824, 104.16834318053834, 92.56044787333437, 83.311899513017, 75.1258956797475, 69.79471139828179, 67.92712790539585, 65.5176964826523, 64.41960127290974, 52.644022465136814, 45.61348618368008, 44.13566471732467, 38.46227978381778, 29.02324245044261, 28.636285888485993, 25.28510857928792, 24.801972121722756, 23.83538226708056, 21.179817664198126, 18.15876455055269, 18.08372758754172, 18.066428824507334, 17.174125501902868, 17.14579110954265, 16.95543723871996, 16.320215822810823, 15.740932185973811, 15.024304345250862, 14.994007995073678, 60.099559014282256, 92.57605705913032, 92.8186206441339, 218.1272302961266, 107.41801049734748, 43.237094121166315, 43.116671748545905, 55.93164478671107, 148.20491961852474, 35.05194146974092, 164.67733322096063, 272.48703541306384, 285.2899810027852, 129.6783778360018, 39.97885165544098, 274.6737758726396, 82.40111688716563, 307.2868348844859, 286.7241827757108, 119.87371342754159, 38.106175868328584, 35.84811934229115, 28.828396624747516, 28.59327599280088, 27.533573296891376, 22.01957218600256, 21.894011699584837, 180.5757328301892, 20.361886955513857, 20.059209548784537, 20.040543144657757, 19.76425699096167, 17.789773726088747, 17.34287735173688, 15.595350147735608, 15.041173448647477, 14.431137178678474, 14.20536361390865, 11.707078151993876, 11.682233849472421, 11.360649379861929, 11.144310034410426, 10.97001466468017, 10.879791400548505, 25.312480368811574, 10.527372899418323, 9.783254050103388, 45.600061990675265, 195.13437717247868, 53.986626673133564, 230.78566302054477, 259.1441427256352, 58.68649632425579, 184.88326564422988, 221.86885050941422, 390.7206662168297, 164.91125661696398, 69.8070799162093, 148.60446213468597, 35.356633666589076, 56.75574380273271, 103.07778169263952, 154.63703775744673, 138.47329767600948, 272.48703541306384, 119.18342485655431, 125.49318091910717, 104.57260247274465, 313.4610366594669, 44.8290664215796, 218.1272302961266, 162.89605667048292, 123.61861346796886, 85.61198931701603, 81.23611226744939, 37.40374548267686, 30.016279882333595, 28.86921700602774, 28.332533425523597, 27.77081258677023, 25.39370475397773, 24.72041045384603, 23.45469544628804, 21.93031332829326, 21.23720670003878, 20.175046099886195, 18.01872755198244, 17.244605328081658, 13.095246326102504, 11.415990548609699, 11.212876739370204, 10.886492705963734, 10.684028608809955, 10.069905766999591, 88.55433998406899, 9.030959243502407, 8.990339594047734, 8.964152695551034, 8.371753872139612, 8.19949555123429, 8.189024293277988, 147.12400356738124, 114.406951738656, 21.46679071249155, 158.90751522258012, 971.9211405586866, 17.503954480103133, 335.2445968444066, 72.4656526479139, 53.982444929429725, 166.15471530534234, 93.68858346657704, 33.86580574089358, 86.26343088979361, 55.848062573016676, 76.75139754850349, 123.60180452751702, 284.664043336975, 283.6128253461726, 272.74562164863306, 64.389327342661, 164.43273066100897, 63.59988212757342, 54.7556142508177, 50.082493350837964, 35.83955944885129, 30.419944783233476, 25.80832726281037, 25.52203375179014, 23.0271636913368, 22.56454041150563, 22.36581428931849, 21.496732553926982, 20.642757034643395, 20.17302478887275, 19.1021667137332, 18.96353700452388, 18.146725210903874, 17.06428638427669, 17.05435607428291, 15.720225841876578, 15.662161650460781, 15.303519937627918, 14.621345298646883, 14.600555270836388, 14.360582918891994, 13.774262195147054, 13.135284089438825, 26.30511805212046, 13.022546031574429, 12.604195989608206, 11.980261796421656, 91.69422046103233, 93.02596747713088, 78.43397503912651, 136.82609608228685, 38.583325672377285, 27.059031905434075, 76.41594675847954, 24.299945375647606, 182.3094741794654, 86.10880000936636, 96.83207206584662, 47.989967406290745, 71.49822063188823, 49.10008458411818, 122.57935165164056, 96.76171214316257, 52.935911385297395, 97.58755889838896, 53.93268993748312, 307.2868348844859, 42.0147678737062, 275.07492672247366, 120.63700775655592, 133.64091528476513, 212.79094913385853, 272.74562164863306, 186.00447094791667, 159.62921510057626, 150.694491696939, 106.84047490887716, 105.38879763710955, 220.43055985409148, 97.22595670755675, 71.05076615541184, 44.25135798346723, 42.43968342907713, 42.0094971811156, 24.181227873426558, 70.01012971776929, 20.123998443879817, 19.55922771047015, 14.769328378927396, 13.71449735927866, 12.891807570054665, 12.289040885228422, 11.635123552894136, 11.507447853715563, 10.988611768654158, 10.810081264200747, 10.804417546581089, 10.619688593626611, 10.04612644155425, 9.612878147376842, 9.218489600655207, 8.297573070808824, 8.23397410986774, 271.91726902913524, 65.68127970509293, 21.12428828257231, 40.79145248107913, 307.2868348844859, 119.18342485655431, 27.49472200082736, 71.7809086363774, 47.37497702226244, 390.7206662168297, 221.86885050941422, 69.4649800352801, 313.4610366594669, 69.8070799162093, 96.5203846411547, 47.30345926573959, 31.977348178372065, 26.361429563376415, 26.256792779518737, 24.144165709206522, 21.505615435619415, 20.588844118277034, 20.365776033644302, 17.592679800040877, 17.123556237321676, 17.010370213862682, 15.52753167040408, 15.418260547170432, 15.038806546526997, 14.88448512615235, 14.02101019795157, 13.811200069455351, 13.545079299009812, 13.374328119987968, 71.98390080218753, 12.544392699544865, 12.27568870849784, 12.024149460325537, 11.241868366076254, 10.86136428179936, 10.726643679423622, 10.43153153415513, 10.208106733213793, 10.169783511125917, 69.25406712888172, 41.190952629969075, 38.414138541165755, 27.247775453416953, 88.03299008592937, 61.49576310879938, 25.27154524302237, 24.327077768070932, 120.63700775655592, 119.44841064439673, 55.299550108879515, 40.03696436591099, 122.57935165164056, 159.72942049238057, 184.16012812425214, 69.97722710622891, 264.95858902034416, 116.33311556371491, 285.2899810027852, 109.6817016765218, 85.10707988499341, 69.32884822280056, 65.59700672189791, 34.49894311818171, 34.142598537273805, 30.91429953833832, 25.586408978199472, 24.885115163168248, 23.254645700457257, 21.39916608553138, 20.940764892205234, 19.832883834810797, 18.365949948014357, 13.773221357971531, 13.114348153571923, 12.753076764780102, 12.245781898593554, 11.8610774429237, 10.402900124831628, 10.38244050623431, 10.323930393873306, 10.224847838333535, 10.060582563230248, 9.829722282542185, 9.75461090365083, 94.25787717082042, 9.325583319519394, 9.044353027696705, 8.698968658657844, 84.05018817987259, 136.16208615788193, 32.62142604992534, 212.79094913385853, 39.59686392517891, 24.373947371634387, 56.66743783507467, 39.64406554731018, 22.667950726346923, 17.570281457915122, 148.60446213468597, 164.43273066100897, 33.65402530431471, 80.21102027710721, 37.39883848065572, 264.95858902034416, 199.65012321580605, 64.14389555937781, 57.83341670225937, 106.58243902462631, 127.50512591313422, 60.31303733115718, 59.08870058917164, 56.40448700198506, 39.50347091119318, 39.47995659048991, 38.85899078135574, 35.60747260537212, 108.78011462058743, 25.1136976658053, 24.639814790008405, 23.43412824041523, 20.770787758871638, 19.9397420849054, 17.21907037057065, 33.808621907022484, 39.13252689849542, 15.443968749778598, 14.575864262260552, 153.46394236842565, 14.128090972077072, 12.623744795039668, 12.602633201396275, 12.223359792435877, 11.43439562696094, 11.374496011902872, 11.193483549999232, 49.8234142173631, 9.635553725950773, 9.531785269904496, 19.17358431618565, 37.17115925083767, 36.8061575530159, 17.93096133130863, 31.85276958359552, 56.23314306735223, 32.28420019893577, 54.196893573911744, 174.48012412055283, 283.6128253461726, 150.88797881284205, 370.12766828402107, 1174.576482513861, 284.664043336975, 184.16012812425214, 91.81512532577439, 239.4385262844215, 97.26353594322322, 49.39939497700879, 31.76599882673002, 30.340039892708464, 29.41573578907573, 25.824327525994637, 22.86620354790172, 22.569062084378825, 19.811129969588233, 19.12668571453578, 18.170200121230984, 16.478035617307448, 15.429008127764444, 15.02807992617101, 14.921909740930651, 14.503863570048756, 14.14534022499735, 14.084011500393744, 13.698566704020063, 13.00207269096648, 12.728045151398446, 12.550169868941204, 12.474279020260992, 11.795040552165085, 10.698005176064877, 10.657021186963325, 10.613215570820882, 10.602979989429429, 61.81707516908279, 10.501054459271888, 78.47158706076418, 72.44931139465861, 31.887477956460565, 18.156036322342402, 92.48982579988949, 47.16674495248319, 37.16937182662404, 30.86567574342937, 23.166252678079886, 69.4650728933732, 222.04487674607375, 57.454093283899056, 33.84323160295726, 417.6310344605612, 272.74562164863306, 46.2066866111779, 201.6284611016537, 52.871865732121655, 313.4610366594669, 91.69422046103233, 112.41153973532457, 106.44276562049507, 71.352207783307, 56.96743066653689, 52.031425429444354, 40.901852953818334, 40.227465356458616, 32.58227038385183, 32.49624114378038, 29.29164980418096, 29.05258968326222, 25.886127961167738, 21.641994112453983, 18.942072873466262, 18.87532456862595, 18.26580884832473, 17.62719352931635, 16.510747083949674, 15.74642854048326, 14.070024862112371, 14.022872376754608, 13.14674988594615, 12.916739821913916, 12.387917484914663, 12.33427909962372, 11.096798304472303, 10.665502060951376, 9.595229097178963, 9.426933483840514, 8.88810784669054, 126.61259187477178, 52.14530372754062, 106.58243902462631, 18.949239684847246, 23.071101086119196, 42.72813172795724, 109.19267680282115, 103.07778169263952, 36.610387434663245, 159.72942049238057, 30.773688945490978, 390.7206662168297, 184.88326564422988, 230.78566302054477, 417.6310344605612, 83.66267547648987, 68.78040951349062, 54.715315672097425, 52.51897574283883, 38.74441940221242, 34.80081018636764, 32.98801677301931, 54.26937135990741, 26.246671235596832, 13.82263487614978, 13.223940877381867, 13.088565127326763, 12.613302171933372, 11.10741858877954, 10.558390791572034, 10.525558137638706, 10.505800515603099, 10.35019132841066, 10.296890859574757, 10.200374519422464, 9.92593368738107, 9.413715200587637, 9.378398989491295, 9.364613764726608, 9.239188480337415, 8.653349254844464, 8.623075695486442, 8.332145116937465, 7.892984015058417, 7.825899733372074, 7.807073268783315, 32.22074361385455, 123.30545291687216, 74.0889161585708, 183.2453419561059, 47.553923357601136, 253.81729892730294, 38.10127527859957, 222.04487674607375, 125.49318091910717, 56.752273618508006, 66.22168777290652, 31.176191735014566, 49.18273702648417, 24.25954864229438, 44.383775888945294, 38.484104896804986, 100.92566067523184, 20.393317400589677, 132.80755145265127, 40.93594196954512, 39.59127046793153, 40.5839628711772, 45.46731576426503, 164.43273066100897, 128.6306645971257, 184.16012812425214, 222.46765825328086, 80.06652257149806, 35.93311715183755, 44.875397145160065, 29.082951800490964, 28.011935482896625, 26.356318287515094, 26.033731995817824, 25.86549125465188, 23.864931946021365, 23.0545050861566, 21.64885919366312, 19.769536640373044, 19.605304409705262, 17.59216664548113, 17.254994234513333, 16.713370151888473, 16.041835976805775, 13.373716383622401, 12.608034420447831, 12.53068492715882, 12.520666617618023, 51.078068364071605, 11.881955660182491, 11.81350540994302, 11.551386971256521, 11.445011434653932, 10.730072099992977, 10.257269923389792, 10.202812786626493, 10.104641688054144, 38.247647941285, 32.81182144352619, 63.09837751032422, 42.414885836105896, 38.64472188815939, 95.51070965581371, 55.328829894635156, 32.189046173408514, 57.83341670225937, 40.97776290443324, 46.09035808880823, 112.830610550632, 271.91726902913524, 182.3094741794654, 307.2868348844859, 201.6284611016537, 247.8559027700075, 131.47139989802443, 93.85566888957649, 47.8397648728208, 37.73686975031597, 37.560379307066405, 35.057654665215445, 31.033134318680514, 26.049323667382406, 25.68946813059376, 25.5296517223388, 22.899586761559355, 21.44269522468825, 20.41210880540386, 19.46491072735633, 18.856342187400124, 79.82452943095045, 15.803392556990827, 15.621924557458044, 14.987762346977812, 14.34017916031476, 13.988267488199716, 12.458657694898028, 11.471389380457419, 11.369806877222356, 10.707410400014675, 10.669413064081041, 10.247901244958923, 10.243895583789401, 10.16376549172542, 9.828965142526632, 9.39427629419282, 28.500463174120746, 66.7580140467064, 26.376496177986866, 19.856769678350624, 54.49386435889516, 149.33522895878747, 22.61243626892638, 28.477627479140153, 126.95294088643175, 116.93041393027644, 54.64072589621258, 35.450085793432244, 136.82609608228685, 33.56008360764106, 28.588713817361903, 35.76003591862924, 131.69539932827473, 264.95858902034416, 232.54587747486178, 54.68472829236851, 39.27163218128909, 38.647054587931635, 23.813589586557402, 18.838292789900056, 18.1765341840668, 17.806900380106313, 17.32921342151472, 15.989458689937896, 15.530641480956184, 14.968073269697905, 14.794502939227169, 14.806536488231965, 14.40895072550666, 14.38612467132368, 14.17070339419491, 12.538774929878644, 11.689543354251041, 11.265388018439024, 10.997071219797448, 10.558346404773678, 10.476855182921215, 10.424297786243505, 10.313652550316254, 9.798192217289506, 9.58979691385009, 9.500940354032801, 9.402969452014636, 9.224427620026002, 93.24586326862195, 59.62856877444997, 23.51282449927976, 31.910860533306934, 73.21546292824677, 29.416323914801527, 85.53307141876398, 25.449638463737706, 20.634416456164658, 69.23931811973591, 164.67733322096063, 97.58755889838896, 96.32600470772198, 31.125198571410433, 28.909900467336985, 247.8559027700075, 48.60734633004499, 29.014576098803254, 94.78709106330949, 195.13437717247868, 119.44841064439673, 70.42587862564139, 65.47211081676862, 31.340129588027775, 128.57024755836215, 25.08903852353535, 24.851326669651705, 23.703327861193717, 22.172049708880397, 18.937772304446035, 18.0246741699207, 17.340871004745264, 14.66152028470313, 14.58068488254069, 14.486570432298288, 13.431012214501221, 12.96302748609641, 12.7954606987681, 11.924580229465269, 11.828645590765392, 11.783748798479992, 10.46596982973609, 10.209640303130053, 9.511113240932431, 8.913828510769997, 8.87221043703937, 8.869825752226946, 8.44966320396174, 8.374348445287477, 8.30509800730732, 8.22082566105753, 22.41380025591741, 27.510443473121928, 324.24950282903615, 35.556664200083205, 138.47329767600948, 40.075442391225195, 29.939643530734834, 41.731440705929984, 62.913233759851295, 31.163143081731786, 47.035054903508936, 40.67691084787209, 222.04487674607375, 19.800534477063543, 62.74661585800726, 77.80891935052502, 58.12475960772945, 46.5153538290018, 44.81957575106692, 42.8878950679208, 39.80284654458408, 38.933079070574934, 24.887395862725167, 23.70011036993495, 21.636206427426796, 20.922096732299234, 20.171025263058986, 17.509165832685778, 16.07888449828529, 16.07816709375545, 14.929291252247374, 14.141275822436608, 13.890175922702012, 13.02794119625618, 12.270502167935687, 11.905349201026802, 11.597166943180389, 10.896754448447039, 10.570587785487117, 10.486337294075176, 10.00650531266216, 9.969964004118285, 9.90964441745336, 9.525733222498534, 9.06309163141724, 149.2438979379749, 34.04117800796024, 22.481837693741365, 27.86442020580221, 17.819808675310913, 38.78543885668305, 31.43829551335882, 58.247187632929716, 20.778714775634327, 26.484794292656282, 25.490125402666617, 109.19267680282115, 38.85407339533512, 51.225677664981205, 390.7206662168297, 129.6783778360018, 34.334725456607785, 272.74562164863306, 50.05986375502696, 43.93515284163378, 43.21113195298005, 38.814522972901756, 32.833387785265856, 31.42711901531173, 30.668982612543346, 27.930983058333986, 27.606850016534725, 24.145346610467726, 23.2050527995784, 22.956369239892528, 18.773705362101904, 18.023812576181577, 16.338838687064264, 15.644364668421764, 14.599191499670384, 14.502706193420078, 14.38818700029913, 14.260365823206973, 13.087023788006043, 12.488408837080655, 12.373814985629238, 12.16602636598541, 12.10281973196642, 12.064602466889657, 12.054188186940756, 11.94037100498692, 11.817280589806595, 11.705003375206639, 33.19813644963759, 44.17385923257533, 28.39828663859479, 43.017167875527036, 43.686235720694924, 57.34676513756399, 275.07492672247366, 25.75431323060398, 33.421967546021385, 34.076474424109186, 199.65012321580605, 62.99439271336673, 73.27822507991893, 264.95858902034416, 61.7548933937835, 57.961192348884474, 35.161780324949675, 27.388959408907976, 26.116105610432076, 22.801131969739465, 21.637184291987655, 16.397872933011993, 13.106108208272243, 12.227589054445113, 11.782345642085522, 11.772002139208192, 11.342642200077522, 10.706546809105593, 9.543300434080862, 9.166013435145542, 9.020193183407187, 8.777608672416283, 8.776779345529313, 8.587400798790606, 8.463097435915802, 8.29958598969926, 8.22541657739675, 8.185073801332397, 7.726357581557519, 7.499848996580843, 7.467070838667258, 7.404990909857904, 7.240650136754393, 7.038047970021836, 51.060083875254065, 128.6306645971257, 30.94938567864404, 98.19318487914897, 132.80755145265127, 24.779433385963085, 108.12770085623809, 16.074861690871302, 52.871865732121655, 18.987983069046756, 272.48703541306384, 42.13749648975617, 28.43668573668908, 85.27607088154501, 75.2298626733851, 18.538877509290245, 21.49603564385287, 28.967534299766974, 259.1441427256352, 417.6310344605612, 73.47340944752189, 107.41801049734748, 313.4610366594669, 305.6447270216601, 221.86885050941422, 82.40111688716563, 88.04413695559911, 68.28988457767045, 30.820020974523693, 27.633717345911656, 26.638798183400088, 25.54276689991824, 21.862602314051124, 19.845654858837523, 16.71238093409947, 16.284751927995227, 15.931093277845237, 15.65879924573331, 14.036473462039707, 13.000918298387933, 12.939549339659296, 12.856616619101324, 12.585681951554449, 12.205276051740421, 12.091500498886859, 11.85153308379586, 11.149370479888546, 10.80371507447001, 10.459729068475427, 10.338419412196966, 9.927119266797973, 9.85561160740474, 9.7451779183605, 9.736540485745634, 9.696679762493805, 9.647134832055448, 44.17400158712187, 49.19194185357393, 43.203319408695045, 26.945538064898336, 69.97722710622891, 45.863298645005656, 159.72942049238057, 40.342071186867976, 29.32728491526089, 324.24950282903615, 40.58559664753576, 45.02342473915836, 23.913015178185105, 57.0305700925161, 34.570880665289785, 179.0515610025731, 46.14235474461758, 146.93580098903072, 74.7032088129939, 42.73669205959707, 41.15324676806797, 36.69517194751615, 32.62692836063413, 21.70884303917436, 18.67202969994577, 17.88230045071129, 16.981813454399006, 16.67823936567406, 14.411457212784129, 13.80726564690769, 13.69212760093759, 13.155579512211677, 12.369780078146642, 30.97880955902782, 12.083671972520797, 11.797057447277473, 11.717294859241589, 11.59344679539295, 11.283951492679018, 10.369094964577663, 10.00815262277519, 34.550626580461426, 9.809078771487496, 9.507021943904467, 9.42869970515538, 9.42308513973161, 9.338919597703914, 8.996876596300506, 24.78760749764682, 14.938070018045854, 25.62274694835312, 84.99150266554386, 44.12251762425273, 69.4649800352801, 36.60466587270654, 52.50030833675439, 51.225677664981205, 28.27835914649505, 26.531998684492404, 149.33522895878747, 122.57935165164056, 41.731440705929984, 126.95294088643175, 40.5839628711772, 69.22531159780775, 55.72537587161851, 48.665056807094444, 43.89531462512687, 39.32744386645847, 31.62010993645179, 29.59522913394408, 25.752985176049854, 24.097016225463552, 23.707720067498336, 21.409052972935065, 20.305588281967594, 19.41141299614149, 19.272414470013373, 19.03721632413465, 18.305207246902125, 17.526395439697108, 17.304584369401784, 15.468326042739534, 14.925734151139748, 14.857690909935963, 14.664547103050712, 14.488239665964247, 13.897286024170622, 13.816516300118122, 13.809077968197611, 13.607508345401, 13.117222549050636, 12.562933286248509, 11.819373480691056, 47.7299284121183, 97.8324037054442, 28.428420314067488, 40.19148227756056, 70.15206983344527, 64.59688681353319, 283.6128253461726, 90.16097173809689], \"Category\": [\"Default\", \"Default\", \"Default\", \"Default\", \"Default\", \"Default\", \"Default\", \"Default\", \"Default\", \"Default\", \"Default\", \"Default\", \"Default\", \"Default\", \"Default\", \"Default\", \"Default\", \"Default\", \"Default\", \"Default\", \"Default\", \"Default\", \"Default\", \"Default\", \"Default\", \"Default\", \"Default\", \"Default\", \"Default\", \"Default\", \"Topic1\", \"Topic1\", \"Topic1\", \"Topic1\", \"Topic1\", \"Topic1\", \"Topic1\", \"Topic1\", \"Topic1\", \"Topic1\", \"Topic1\", \"Topic1\", \"Topic1\", \"Topic1\", \"Topic1\", \"Topic1\", \"Topic1\", \"Topic1\", \"Topic1\", \"Topic1\", \"Topic1\", \"Topic1\", \"Topic1\", \"Topic1\", \"Topic1\", \"Topic1\", \"Topic1\", \"Topic1\", \"Topic1\", \"Topic1\", \"Topic1\", \"Topic1\", \"Topic1\", \"Topic1\", \"Topic1\", \"Topic1\", \"Topic1\", \"Topic1\", \"Topic1\", \"Topic1\", \"Topic1\", \"Topic1\", \"Topic1\", \"Topic1\", \"Topic1\", \"Topic1\", \"Topic1\", \"Topic1\", \"Topic1\", \"Topic1\", \"Topic1\", \"Topic1\", \"Topic1\", \"Topic1\", \"Topic1\", \"Topic1\", \"Topic2\", \"Topic2\", \"Topic2\", \"Topic2\", \"Topic2\", \"Topic2\", \"Topic2\", \"Topic2\", \"Topic2\", \"Topic2\", \"Topic2\", \"Topic2\", \"Topic2\", \"Topic2\", \"Topic2\", \"Topic2\", \"Topic2\", \"Topic2\", \"Topic2\", \"Topic2\", \"Topic2\", \"Topic2\", \"Topic2\", \"Topic2\", \"Topic2\", \"Topic2\", \"Topic2\", \"Topic2\", \"Topic2\", \"Topic2\", \"Topic2\", \"Topic2\", \"Topic2\", \"Topic2\", \"Topic2\", \"Topic2\", \"Topic2\", \"Topic2\", \"Topic2\", \"Topic2\", \"Topic2\", \"Topic2\", \"Topic2\", \"Topic2\", \"Topic2\", \"Topic2\", \"Topic2\", \"Topic2\", \"Topic2\", \"Topic2\", \"Topic2\", \"Topic2\", \"Topic2\", \"Topic2\", \"Topic2\", \"Topic3\", \"Topic3\", \"Topic3\", \"Topic3\", \"Topic3\", \"Topic3\", \"Topic3\", \"Topic3\", \"Topic3\", \"Topic3\", \"Topic3\", \"Topic3\", \"Topic3\", \"Topic3\", \"Topic3\", \"Topic3\", \"Topic3\", \"Topic3\", \"Topic3\", \"Topic3\", \"Topic3\", \"Topic3\", \"Topic3\", \"Topic3\", \"Topic3\", \"Topic3\", \"Topic3\", \"Topic3\", \"Topic3\", \"Topic3\", \"Topic3\", \"Topic3\", \"Topic3\", \"Topic3\", \"Topic3\", \"Topic3\", \"Topic3\", \"Topic3\", \"Topic3\", \"Topic3\", \"Topic3\", \"Topic3\", \"Topic3\", \"Topic3\", \"Topic3\", \"Topic3\", \"Topic3\", \"Topic3\", \"Topic3\", \"Topic3\", \"Topic3\", \"Topic3\", \"Topic3\", \"Topic3\", \"Topic3\", \"Topic3\", \"Topic3\", \"Topic4\", \"Topic4\", \"Topic4\", \"Topic4\", \"Topic4\", \"Topic4\", \"Topic4\", \"Topic4\", \"Topic4\", \"Topic4\", \"Topic4\", \"Topic4\", \"Topic4\", \"Topic4\", \"Topic4\", \"Topic4\", \"Topic4\", \"Topic4\", \"Topic4\", \"Topic4\", \"Topic4\", \"Topic4\", \"Topic4\", \"Topic4\", \"Topic4\", \"Topic4\", \"Topic4\", \"Topic4\", \"Topic4\", \"Topic4\", \"Topic4\", \"Topic4\", \"Topic4\", \"Topic4\", \"Topic4\", \"Topic4\", \"Topic4\", \"Topic4\", \"Topic4\", \"Topic4\", \"Topic4\", \"Topic4\", \"Topic4\", \"Topic4\", \"Topic4\", \"Topic4\", \"Topic4\", \"Topic4\", \"Topic4\", \"Topic4\", \"Topic4\", \"Topic4\", \"Topic4\", \"Topic4\", \"Topic4\", \"Topic4\", \"Topic4\", \"Topic4\", \"Topic5\", \"Topic5\", \"Topic5\", \"Topic5\", \"Topic5\", \"Topic5\", \"Topic5\", \"Topic5\", \"Topic5\", \"Topic5\", \"Topic5\", \"Topic5\", \"Topic5\", \"Topic5\", \"Topic5\", \"Topic5\", \"Topic5\", \"Topic5\", \"Topic5\", \"Topic5\", \"Topic5\", \"Topic5\", \"Topic5\", \"Topic5\", \"Topic5\", \"Topic5\", \"Topic5\", \"Topic5\", \"Topic5\", \"Topic5\", \"Topic5\", \"Topic5\", \"Topic5\", \"Topic5\", \"Topic5\", \"Topic5\", \"Topic5\", \"Topic5\", \"Topic5\", \"Topic5\", \"Topic5\", \"Topic5\", \"Topic5\", \"Topic5\", \"Topic5\", \"Topic5\", \"Topic5\", \"Topic5\", \"Topic6\", \"Topic6\", \"Topic6\", \"Topic6\", \"Topic6\", \"Topic6\", \"Topic6\", \"Topic6\", \"Topic6\", \"Topic6\", \"Topic6\", \"Topic6\", \"Topic6\", \"Topic6\", \"Topic6\", \"Topic6\", \"Topic6\", \"Topic6\", \"Topic6\", \"Topic6\", \"Topic6\", \"Topic6\", \"Topic6\", \"Topic6\", \"Topic6\", \"Topic6\", \"Topic6\", \"Topic6\", \"Topic6\", \"Topic6\", \"Topic6\", \"Topic6\", \"Topic6\", \"Topic6\", \"Topic6\", \"Topic6\", \"Topic6\", \"Topic6\", \"Topic6\", \"Topic6\", \"Topic6\", \"Topic6\", \"Topic6\", \"Topic6\", \"Topic6\", \"Topic6\", \"Topic6\", \"Topic6\", \"Topic6\", \"Topic6\", \"Topic6\", \"Topic6\", \"Topic6\", \"Topic7\", \"Topic7\", \"Topic7\", \"Topic7\", \"Topic7\", \"Topic7\", \"Topic7\", \"Topic7\", \"Topic7\", \"Topic7\", \"Topic7\", \"Topic7\", \"Topic7\", \"Topic7\", \"Topic7\", \"Topic7\", \"Topic7\", \"Topic7\", \"Topic7\", \"Topic7\", \"Topic7\", \"Topic7\", \"Topic7\", \"Topic7\", \"Topic7\", \"Topic7\", \"Topic7\", \"Topic7\", \"Topic7\", \"Topic7\", \"Topic7\", \"Topic7\", \"Topic7\", \"Topic7\", \"Topic7\", \"Topic7\", \"Topic7\", \"Topic7\", \"Topic7\", \"Topic7\", \"Topic7\", \"Topic7\", \"Topic7\", \"Topic7\", \"Topic7\", \"Topic7\", \"Topic7\", \"Topic7\", \"Topic7\", \"Topic7\", \"Topic7\", \"Topic8\", \"Topic8\", \"Topic8\", \"Topic8\", \"Topic8\", \"Topic8\", \"Topic8\", \"Topic8\", \"Topic8\", \"Topic8\", \"Topic8\", \"Topic8\", \"Topic8\", \"Topic8\", \"Topic8\", \"Topic8\", \"Topic8\", \"Topic8\", \"Topic8\", \"Topic8\", \"Topic8\", \"Topic8\", \"Topic8\", \"Topic8\", \"Topic8\", \"Topic8\", \"Topic8\", \"Topic8\", \"Topic8\", \"Topic8\", \"Topic8\", \"Topic8\", \"Topic8\", \"Topic8\", \"Topic8\", \"Topic8\", \"Topic8\", \"Topic8\", \"Topic8\", \"Topic8\", \"Topic8\", \"Topic8\", \"Topic8\", \"Topic8\", \"Topic8\", \"Topic8\", \"Topic8\", \"Topic8\", \"Topic8\", \"Topic8\", \"Topic8\", \"Topic8\", \"Topic8\", \"Topic8\", \"Topic8\", \"Topic8\", \"Topic9\", \"Topic9\", \"Topic9\", \"Topic9\", \"Topic9\", \"Topic9\", \"Topic9\", \"Topic9\", \"Topic9\", \"Topic9\", \"Topic9\", \"Topic9\", \"Topic9\", \"Topic9\", \"Topic9\", \"Topic9\", \"Topic9\", \"Topic9\", \"Topic9\", \"Topic9\", \"Topic9\", \"Topic9\", \"Topic9\", \"Topic9\", \"Topic9\", \"Topic9\", \"Topic9\", \"Topic9\", \"Topic9\", \"Topic9\", \"Topic9\", \"Topic9\", \"Topic9\", \"Topic9\", \"Topic9\", \"Topic9\", \"Topic9\", \"Topic9\", \"Topic9\", \"Topic9\", \"Topic9\", \"Topic9\", \"Topic9\", \"Topic9\", \"Topic10\", \"Topic10\", \"Topic10\", \"Topic10\", \"Topic10\", \"Topic10\", \"Topic10\", \"Topic10\", \"Topic10\", \"Topic10\", \"Topic10\", \"Topic10\", \"Topic10\", \"Topic10\", \"Topic10\", \"Topic10\", \"Topic10\", \"Topic10\", \"Topic10\", \"Topic10\", \"Topic10\", \"Topic10\", \"Topic10\", \"Topic10\", \"Topic10\", \"Topic10\", \"Topic10\", \"Topic10\", \"Topic10\", \"Topic10\", \"Topic10\", \"Topic10\", \"Topic10\", \"Topic10\", \"Topic10\", \"Topic10\", \"Topic10\", \"Topic10\", \"Topic10\", \"Topic10\", \"Topic10\", \"Topic10\", \"Topic10\", \"Topic10\", \"Topic10\", \"Topic10\", \"Topic10\", \"Topic10\", \"Topic10\", \"Topic11\", \"Topic11\", \"Topic11\", \"Topic11\", \"Topic11\", \"Topic11\", \"Topic11\", \"Topic11\", \"Topic11\", \"Topic11\", \"Topic11\", \"Topic11\", \"Topic11\", \"Topic11\", \"Topic11\", \"Topic11\", \"Topic11\", \"Topic11\", \"Topic11\", \"Topic11\", \"Topic11\", \"Topic11\", \"Topic11\", \"Topic11\", \"Topic11\", \"Topic11\", \"Topic11\", \"Topic11\", \"Topic11\", \"Topic11\", \"Topic11\", \"Topic11\", \"Topic11\", \"Topic11\", \"Topic11\", \"Topic11\", \"Topic11\", \"Topic11\", \"Topic11\", \"Topic11\", \"Topic11\", \"Topic11\", \"Topic11\", \"Topic11\", \"Topic11\", \"Topic11\", \"Topic11\", \"Topic11\", \"Topic11\", \"Topic11\", \"Topic12\", \"Topic12\", \"Topic12\", \"Topic12\", \"Topic12\", \"Topic12\", \"Topic12\", \"Topic12\", \"Topic12\", \"Topic12\", \"Topic12\", \"Topic12\", \"Topic12\", \"Topic12\", \"Topic12\", \"Topic12\", \"Topic12\", \"Topic12\", \"Topic12\", \"Topic12\", \"Topic12\", \"Topic12\", \"Topic12\", \"Topic12\", \"Topic12\", \"Topic12\", \"Topic12\", \"Topic12\", \"Topic12\", \"Topic12\", \"Topic12\", \"Topic12\", \"Topic12\", \"Topic12\", \"Topic12\", \"Topic12\", \"Topic12\", \"Topic12\", \"Topic12\", \"Topic12\", \"Topic12\", \"Topic12\", \"Topic12\", \"Topic12\", \"Topic12\", \"Topic12\", \"Topic12\", \"Topic13\", \"Topic13\", \"Topic13\", \"Topic13\", \"Topic13\", \"Topic13\", \"Topic13\", \"Topic13\", \"Topic13\", \"Topic13\", \"Topic13\", \"Topic13\", \"Topic13\", \"Topic13\", \"Topic13\", \"Topic13\", \"Topic13\", \"Topic13\", \"Topic13\", \"Topic13\", \"Topic13\", \"Topic13\", \"Topic13\", \"Topic13\", \"Topic13\", \"Topic13\", \"Topic13\", \"Topic13\", \"Topic13\", \"Topic13\", \"Topic13\", \"Topic13\", \"Topic13\", \"Topic13\", \"Topic13\", \"Topic13\", \"Topic13\", \"Topic13\", \"Topic13\", \"Topic13\", \"Topic13\", \"Topic13\", \"Topic13\", \"Topic13\", \"Topic13\", \"Topic13\", \"Topic13\", \"Topic13\", \"Topic13\", \"Topic13\", \"Topic14\", \"Topic14\", \"Topic14\", \"Topic14\", \"Topic14\", \"Topic14\", \"Topic14\", \"Topic14\", \"Topic14\", \"Topic14\", \"Topic14\", \"Topic14\", \"Topic14\", \"Topic14\", \"Topic14\", \"Topic14\", \"Topic14\", \"Topic14\", \"Topic14\", \"Topic14\", \"Topic14\", \"Topic14\", \"Topic14\", \"Topic14\", \"Topic14\", \"Topic14\", \"Topic14\", \"Topic14\", \"Topic14\", \"Topic14\", \"Topic14\", \"Topic14\", \"Topic14\", \"Topic14\", \"Topic14\", \"Topic14\", \"Topic14\", \"Topic14\", \"Topic14\", \"Topic14\", \"Topic14\", \"Topic14\", \"Topic14\", \"Topic14\", \"Topic14\", \"Topic14\", \"Topic15\", \"Topic15\", \"Topic15\", \"Topic15\", \"Topic15\", \"Topic15\", \"Topic15\", \"Topic15\", \"Topic15\", \"Topic15\", \"Topic15\", \"Topic15\", \"Topic15\", \"Topic15\", \"Topic15\", \"Topic15\", \"Topic15\", \"Topic15\", \"Topic15\", \"Topic15\", \"Topic15\", \"Topic15\", \"Topic15\", \"Topic15\", \"Topic15\", \"Topic15\", \"Topic15\", \"Topic15\", \"Topic15\", \"Topic15\", \"Topic15\", \"Topic15\", \"Topic15\", \"Topic15\", \"Topic15\", \"Topic15\", \"Topic15\", \"Topic15\", \"Topic15\", \"Topic15\", \"Topic15\", \"Topic15\", \"Topic15\", \"Topic15\", \"Topic15\", \"Topic15\", \"Topic15\", \"Topic15\", \"Topic15\", \"Topic15\", \"Topic15\", \"Topic15\", \"Topic15\", \"Topic15\", \"Topic15\", \"Topic15\", \"Topic15\", \"Topic16\", \"Topic16\", \"Topic16\", \"Topic16\", \"Topic16\", \"Topic16\", \"Topic16\", \"Topic16\", \"Topic16\", \"Topic16\", \"Topic16\", \"Topic16\", \"Topic16\", \"Topic16\", \"Topic16\", \"Topic16\", \"Topic16\", \"Topic16\", \"Topic16\", \"Topic16\", \"Topic16\", \"Topic16\", \"Topic16\", \"Topic16\", \"Topic16\", \"Topic16\", \"Topic16\", \"Topic16\", \"Topic16\", \"Topic16\", \"Topic16\", \"Topic16\", \"Topic16\", \"Topic16\", \"Topic16\", \"Topic16\", \"Topic16\", \"Topic16\", \"Topic16\", \"Topic16\", \"Topic16\", \"Topic16\", \"Topic16\", \"Topic16\", \"Topic16\", \"Topic16\", \"Topic16\", \"Topic16\", \"Topic17\", \"Topic17\", \"Topic17\", \"Topic17\", \"Topic17\", \"Topic17\", \"Topic17\", \"Topic17\", \"Topic17\", \"Topic17\", \"Topic17\", \"Topic17\", \"Topic17\", \"Topic17\", \"Topic17\", \"Topic17\", \"Topic17\", \"Topic17\", \"Topic17\", \"Topic17\", \"Topic17\", \"Topic17\", \"Topic17\", \"Topic17\", \"Topic17\", \"Topic17\", \"Topic17\", \"Topic17\", \"Topic17\", \"Topic17\", \"Topic17\", \"Topic17\", \"Topic17\", \"Topic17\", \"Topic17\", \"Topic17\", \"Topic17\", \"Topic17\", \"Topic17\", \"Topic17\", \"Topic17\", \"Topic17\", \"Topic17\", \"Topic17\", \"Topic17\", \"Topic17\", \"Topic17\", \"Topic17\", \"Topic18\", \"Topic18\", \"Topic18\", \"Topic18\", \"Topic18\", \"Topic18\", \"Topic18\", \"Topic18\", \"Topic18\", \"Topic18\", \"Topic18\", \"Topic18\", \"Topic18\", \"Topic18\", \"Topic18\", \"Topic18\", \"Topic18\", \"Topic18\", \"Topic18\", \"Topic18\", \"Topic18\", \"Topic18\", \"Topic18\", \"Topic18\", \"Topic18\", \"Topic18\", \"Topic18\", \"Topic18\", \"Topic18\", \"Topic18\", \"Topic18\", \"Topic18\", \"Topic18\", \"Topic18\", \"Topic18\", \"Topic18\", \"Topic18\", \"Topic18\", \"Topic18\", \"Topic18\", \"Topic18\", \"Topic18\", \"Topic18\", \"Topic18\", \"Topic18\", \"Topic18\", \"Topic18\", \"Topic18\", \"Topic18\", \"Topic18\", \"Topic18\", \"Topic19\", \"Topic19\", \"Topic19\", \"Topic19\", \"Topic19\", \"Topic19\", \"Topic19\", \"Topic19\", \"Topic19\", \"Topic19\", \"Topic19\", \"Topic19\", \"Topic19\", \"Topic19\", \"Topic19\", \"Topic19\", \"Topic19\", \"Topic19\", \"Topic19\", \"Topic19\", \"Topic19\", \"Topic19\", \"Topic19\", \"Topic19\", \"Topic19\", \"Topic19\", \"Topic19\", \"Topic19\", \"Topic19\", \"Topic19\", \"Topic19\", \"Topic19\", \"Topic19\", \"Topic19\", \"Topic19\", \"Topic19\", \"Topic19\", \"Topic19\", \"Topic19\", \"Topic19\", \"Topic19\", \"Topic19\", \"Topic19\", \"Topic19\", \"Topic19\", \"Topic20\", \"Topic20\", \"Topic20\", \"Topic20\", \"Topic20\", \"Topic20\", \"Topic20\", \"Topic20\", \"Topic20\", \"Topic20\", \"Topic20\", \"Topic20\", \"Topic20\", \"Topic20\", \"Topic20\", \"Topic20\", \"Topic20\", \"Topic20\", \"Topic20\", \"Topic20\", \"Topic20\", \"Topic20\", \"Topic20\", \"Topic20\", \"Topic20\", \"Topic20\", \"Topic20\", \"Topic20\", \"Topic20\", \"Topic20\", \"Topic20\", \"Topic20\", \"Topic20\", \"Topic20\", \"Topic20\", \"Topic20\", \"Topic20\", \"Topic20\", \"Topic20\", \"Topic20\", \"Topic20\", \"Topic20\", \"Topic20\", \"Topic20\", \"Topic20\", \"Topic20\", \"Topic20\", \"Topic20\", \"Topic21\", \"Topic21\", \"Topic21\", \"Topic21\", \"Topic21\", \"Topic21\", \"Topic21\", \"Topic21\", \"Topic21\", \"Topic21\", \"Topic21\", \"Topic21\", \"Topic21\", \"Topic21\", \"Topic21\", \"Topic21\", \"Topic21\", \"Topic21\", \"Topic21\", \"Topic21\", \"Topic21\", \"Topic21\", \"Topic21\", \"Topic21\", \"Topic21\", \"Topic21\", \"Topic21\", \"Topic21\", \"Topic21\", \"Topic21\", \"Topic21\", \"Topic21\", \"Topic21\", \"Topic21\", \"Topic21\", \"Topic21\", \"Topic21\", \"Topic21\", \"Topic21\", \"Topic21\", \"Topic21\", \"Topic21\", \"Topic21\", \"Topic21\", \"Topic22\", \"Topic22\", \"Topic22\", \"Topic22\", \"Topic22\", \"Topic22\", \"Topic22\", \"Topic22\", \"Topic22\", \"Topic22\", \"Topic22\", \"Topic22\", \"Topic22\", \"Topic22\", \"Topic22\", \"Topic22\", \"Topic22\", \"Topic22\", \"Topic22\", \"Topic22\", \"Topic22\", \"Topic22\", \"Topic22\", \"Topic22\", \"Topic22\", \"Topic22\", \"Topic22\", \"Topic22\", \"Topic22\", \"Topic22\", \"Topic22\", \"Topic22\", \"Topic22\", \"Topic22\", \"Topic22\", \"Topic22\", \"Topic22\", \"Topic22\", \"Topic22\", \"Topic22\", \"Topic22\", \"Topic22\", \"Topic22\", \"Topic22\", \"Topic22\", \"Topic22\", \"Topic22\", \"Topic22\", \"Topic22\", \"Topic22\", \"Topic22\", \"Topic22\", \"Topic22\", \"Topic22\", \"Topic22\", \"Topic22\", \"Topic23\", \"Topic23\", \"Topic23\", \"Topic23\", \"Topic23\", \"Topic23\", \"Topic23\", \"Topic23\", \"Topic23\", \"Topic23\", \"Topic23\", \"Topic23\", \"Topic23\", \"Topic23\", \"Topic23\", \"Topic23\", \"Topic23\", \"Topic23\", \"Topic23\", \"Topic23\", \"Topic23\", \"Topic23\", \"Topic23\", \"Topic23\", \"Topic23\", \"Topic23\", \"Topic23\", \"Topic23\", \"Topic23\", \"Topic23\", \"Topic23\", \"Topic23\", \"Topic23\", \"Topic23\", \"Topic23\", \"Topic23\", \"Topic23\", \"Topic23\", \"Topic23\", \"Topic23\", \"Topic23\", \"Topic23\", \"Topic23\", \"Topic23\", \"Topic23\", \"Topic23\", \"Topic23\", \"Topic23\", \"Topic24\", \"Topic24\", \"Topic24\", \"Topic24\", \"Topic24\", \"Topic24\", \"Topic24\", \"Topic24\", \"Topic24\", \"Topic24\", \"Topic24\", \"Topic24\", \"Topic24\", \"Topic24\", \"Topic24\", \"Topic24\", \"Topic24\", \"Topic24\", \"Topic24\", \"Topic24\", \"Topic24\", \"Topic24\", \"Topic24\", \"Topic24\", \"Topic24\", \"Topic24\", \"Topic24\", \"Topic24\", \"Topic24\", \"Topic24\", \"Topic24\", \"Topic24\", \"Topic24\", \"Topic24\", \"Topic24\", \"Topic24\", \"Topic24\", \"Topic24\", \"Topic24\", \"Topic24\", \"Topic24\", \"Topic24\", \"Topic24\", \"Topic24\", \"Topic24\", \"Topic24\", \"Topic25\", \"Topic25\", \"Topic25\", \"Topic25\", \"Topic25\", \"Topic25\", \"Topic25\", \"Topic25\", \"Topic25\", \"Topic25\", \"Topic25\", \"Topic25\", \"Topic25\", \"Topic25\", \"Topic25\", \"Topic25\", \"Topic25\", \"Topic25\", \"Topic25\", \"Topic25\", \"Topic25\", \"Topic25\", \"Topic25\", \"Topic25\", \"Topic25\", \"Topic25\", \"Topic25\", \"Topic25\", \"Topic25\", \"Topic25\", \"Topic25\", \"Topic25\", \"Topic25\", \"Topic25\", \"Topic25\", \"Topic25\", \"Topic25\", \"Topic25\"], \"logprob\": [30.0, 29.0, 28.0, 27.0, 26.0, 25.0, 24.0, 23.0, 22.0, 21.0, 20.0, 19.0, 18.0, 17.0, 16.0, 15.0, 14.0, 13.0, 12.0, 11.0, 10.0, 9.0, 8.0, 7.0, 6.0, 5.0, 4.0, 3.0, 2.0, 1.0, -2.4519999027252197, -3.9551000595092773, -3.9858999252319336, -4.0721001625061035, -4.989099979400635, -5.087699890136719, -5.251200199127197, -5.26140022277832, -5.261899948120117, -5.427199840545654, -5.4375, -5.4882001876831055, -5.515699863433838, -5.576099872589111, -4.648099899291992, -5.685999870300293, -5.722899913787842, -5.755099773406982, -5.794899940490723, -5.798099994659424, -5.828199863433838, -5.939899921417236, -5.99370002746582, -6.017300128936768, -6.023499965667725, -6.053699970245361, -6.06689977645874, -6.077499866485596, -4.61460018157959, -6.201399803161621, -3.5880000591278076, -4.414700031280518, -5.109799861907959, -5.116700172424316, -4.238800048828125, -3.010200023651123, -3.444200038909912, -4.862299919128418, -4.71120023727417, -4.089799880981445, -4.259099960327148, -4.5493998527526855, -4.706299781799316, -4.875, -4.936200141906738, -4.048600196838379, -5.1255998611450195, -4.478400230407715, -4.4496002197265625, -4.738100051879883, -4.3053998947143555, -4.88070011138916, -4.491600036621094, -4.521500110626221, -4.91510009765625, -5.0725998878479, -2.465399980545044, -4.120699882507324, -4.303500175476074, -4.350100040435791, -4.980999946594238, -5.284900188446045, -5.6346001625061035, -5.748899936676025, -5.80079984664917, -5.802800178527832, -5.892600059509277, -5.913700103759766, -6.218400001525879, -6.3292999267578125, -6.371099948883057, -6.41949987411499, -6.486599922180176, -6.491600036621094, -3.1377999782562256, -6.553500175476074, -4.835299968719482, -6.566199779510498, -6.6194000244140625, -1.6856000423431396, -6.622600078582764, -6.645500183105469, -6.662600040435791, -6.671800136566162, -6.674900054931641, -6.692200183868408, -3.61929988861084, -5.404399871826172, -3.4635000228881836, -3.0062999725341797, -4.011099815368652, -4.126100063323975, -4.943699836730957, -5.453400135040283, -3.6433000564575195, -5.44379997253418, -4.139500141143799, -3.827500104904175, -3.7160000801086426, -4.371500015258789, -4.479400157928467, -4.194200038909912, -4.36329984664917, -4.408100128173828, -5.089200019836426, -4.780799865722656, -4.44789981842041, -4.01200008392334, -4.957900047302246, -5.101500034332275, -5.069799900054932, -3.4758999347686768, -3.6070001125335693, -4.075799942016602, -4.295199871063232, -4.348700046539307, -4.679900169372559, -4.9085001945495605, -4.988999843597412, -3.2479000091552734, -5.050000190734863, -5.342100143432617, -5.387400150299072, -5.484300136566162, -5.5630998611450195, -5.670300006866455, -5.769400119781494, -5.780099868774414, -5.824399948120117, -5.92549991607666, -5.94290018081665, -5.943600177764893, -6.029399871826172, -6.080100059509277, -6.117400169372559, -6.166800022125244, -6.208399772644043, -6.230999946594238, -6.2316999435424805, -6.264800071716309, -6.355000019073486, -3.5243000984191895, -4.740499973297119, -5.738699913024902, -4.9847002029418945, -4.969900131225586, -4.005099773406982, -3.225800037384033, -5.383699893951416, -5.125199794769287, -4.086400032043457, -5.212100028991699, -4.781400203704834, -3.7047998905181885, -3.490000009536743, -4.277299880981445, -3.7583999633789062, -2.8578999042510986, -4.666500091552734, -4.506999969482422, -4.299200057983398, -4.927299976348877, -4.859899997711182, -4.672100067138672, -4.883999824523926, -4.85290002822876, -4.89109992980957, -4.902100086212158, -4.316199779510498, -4.50570011138916, -4.867800235748291, -4.954999923706055, -5.085299968719482, -5.104300022125244, -5.135200023651123, -5.210999965667725, -5.240600109100342, -5.2546000480651855, -5.321800231933594, -5.329999923706055, -5.443399906158447, -5.541500091552734, -5.577400207519531, -5.697999954223633, -5.740099906921387, -5.783400058746338, -5.78380012512207, -5.785999774932861, -5.8003997802734375, -5.8867998123168945, -5.88730001449585, -5.060400009155273, -5.946700096130371, -6.020999908447266, -6.052999973297119, -6.071700096130371, -6.082499980926514, -6.083799839019775, -5.601900100708008, -5.3850998878479, -4.779399871826172, -3.8046000003814697, -4.403600215911865, -3.450200080871582, -4.947999954223633, -4.7357001304626465, -4.5609002113342285, -5.043900012969971, -4.124899864196777, -4.023900032043457, -4.853099822998047, -4.126200199127197, -4.6981000900268555, -3.807499885559082, -4.510900020599365, -5.0879998207092285, -4.640100002288818, -4.928999900817871, -4.2916998863220215, -4.783699989318848, -4.892899990081787, -4.77209997177124, -5.02839994430542, -4.924300193786621, -5.034999847412109, -5.080599784851074, -2.9855000972747803, -2.3910000324249268, -3.7499001026153564, -3.8691000938415527, -3.975399971008301, -4.079999923706055, -4.1545000076293945, -4.182000160217285, -4.218599796295166, -4.2357001304626465, -4.440700054168701, -4.586699962615967, -4.620299816131592, -4.760900020599365, -5.05019998550415, -5.064000129699707, -5.192699909210205, -5.212699890136719, -5.254000186920166, -5.376999855041504, -5.538099765777588, -5.542500019073486, -5.543499946594238, -5.596799850463867, -5.598599910736084, -5.610300064086914, -5.650700092315674, -5.688899993896484, -5.738399982452393, -5.740499973297119, -4.376500129699707, -3.9535999298095703, -3.9911999702453613, -3.1851000785827637, -3.9019999504089355, -4.770500183105469, -4.790900230407715, -4.569699764251709, -3.8387999534606934, -5.099400043487549, -4.151000022888184, -3.8812999725341797, -3.9570999145507812, -4.4868998527526855, -5.020899772644043, -4.3506999015808105, -4.790999889373779, -4.745800018310547, -2.7000999450683594, -3.5764999389648438, -4.738699913024902, -4.801300048828125, -5.025400161743164, -5.03380012512207, -5.072800159454346, -5.304699897766113, -5.3105998039245605, -3.203200101852417, -5.38640022277832, -5.4019999504089355, -5.4029998779296875, -5.417500019073486, -5.5279998779296875, -5.554800033569336, -5.667099952697754, -5.70550012588501, -5.749499797821045, -5.766300201416016, -5.974100112915039, -5.976399898529053, -6.0065999031066895, -6.027500152587891, -6.044600009918213, -6.053599834442139, -5.209400177001953, -6.0894999504089355, -6.1697998046875, -4.631400108337402, -3.2565999031066895, -4.514100074768066, -3.13070011138916, -3.0864999294281006, -4.504199981689453, -3.481100082397461, -3.4284000396728516, -2.983099937438965, -3.7465999126434326, -4.460100173950195, -4.265999794006348, -5.188300132751465, -4.931700229644775, -4.698699951171875, -4.514200210571289, -4.577099800109863, -4.349599838256836, -4.8246002197265625, -4.889400005340576, -4.997099876403809, -4.861700057983398, -5.162600040435791, -5.065100193023682, -3.249799966812134, -3.527400016784668, -3.8980000019073486, -3.9509999752044678, -4.73960018157959, -4.96560001373291, -5.005799770355225, -5.025100231170654, -5.04580020904541, -5.138400077819824, -5.166200160980225, -5.220799922943115, -5.2906999588012695, -5.32420015335083, -5.377799987792969, -5.496399879455566, -5.542600154876709, -5.835100173950195, -5.983099937438965, -6.002500057220459, -6.0346999168396, -6.055099964141846, -6.119800090789795, -3.9528000354766846, -6.2399001121521, -6.244900226593018, -6.2480998039245605, -6.32420015335083, -6.347499847412109, -6.348899841308594, -3.5160999298095703, -3.802000045776367, -5.439899921417236, -3.6394999027252197, -2.0190999507904053, -5.643899917602539, -3.057499885559082, -4.463200092315674, -4.7453999519348145, -3.8736000061035156, -4.326499938964844, -5.183199882507324, -4.549900054931641, -4.924499988555908, -4.815800189971924, -4.686600208282471, -4.463399887084961, -4.508500099182129, -4.790599822998047, -5.135700225830078, -5.0619001388549805, -4.145400047302246, -4.297399997711182, -4.3881001472473145, -4.729899883270264, -4.8983001708984375, -5.067999839782715, -5.079599857330322, -5.186299800872803, -5.207499980926514, -5.216700077056885, -5.257999897003174, -5.300300121307373, -5.3242998123168945, -5.381400108337402, -5.389100074768066, -5.435299873352051, -5.5, -5.5005998611450195, -5.586699962615967, -5.59060001373291, -5.615200042724609, -5.663700103759766, -5.665200233459473, -5.682799816131592, -5.72730016708374, -5.77810001373291, -5.084000110626221, -5.787399768829346, -5.822400093078613, -5.877099990844727, -3.9760000705718994, -3.977400064468384, -4.172299861907959, -3.6779000759124756, -4.815199851989746, -5.142600059509277, -4.283400058746338, -5.247499942779541, -3.618499994277954, -4.261099815368652, -4.277299880981445, -4.805500030517578, -4.5894999504089355, -4.855199813842773, -4.340099811553955, -4.510300159454346, -4.866199970245361, -4.661600112915039, -4.922800064086914, -4.328100204467773, -5.03410005569458, -4.543000221252441, -4.762899875640869, -4.882400035858154, -4.970900058746338, -4.997900009155273, -2.9098000526428223, -3.063499927520752, -3.1214001178741455, -3.4677999019622803, -3.481600046157837, -2.7439000606536865, -3.5629000663757324, -3.8798999786376953, -4.361100196838379, -4.403800010681152, -4.4141998291015625, -4.982500076293945, -3.9251999855041504, -5.173900127410889, -5.203700065612793, -5.500100135803223, -5.579100131988525, -5.645400047302246, -5.696899890899658, -5.75600004196167, -5.767899990081787, -5.817999839782715, -5.8358001708984375, -5.836400032043457, -5.855199813842773, -5.915900230407715, -5.964399814605713, -6.0106000900268555, -6.127799987792969, -6.13640022277832, -2.765500068664551, -4.245100021362305, -5.300899982452393, -4.756999969482422, -3.1201000213623047, -4.068999767303467, -5.1554999351501465, -4.689300060272217, -5.077600002288818, -4.220099925994873, -4.5005998611450195, -4.995999813079834, -4.6631999015808105, -5.466700077056885, -3.5078001022338867, -4.230599880218506, -4.63129997253418, -4.83050012588501, -4.83459997177124, -4.921599864959717, -5.041999816894531, -5.087399959564209, -5.098800182342529, -5.252399921417236, -5.280799865722656, -5.287799835205078, -5.384300231933594, -5.3917999267578125, -5.4182000160217285, -5.429200172424316, -5.492800235748291, -5.508900165557861, -5.529699802398682, -5.543300151824951, -3.862499952316284, -5.612100124359131, -5.63539981842041, -5.657700061798096, -5.730500221252441, -5.767899990081787, -5.781499862670898, -5.811999797821045, -5.835599899291992, -5.839700222015381, -3.9532999992370605, -4.471700191497803, -4.541800022125244, -4.943399906158447, -3.9911999702453613, -4.296599864959717, -5.073299884796143, -5.122000217437744, -3.9855000972747803, -4.1427001953125, -4.8480000495910645, -5.012400150299072, -4.521299839019775, -4.654399871826172, -4.675300121307373, -4.973599910736084, -4.911900043487549, -5.091000080108643, -5.0507001876831055, -3.3696000576019287, -3.625699996948242, -3.8331000804901123, -3.88919997215271, -4.5441999435424805, -4.554800033569336, -4.656899929046631, -4.852200031280518, -4.88100004196167, -4.951399803161621, -5.038000106811523, -5.0605998039245605, -5.117400169372559, -5.197999954223633, -5.502699851989746, -5.555200099945068, -5.58519983291626, -5.628900051116943, -5.663300037384033, -5.8059000968933105, -5.808000087738037, -5.814199924468994, -5.824699878692627, -5.84250020980835, -5.868000030517578, -5.876399993896484, -3.6124000549316406, -5.926000118255615, -5.959799766540527, -6.0030999183654785, -3.765000104904175, -3.3680999279022217, -4.796800136566162, -3.21370005607605, -4.680099964141846, -5.100500106811523, -4.4268999099731445, -4.775199890136719, -5.20989990234375, -5.404099941253662, -3.784600019454956, -3.7985999584198, -4.993199825286865, -4.456900119781494, -4.980100154876709, -4.032100200653076, -4.321599960327148, -4.791200160980225, -4.961699962615967, -5.079100131988525, -3.2046000957489014, -3.9609999656677246, -3.981800079345703, -4.0289998054504395, -4.392000198364258, -4.392600059509277, -4.408899784088135, -4.4984002113342285, -3.384500026702881, -4.8582000732421875, -4.877999782562256, -4.930099964141846, -5.055699825286865, -5.098400115966797, -5.252500057220459, -4.5802001953125, -4.436299800872803, -5.367499828338623, -5.428999900817871, -3.075000047683716, -5.462299823760986, -5.582799911499023, -5.58459997177124, -5.617499828338623, -5.689700126647949, -5.695400238037109, -5.712800025939941, -4.224599838256836, -5.8765997886657715, -5.888500213623047, -5.21150016784668, -4.576399803161621, -4.597400188446045, -5.30679988861084, -4.8231000900268555, -4.369900226593018, -4.862599849700928, -4.47160005569458, -3.6238999366760254, -3.4007999897003174, -3.914799928665161, -3.561800003051758, -3.2399001121520996, -3.9835000038146973, -4.223800182342529, -4.650700092315674, -4.7393999099731445, -3.466099977493286, -4.152500152587891, -4.6041998863220215, -4.651400089263916, -4.683300018310547, -4.817800045013428, -4.9440999031066895, -4.957699775695801, -5.093699932098389, -5.130499839782715, -5.1844000816345215, -5.287399768829346, -5.35699987411499, -5.385000228881836, -5.392499923706055, -5.422699928283691, -5.449399948120117, -5.453999996185303, -5.483699798583984, -5.539599895477295, -5.562399864196777, -5.577600002288818, -5.584099769592285, -5.644499778747559, -5.750400066375732, -5.7546000480651855, -5.759099960327148, -5.7600998878479, -3.99780011177063, -5.770699977874756, -3.7737998962402344, -3.966599941253662, -4.730800151824951, -5.315299987792969, -4.03410005569458, -4.623199939727783, -4.805200099945068, -4.94379997253418, -5.211299896240234, -4.638899803161621, -4.155799865722656, -4.797399997711182, -5.063300132751465, -4.596799850463867, -4.827300071716309, -5.204100131988525, -5.044600009918213, -5.232999801635742, -5.163300037384033, -5.22730016708374, -3.3164000511169434, -3.3714001178741455, -3.7755000591278076, -4.003799915313721, -4.095900058746338, -4.341300010681152, -4.35830020904541, -4.574399948120117, -4.577099800109863, -4.684000015258789, -4.692399978637695, -4.811699867248535, -4.997700214385986, -5.1371002197265625, -5.1407999992370605, -5.17519998550415, -5.212699890136719, -5.281700134277344, -5.3317999839782715, -5.451499938964844, -5.455100059509277, -5.524099826812744, -5.543099880218506, -5.5879998207092285, -5.592700004577637, -5.707099914550781, -5.750199794769287, -5.866099834442139, -5.8856000900268555, -5.950799942016602, -3.3292999267578125, -4.208700180053711, -3.5757999420166016, -5.21999979019165, -5.055500030517578, -4.519499778747559, -3.719099998474121, -3.9307000637054443, -4.756899833679199, -3.6947999000549316, -5.048500061035156, -3.7525999546051025, -4.230899810791016, -4.243899822235107, -4.611400127410889, -5.150599956512451, -3.799099922180176, -4.031199932098389, -4.072800159454346, -4.3831000328063965, -4.493100166320801, -4.547999858856201, -4.056300163269043, -4.783699989318848, -5.4567999839782715, -5.504199981689453, -5.515200138092041, -5.554900169372559, -5.692399978637695, -5.747600078582764, -5.750999927520752, -5.752999782562256, -5.7692999839782715, -5.775000095367432, -5.785299777984619, -5.815199851989746, -5.873499870300293, -5.877600193023682, -5.879300117492676, -5.894199848175049, -5.966899871826172, -5.970799922943115, -6.009099960327148, -6.069900035858154, -6.079500198364258, -6.082200050354004, -4.6774001121521, -3.351599931716919, -3.8951001167297363, -3.064199924468994, -4.393700122833252, -2.914799928665161, -4.6321001052856445, -3.1598000526428223, -3.7032999992370605, -4.369200229644775, -4.317699909210205, -4.9222002029418945, -4.618800163269043, -5.161499977111816, -4.794899940490723, -4.9095001220703125, -4.335000038146973, -5.348899841308594, -4.342800140380859, -4.973400115966797, -5.03380012512207, -5.027699947357178, -4.990300178527832, -4.583600044250488, -4.693999767303467, -4.860799789428711, -4.975500106811523, -3.612499952316284, -4.427499771118164, -4.208199977874756, -4.644899845123291, -4.683599948883057, -4.746600151062012, -4.759399890899658, -4.76609992980957, -4.8495001792907715, -4.88539981842041, -4.950900077819824, -5.04580020904541, -5.054500102996826, -5.168300151824951, -5.188700199127197, -5.222300052642822, -5.265699863433838, -5.4593000411987305, -5.522500038146973, -5.529200077056885, -5.53000020980835, -4.125699996948242, -5.58650016784668, -5.592700004577637, -5.617000102996826, -5.626999855041504, -5.6971001625061035, -5.746300220489502, -5.752099990844727, -5.762700080871582, -4.435400009155273, -4.596700191497803, -4.00600004196167, -4.404600143432617, -4.617499828338623, -3.8796000480651855, -4.486000061035156, -4.883600234985352, -4.516900062561035, -4.78980016708374, -4.7459001541137695, -4.375800132751465, -3.9375, -4.243000030517578, -4.088900089263916, -4.4496002197265625, -4.404300212860107, -4.825799942016602, -3.4003000259399414, -4.083399772644043, -4.3256001472473145, -4.330399990081787, -4.401100158691406, -4.526400089263916, -4.707099914550781, -4.721499919891357, -4.728000164031982, -4.840799808502197, -4.909299850463867, -4.960700035095215, -5.01039981842041, -5.043700218200684, -3.6061999797821045, -5.229899883270264, -5.242099761962891, -5.286099910736084, -5.333099842071533, -5.359600067138672, -5.483799934387207, -5.57289981842041, -5.582499980926514, -5.647799968719482, -5.651700019836426, -5.695700168609619, -5.696100234985352, -5.704699993133545, -5.741499900817871, -5.791299819946289, -4.685800075531006, -3.853300094604492, -4.77810001373291, -5.058199882507324, -4.10830020904541, -3.377700090408325, -5.066299915313721, -4.954599857330322, -3.9863998889923096, -4.064799785614014, -4.63070011138916, -4.9207000732421875, -4.352200031280518, -5.009799957275391, -5.091700077056885, -5.053299903869629, -4.8470001220703125, -4.837600231170654, -2.4570999145507812, -3.913599967956543, -4.251200199127197, -4.267600059509277, -4.766499996185303, -5.011099815368652, -5.048699855804443, -5.070300102233887, -5.098899841308594, -5.183899879455566, -5.214700222015381, -5.253900051116943, -5.266300201416016, -5.265900135040283, -5.294400215148926, -5.29610013961792, -5.31220006942749, -5.443299770355225, -5.518899917602539, -5.559000015258789, -5.58519983291626, -5.629499912261963, -5.638000011444092, -5.643499851226807, -5.655099868774414, -5.711400032043457, -5.735000133514404, -5.745299816131592, -5.756700038909912, -5.777900218963623, -3.470599889755249, -3.938999891281128, -4.868100166320801, -4.586100101470947, -3.856600046157837, -4.696300029754639, -3.754699945449829, -4.850200176239014, -5.04580020904541, -4.047500133514404, -3.3485000133514404, -4.156700134277344, -4.168000221252441, -4.890100002288818, -5.017600059509277, -4.27269983291626, -4.935999870300293, -5.078400135040283, -4.7631001472473145, -4.731299877166748, -5.101799964904785, -3.603800058364868, -3.6777000427246094, -4.429500102996826, -3.0218000411987305, -4.659200191497803, -4.669099807739258, -4.718200206756592, -4.787700176239014, -4.952499866485596, -5.00439977645874, -5.045100212097168, -5.222799777984619, -5.228700160980225, -5.235599994659424, -5.316400051116943, -5.354400157928467, -5.3684000968933105, -5.444300174713135, -5.453000068664551, -5.457200050354004, -5.585999965667725, -5.6132001876831055, -5.690999984741211, -5.762800216674805, -5.76800012588501, -5.7683000564575195, -5.822299957275391, -5.832399845123291, -5.841599941253662, -5.853099822998047, -4.856500148773193, -4.683700084686279, -2.325700044631958, -4.512400150299072, -3.3036999702453613, -4.4421000480651855, -4.707600116729736, -4.577600002288818, -4.315800189971924, -4.877099990844727, -4.815299987792969, -4.994999885559082, -4.487100124359131, -5.312099933624268, -5.294099807739258, -3.501300096511841, -3.7969000339508057, -4.023499965667725, -4.061399936676025, -4.106400012969971, -4.182600021362305, -4.2052001953125, -4.665900230407715, -4.716700077056885, -4.811500072479248, -4.846499919891357, -4.884699821472168, -5.033199787139893, -5.123199939727783, -5.123199939727783, -5.2017998695373535, -5.2596001625061035, -5.27869987487793, -5.347300052642822, -5.4116997718811035, -5.444300174713135, -5.472599983215332, -5.540299892425537, -5.573400020599365, -5.582099914550781, -5.633399963378906, -5.637400150299072, -5.644100189208984, -5.6875, -5.742499828338623, -3.0550999641418457, -4.473100185394287, -4.873000144958496, -4.683499813079834, -5.100800037384033, -4.428500175476074, -4.632599830627441, -4.114200115203857, -5.010200023651123, -4.913099765777588, -4.952400207519531, -4.32390022277832, -4.8942999839782715, -4.811200141906738, -4.142899990081787, -4.782899856567383, -5.040900230407715, -4.950699806213379, -3.8849000930786133, -4.017899990081787, -4.034900188446045, -4.144499778747559, -4.316199779510498, -4.361199855804443, -4.386300086975098, -4.482699871063232, -4.494800090789795, -4.633500099182129, -4.674799919128418, -4.685999870300293, -4.896100044250488, -4.938899993896484, -5.042399883270264, -5.088399887084961, -5.161799907684326, -5.168900012969971, -5.177299976348877, -5.186800003051758, -5.27869987487793, -5.328999996185303, -5.338900089263916, -5.357100009918213, -5.362800121307373, -5.366199970245361, -5.367099761962891, -5.377299785614014, -5.388500213623047, -5.398900032043457, -4.437900066375732, -4.244800090789795, -4.709400177001953, -4.452400207519531, -4.4552998542785645, -4.47130012512207, -3.5968000888824463, -4.933800220489502, -4.878900051116943, -4.913300037384033, -4.3780999183654785, -4.883900165557861, -4.927800178527832, -5.034299850463867, -3.6698999404907227, -3.7342000007629395, -4.244100093841553, -4.501299858093262, -4.55049991607666, -4.691400051116943, -4.745999813079834, -5.036900043487549, -5.275400161743164, -5.349999904632568, -5.390100002288818, -5.390999794006348, -5.431300163269043, -5.49399995803833, -5.620100021362305, -5.664599895477295, -5.682400226593018, -5.712699890136719, -5.712800025939941, -5.737100124359131, -5.753300189971924, -5.775199890136719, -5.785200119018555, -5.7906999588012695, -5.855599880218506, -5.8892998695373535, -5.8942999839782715, -5.90369987487793, -5.929299831390381, -5.961699962615967, -3.9828999042510986, -3.1730000972747803, -4.5528998374938965, -3.484299898147583, -3.2509000301361084, -4.795000076293945, -3.482599973678589, -5.206399917602539, -4.207499980926514, -5.07919979095459, -2.9407999515533447, -4.463500022888184, -4.7820000648498535, -4.136300086975098, -4.363900184631348, -5.249499797821045, -5.174600124359131, -5.051499843597412, -4.1143999099731445, -4.003499984741211, -4.775300025939941, -4.895999908447266, -4.702099800109863, -4.791100025177002, -4.854000091552734, -5.052800178527832, -3.2321999073028564, -3.4892001152038574, -4.300899982452393, -4.41349983215332, -4.451399803161621, -4.494900226593018, -4.656499862670898, -4.757599830627441, -4.938199996948242, -4.96560001373291, -4.988900184631348, -5.0071001052856445, -5.123499870300293, -5.20550012588501, -5.210599899291992, -5.21750020980835, -5.2403998374938965, -5.273399829864502, -5.2835001945495605, -5.305200099945068, -5.371300220489502, -5.405799865722656, -5.440899848937988, -5.45359992980957, -5.4980998039245605, -5.506100177764893, -5.518499851226807, -5.519400119781494, -5.52400016784668, -5.529600143432617, -4.072199821472168, -4.065899848937988, -4.251100063323975, -4.699399948120117, -4.009399890899658, -4.4278998374938965, -3.933199882507324, -4.694699764251709, -4.876999855041504, -3.627700090408325, -4.815400123596191, -4.917799949645996, -5.1072001457214355, -4.923799991607666, -5.09689998626709, -4.936800003051758, -5.08620023727417, -4.993599891662598, -3.36929988861084, -3.9367001056671143, -3.9753000736236572, -4.092599868774414, -4.213200092315674, -4.634799957275391, -4.792399883270264, -4.837800025939941, -4.892199993133545, -4.911200046539307, -5.066199779510498, -5.1118998527526855, -5.120800018310547, -5.163599967956543, -5.229800224304199, -4.313399791717529, -5.255000114440918, -5.280900001525879, -5.288300037384033, -5.299799919128418, -5.329100131988525, -5.421199798583984, -5.460000038146973, -4.222700119018555, -5.48199987411499, -5.51639986038208, -5.525599956512451, -5.526199817657471, -5.536099910736084, -5.577400207519531, -4.630899906158447, -5.10890007019043, -4.645899772644043, -3.6619999408721924, -4.224400043487549, -3.8503000736236572, -4.43209981918335, -4.205100059509277, -4.282400131225586, -4.733699798583984, -4.776400089263916, -3.910099983215332, -4.4532999992370605, -4.988500118255615, -4.913000106811523, -5.085100173950195, -3.3921000957489014, -3.6122000217437744, -3.75, -3.8552000522613525, -3.9674999713897705, -4.191199779510498, -4.259399890899658, -4.4029998779296875, -4.47189998626709, -4.488800048828125, -4.59499979019165, -4.650300025939941, -4.697400093078613, -4.704899787902832, -4.717800140380859, -4.758999824523926, -4.804699897766113, -4.8180999755859375, -4.936699867248535, -4.974599838256836, -4.979499816894531, -4.9934000968933105, -5.00629997253418, -5.0507001876831055, -5.0569000244140625, -5.057499885559082, -5.073200225830078, -5.112500190734863, -5.158899784088135, -5.224699974060059, -3.9458999633789062, -3.3066999912261963, -4.424600124359131, -4.1529998779296875, -4.113900184631348, -4.538899898529053, -4.333099842071533, -4.667500019073486], \"loglift\": [30.0, 29.0, 28.0, 27.0, 26.0, 25.0, 24.0, 23.0, 22.0, 21.0, 20.0, 19.0, 18.0, 17.0, 16.0, 15.0, 14.0, 13.0, 12.0, 11.0, 10.0, 9.0, 8.0, 7.0, 6.0, 5.0, 4.0, 3.0, 2.0, 1.0, 2.6385, 2.6327, 2.6323, 2.6317, 2.6192, 2.617, 2.6129, 2.6127, 2.6126, 2.6078, 2.6074, 2.6058, 2.6048, 2.6027, 2.6018, 2.5984, 2.5968, 2.5955, 2.5937, 2.5935, 2.5921, 2.5866, 2.5837, 2.5824, 2.5821, 2.5803, 2.5796, 2.5789, 2.5749, 2.5711, 2.5685, 2.5477, 2.5571, 2.5482, 2.4779, 2.3101, 2.3422, 2.4807, 2.464, 2.3648, 2.3267, 2.3591, 2.2557, 2.2528, 2.2291, 1.6527, 2.3375, 1.7241, 1.6172, 1.8909, 1.3271, 2.0283, 1.3267, 1.1332, 2.013, 0.6737, 2.7095, 2.7017, 2.6998, 2.6993, 2.6888, 2.681, 2.6685, 2.6635, 2.661, 2.6609, 2.6563, 2.6551, 2.6359, 2.6274, 2.624, 2.6198, 2.6138, 2.6133, 2.612, 2.6074, 2.6068, 2.6061, 2.6007, 2.6006, 2.6003, 2.5979, 2.5961, 2.5951, 2.5947, 2.5928, 2.5479, 2.5641, 2.5005, 2.4347, 2.4384, 2.4288, 2.4837, 2.5171, 1.9891, 2.3767, 2.0535, 1.8761, 1.824, 1.8705, 1.8344, 1.5131, 1.5133, 1.4339, 1.9492, 1.5755, 1.1593, 0.4636, 1.5319, 1.796, 1.2951, 2.7431, 2.7423, 2.7387, 2.7365, 2.7359, 2.731, 2.7266, 2.7248, 2.7239, 2.7234, 2.7151, 2.7136, 2.7101, 2.707, 2.7024, 2.6978, 2.6973, 2.695, 2.6895, 2.6885, 2.6885, 2.6833, 2.68, 2.6775, 2.674, 2.671, 2.6693, 2.6693, 2.6667, 2.6593, 2.6135, 2.6367, 2.6518, 2.6167, 2.6134, 2.5619, 2.5135, 2.629, 2.606, 2.5143, 2.6055, 2.5361, 2.2453, 2.1647, 2.3309, 1.9794, 1.6177, 2.214, 2.0787, 1.5774, 2.1896, 2.0373, 1.0293, 1.1828, 0.7796, 1.1035, 0.7051, 2.9034, 2.9004, 2.893, 2.8908, 2.8871, 2.8866, 2.8856, 2.8831, 2.8821, 2.8816, 2.8792, 2.8789, 2.8743, 2.87, 2.8683, 2.8621, 2.8593, 2.8573, 2.8573, 2.8572, 2.8563, 2.851, 2.8509, 2.85, 2.847, 2.8418, 2.8394, 2.838, 2.8371, 2.837, 2.8361, 2.8035, 2.7513, 2.6551, 2.695, 2.5982, 2.7119, 2.6731, 2.6438, 2.7227, 2.4968, 2.4505, 2.6053, 2.3499, 2.4698, 1.9679, 2.2923, 2.6091, 2.2521, 2.4704, 1.7666, 1.5029, 1.6791, 0.9658, 2.0594, 1.0258, 0.7114, 2.3134, 2.9636, 2.9635, 2.959, 2.9579, 2.9569, 2.9557, 2.9548, 2.9544, 2.954, 2.9537, 2.9506, 2.948, 2.9473, 2.9443, 2.9366, 2.9362, 2.9319, 2.9312, 2.9297, 2.9249, 2.9176, 2.9174, 2.9173, 2.9147, 2.9146, 2.914, 2.9118, 2.9097, 2.9069, 2.9067, 2.8824, 2.8733, 2.833, 2.7847, 2.7762, 2.8177, 2.8001, 2.761, 2.5175, 2.6986, 2.1, 1.866, 1.7443, 2.003, 2.6456, 1.3886, 2.1523, 0.8813, 2.9963, 2.992, 2.9758, 2.9743, 2.9681, 2.9679, 2.9667, 2.9583, 2.958, 2.9556, 2.9549, 2.9542, 2.9541, 2.9535, 2.9483, 2.9469, 2.9409, 2.9386, 2.936, 2.9349, 2.9206, 2.9205, 2.9181, 2.9165, 2.9151, 2.9144, 2.9142, 2.9114, 2.9044, 2.9036, 2.8246, 2.8521, 2.7827, 2.711, 2.7785, 2.654, 2.5245, 2.4038, 2.5029, 2.6491, 2.0876, 2.6011, 2.3844, 2.0207, 1.7996, 1.8471, 1.3977, 1.7497, 1.6332, 1.7079, 0.7456, 2.3895, 0.9048, 3.012, 3.0103, 3.0071, 3.0065, 2.9935, 2.9875, 2.9863, 2.9857, 2.9851, 2.982, 2.981, 2.979, 2.9763, 2.9749, 2.9726, 2.9671, 2.9648, 2.9475, 2.9368, 2.9353, 2.9327, 2.931, 2.9255, 2.9184, 2.9144, 2.9139, 2.9136, 2.9058, 2.9033, 2.9031, 2.8475, 2.8132, 2.8485, 2.647, 2.4565, 2.8486, 2.4825, 2.6085, 2.6209, 2.3684, 2.4884, 2.6492, 2.3476, 2.4078, 2.1985, 1.8512, 1.2402, 1.1988, 0.9557, 2.0543, 1.1905, 3.0569, 3.0547, 3.0531, 3.046, 3.0415, 3.0361, 3.0357, 3.0319, 3.0311, 3.0307, 3.029, 3.0273, 3.0262, 3.0237, 3.0233, 3.0211, 3.0179, 3.0178, 3.0132, 3.013, 3.0116, 3.0087, 3.0087, 3.0076, 3.0048, 3.0015, 3.0011, 3.0008, 2.9984, 2.9945, 2.8604, 2.8446, 2.8204, 2.7583, 2.8869, 2.9143, 2.7353, 2.9169, 2.5307, 2.6382, 2.5046, 2.6784, 2.4957, 2.6058, 2.206, 2.2723, 2.5196, 2.1126, 2.4444, 1.299, 2.5828, 1.1948, 1.7992, 1.5773, 1.0237, 0.7484, 3.2193, 3.2186, 3.2182, 3.2158, 3.2157, 3.2154, 3.215, 3.2116, 3.2039, 3.203, 3.2028, 3.1868, 3.181, 3.1791, 3.1777, 3.1622, 3.1573, 3.1529, 3.1493, 3.1449, 3.144, 3.14, 3.1386, 3.1385, 3.137, 3.1318, 3.1274, 3.123, 3.1112, 3.1102, 2.9839, 2.9249, 3.0036, 2.8894, 2.507, 2.5053, 2.8853, 2.392, 2.4192, 1.1668, 1.4522, 2.118, 0.944, 1.6424, 3.2773, 3.2677, 3.2585, 3.2525, 3.2523, 3.2493, 3.2446, 3.2427, 3.2422, 3.2351, 3.2336, 3.2332, 3.228, 3.2276, 3.226, 3.2254, 3.2215, 3.2205, 3.2191, 3.2182, 3.216, 3.2136, 3.2119, 3.2103, 3.2047, 3.2018, 3.2006, 3.1981, 3.1961, 3.1957, 3.1638, 3.165, 3.1647, 3.1065, 2.886, 2.9393, 3.0519, 3.0413, 2.5767, 2.4293, 2.4941, 2.6527, 2.0248, 1.627, 1.4638, 2.1331, 0.8634, 1.5074, 0.6506, 3.2877, 3.2853, 3.2829, 3.2822, 3.2698, 3.2695, 3.2668, 3.2606, 3.2596, 3.257, 3.2536, 3.2526, 3.2502, 3.2464, 3.2294, 3.226, 3.2239, 3.2208, 3.2183, 3.207, 3.2068, 3.2062, 3.2053, 3.2038, 3.2015, 3.2008, 3.1965, 3.1962, 3.1929, 3.1886, 3.1585, 3.073, 3.0731, 2.7809, 2.996, 3.0608, 2.8908, 2.8998, 3.024, 3.0846, 2.569, 2.4538, 2.8455, 2.5134, 2.7532, 1.7432, 1.7367, 2.4026, 2.3356, 1.6069, 3.3022, 3.2944, 3.294, 3.2933, 3.2865, 3.2865, 3.2861, 3.284, 3.2811, 3.2733, 3.2726, 3.2706, 3.2656, 3.2637, 3.2564, 3.254, 3.2516, 3.2501, 3.2465, 3.2464, 3.2445, 3.2365, 3.2363, 3.234, 3.2286, 3.2282, 3.2268, 3.2218, 3.2128, 3.2117, 3.1899, 3.163, 3.1518, 3.1616, 3.0706, 2.9555, 3.0177, 2.8907, 2.5691, 2.3065, 2.4235, 1.8793, 1.0463, 1.7201, 1.9152, 2.1845, 1.1372, 3.3114, 3.3025, 3.2923, 3.291, 3.29, 3.2857, 3.2812, 3.2806, 3.2749, 3.2733, 3.2707, 3.2655, 3.2616, 3.26, 3.2595, 3.2577, 3.2561, 3.2558, 3.2539, 3.2502, 3.2487, 3.2476, 3.2471, 3.2427, 3.2344, 3.2341, 3.2337, 3.2336, 3.2329, 3.2327, 3.2184, 3.1054, 3.1619, 3.1406, 2.7937, 2.878, 2.9342, 2.9814, 3.0009, 2.4751, 1.7962, 2.5065, 2.7698, 0.7235, 0.919, 2.3176, 1.0038, 2.154, 0.4439, 1.6091, 3.3164, 3.3159, 3.3118, 3.3086, 3.3071, 3.3024, 3.302, 3.2967, 3.2967, 3.2936, 3.2933, 3.2895, 3.2825, 3.2764, 3.2763, 3.2746, 3.2728, 3.2692, 3.2664, 3.2593, 3.2591, 3.2546, 3.2533, 3.2502, 3.2498, 3.2412, 3.2377, 3.2275, 3.2257, 3.2194, 3.1845, 3.1922, 3.1102, 3.1932, 3.1608, 3.0806, 2.9426, 2.7887, 2.9976, 2.5866, 2.8797, 1.6343, 1.9043, 1.6695, 0.7089, 1.7775, 3.3248, 3.3216, 3.3209, 3.3148, 3.3122, 3.3107, 3.3046, 3.3036, 3.2718, 3.2687, 3.2679, 3.2652, 3.2549, 3.2504, 3.2501, 3.25, 3.2486, 3.2481, 3.2472, 3.2446, 3.2392, 3.2388, 3.2387, 3.2373, 3.2301, 3.2297, 3.2257, 3.2191, 3.218, 3.2177, 3.2049, 3.1886, 3.1545, 3.0798, 3.0994, 2.9035, 3.0825, 2.7922, 2.8194, 2.947, 2.8442, 2.993, 2.8406, 3.0046, 2.7671, 2.7951, 2.4055, 2.9907, 2.1231, 2.6694, 2.6425, 2.6238, 2.5475, 1.6688, 1.8039, 1.2783, 0.9746, 3.3596, 3.3458, 3.3428, 3.3398, 3.3386, 3.3366, 3.3361, 3.3359, 3.3329, 3.3316, 3.329, 3.3249, 3.3246, 3.3191, 3.3181, 3.3164, 3.314, 3.3023, 3.298, 3.2976, 3.2975, 3.2958, 3.2934, 3.2929, 3.2911, 3.2903, 3.2847, 3.2806, 3.2801, 3.2792, 3.2754, 3.2674, 3.2041, 3.2027, 3.083, 2.9161, 2.8556, 2.9997, 2.7804, 2.852, 2.7783, 2.2532, 1.8119, 1.9062, 1.5382, 1.5989, 1.4377, 1.6503, 3.4129, 3.4037, 3.3986, 3.3985, 3.3968, 3.3934, 3.3878, 3.3873, 3.3871, 3.383, 3.3802, 3.3781, 3.3758, 3.3743, 3.3689, 3.3648, 3.3641, 3.3615, 3.3587, 3.357, 3.3487, 3.3421, 3.3414, 3.3362, 3.3358, 3.3321, 3.3321, 3.3313, 3.3281, 3.3235, 3.3192, 3.3005, 3.3044, 3.3082, 3.2485, 2.971, 3.1701, 3.0511, 2.5246, 2.5285, 2.7234, 2.8661, 2.084, 2.8317, 2.9102, 2.7248, 1.6274, 0.9377, 3.4487, 3.4397, 3.4332, 3.4328, 3.4181, 3.4079, 3.4061, 3.405, 3.4036, 3.3991, 3.3973, 3.3951, 3.3943, 3.3939, 3.3926, 3.3925, 3.3915, 3.3828, 3.3773, 3.3742, 3.3721, 3.3685, 3.3678, 3.3673, 3.3663, 3.3613, 3.3592, 3.3582, 3.3572, 3.3551, 3.349, 3.3278, 3.3293, 3.3059, 3.2049, 3.2771, 3.1513, 3.268, 3.2822, 3.0698, 2.9024, 2.6174, 2.6192, 3.0268, 2.9731, 1.5694, 2.5351, 2.9087, 2.0402, 1.3499, 1.4703, 3.4965, 3.4955, 3.4805, 3.4766, 3.4732, 3.4729, 3.4711, 3.4684, 3.4613, 3.4588, 3.4567, 3.4468, 3.4465, 3.4461, 3.4409, 3.4384, 3.4374, 3.432, 3.4313, 3.431, 3.4207, 3.4184, 3.4114, 3.4045, 3.404, 3.404, 3.3984, 3.3974, 3.3964, 3.3952, 3.3887, 3.3566, 3.2477, 3.2713, 3.1205, 3.222, 3.2481, 3.0461, 2.8973, 3.0386, 2.6887, 2.6542, 1.4649, 3.0571, 1.9217, 3.4993, 3.4954, 3.4916, 3.4909, 3.4899, 3.4883, 3.4878, 3.4746, 3.4728, 3.4691, 3.4676, 3.466, 3.459, 3.4542, 3.4542, 3.4497, 3.4462, 3.445, 3.4405, 3.436, 3.4336, 3.4315, 3.4262, 3.4234, 3.4227, 3.4183, 3.4179, 3.4173, 3.4134, 3.4081, 3.2942, 3.3542, 3.3692, 3.344, 3.3737, 3.2683, 3.2742, 3.176, 3.3108, 3.1652, 3.1642, 2.3379, 2.8008, 2.6074, 1.244, 1.7069, 2.7779, 0.7956, 3.5568, 3.5543, 3.5539, 3.5516, 3.5473, 3.5461, 3.5453, 3.5424, 3.542, 3.5373, 3.5357, 3.5353, 3.5263, 3.5243, 3.5189, 3.5164, 3.5121, 3.5117, 3.5111, 3.5106, 3.5046, 3.5011, 3.5004, 3.4991, 3.4987, 3.4984, 3.4984, 3.4976, 3.4968, 3.496, 3.4145, 3.3219, 3.2992, 3.1409, 3.1225, 2.8345, 2.141, 3.1725, 2.9668, 2.913, 1.6802, 2.3279, 2.1329, 0.741, 3.5618, 3.5609, 3.5508, 3.5434, 3.5418, 3.5367, 3.5345, 3.5208, 3.5064, 3.5012, 3.4982, 3.4981, 3.495, 3.49, 3.479, 3.4747, 3.473, 3.47, 3.47, 3.4675, 3.4658, 3.4635, 3.4625, 3.4619, 3.4546, 3.4507, 3.4501, 3.449, 3.4459, 3.4419, 3.439, 3.3249, 3.3696, 3.2837, 3.2151, 3.3499, 3.189, 3.3712, 3.1796, 3.3319, 2.8065, 3.1505, 3.2252, 2.7727, 2.6705, 3.1855, 3.1124, 2.9373, 1.6831, 1.3168, 2.2827, 1.7822, 0.9051, 0.8414, 1.0988, 1.8905, 3.6449, 3.6419, 3.6258, 3.6224, 3.6211, 3.6197, 3.6136, 3.6093, 3.6005, 3.599, 3.5977, 3.5967, 3.5898, 3.5844, 3.584, 3.5836, 3.582, 3.5796, 3.5789, 3.5773, 3.5722, 3.5692, 3.5665, 3.5654, 3.5615, 3.5608, 3.5597, 3.5596, 3.5592, 3.5586, 3.4946, 3.3933, 3.3379, 3.3617, 3.0973, 3.1013, 2.3482, 2.9628, 3.0994, 1.9457, 2.8361, 2.6299, 3.0733, 2.3875, 2.7149, 1.2304, 2.437, 1.3713, 3.6721, 3.6631, 3.6623, 3.6596, 3.6565, 3.6424, 3.6355, 3.6333, 3.6305, 3.6295, 3.6207, 3.6178, 3.6173, 3.6144, 3.6099, 3.6082, 3.608, 3.6061, 3.6056, 3.6047, 3.6024, 3.5949, 3.5915, 3.5898, 3.5896, 3.5864, 3.5856, 3.5855, 3.5846, 3.5806, 3.5136, 3.5421, 3.4656, 3.2503, 3.3435, 3.2638, 3.3226, 3.189, 3.1363, 3.2791, 3.3001, 2.4385, 2.0928, 2.6351, 1.5981, 2.5664, 3.7254, 3.7223, 3.7199, 3.7179, 3.7155, 3.7099, 3.7079, 3.7033, 3.7009, 3.7002, 3.6961, 3.6937, 3.6916, 3.6913, 3.6907, 3.6887, 3.6865, 3.6858, 3.6794, 3.6772, 3.6769, 3.6761, 3.6753, 3.6725, 3.6721, 3.6721, 3.6711, 3.6685, 3.6653, 3.6605, 3.5435, 3.4649, 3.5829, 3.5083, 2.9903, 2.6479, 1.3742, 2.1858]}, \"token.table\": {\"Topic\": [24, 6, 14, 13, 4, 15, 1, 2, 6, 9, 12, 14, 15, 12, 3, 7, 4, 7, 8, 21, 13, 3, 10, 11, 7, 18, 21, 22, 17, 21, 17, 9, 3, 11, 12, 17, 21, 22, 24, 12, 13, 19, 3, 14, 15, 4, 14, 19, 21, 13, 4, 8, 16, 20, 21, 22, 14, 5, 2, 21, 12, 21, 13, 6, 12, 14, 15, 8, 10, 13, 15, 16, 1, 9, 14, 16, 6, 18, 20, 9, 19, 20, 14, 22, 21, 16, 22, 12, 14, 12, 24, 7, 16, 24, 1, 3, 4, 5, 7, 11, 24, 16, 20, 4, 15, 19, 23, 18, 6, 1, 14, 16, 18, 10, 14, 16, 7, 7, 1, 3, 4, 17, 12, 4, 23, 22, 11, 2, 14, 5, 12, 3, 1, 11, 2, 22, 2, 2, 5, 22, 10, 19, 6, 14, 24, 17, 9, 20, 6, 25, 18, 19, 18, 9, 2, 2, 10, 17, 20, 19, 1, 2, 3, 7, 10, 16, 19, 20, 8, 10, 21, 24, 13, 15, 25, 2, 3, 11, 6, 19, 5, 17, 18, 1, 8, 19, 1, 3, 4, 10, 22, 22, 6, 17, 10, 4, 7, 3, 21, 23, 18, 17, 22, 16, 23, 18, 7, 17, 2, 4, 7, 9, 16, 24, 7, 25, 24, 5, 22, 14, 21, 5, 1, 2, 3, 6, 12, 13, 14, 16, 18, 21, 2, 12, 2, 4, 9, 10, 10, 9, 17, 2, 4, 1, 19, 20, 24, 24, 22, 5, 12, 20, 24, 7, 8, 9, 1, 3, 4, 11, 9, 15, 5, 16, 22, 11, 3, 3, 2, 20, 8, 16, 3, 18, 22, 19, 24, 23, 4, 7, 13, 17, 20, 9, 23, 9, 13, 13, 4, 11, 23, 7, 16, 5, 6, 2, 13, 21, 20, 4, 10, 13, 16, 18, 6, 1, 12, 20, 3, 19, 5, 18, 23, 19, 25, 5, 5, 6, 9, 17, 6, 14, 16, 21, 23, 14, 12, 20, 6, 6, 14, 4, 18, 19, 8, 24, 5, 13, 22, 15, 17, 21, 24, 23, 7, 20, 1, 10, 14, 25, 21, 11, 15, 22, 11, 18, 21, 4, 10, 19, 13, 6, 23, 23, 9, 20, 2, 3, 12, 7, 1, 4, 4, 8, 11, 13, 1, 4, 15, 15, 8, 11, 18, 20, 4, 17, 8, 24, 20, 21, 3, 3, 19, 3, 3, 7, 8, 21, 2, 3, 7, 1, 4, 5, 10, 14, 17, 19, 8, 18, 17, 4, 10, 1, 4, 12, 25, 1, 4, 9, 11, 14, 18, 23, 24, 6, 13, 14, 21, 22, 9, 1, 24, 2, 3, 3, 2, 22, 1, 4, 7, 16, 21, 11, 1, 3, 7, 9, 11, 15, 19, 1, 15, 2, 11, 20, 8, 1, 3, 12, 14, 1, 4, 5, 12, 19, 14, 14, 20, 18, 10, 13, 22, 2, 2, 3, 21, 8, 2, 3, 21, 14, 19, 10, 23, 24, 11, 13, 17, 19, 21, 24, 19, 18, 8, 20, 20, 8, 21, 13, 22, 5, 6, 14, 11, 4, 18, 10, 12, 6, 9, 18, 16, 19, 5, 6, 14, 17, 22, 7, 15, 9, 15, 15, 22, 1, 1, 15, 16, 21, 17, 14, 16, 19, 23, 8, 24, 13, 1, 6, 8, 11, 14, 19, 22, 1, 7, 25, 11, 20, 19, 10, 13, 24, 20, 4, 6, 14, 10, 23, 3, 13, 1, 1, 17, 1, 3, 8, 11, 16, 24, 2, 20, 8, 8, 12, 4, 8, 22, 14, 17, 16, 8, 17, 10, 13, 20, 22, 8, 10, 12, 16, 17, 3, 4, 8, 21, 2, 4, 8, 13, 16, 12, 18, 20, 3, 4, 13, 19, 20, 17, 1, 25, 1, 22, 14, 1, 10, 16, 13, 9, 13, 20, 16, 5, 4, 5, 17, 15, 22, 8, 13, 13, 24, 9, 24, 8, 13, 18, 22, 7, 11, 12, 25, 13, 1, 3, 4, 12, 15, 11, 25, 5, 6, 22, 12, 14, 1, 4, 8, 20, 4, 14, 23, 11, 1, 5, 15, 16, 22, 8, 5, 13, 24, 4, 8, 8, 11, 14, 12, 24, 9, 16, 16, 19, 16, 19, 24, 11, 16, 21, 14, 11, 13, 15, 19, 11, 18, 19, 22, 22, 2, 12, 2, 12, 25, 3, 5, 7, 8, 24, 2, 12, 18, 4, 7, 10, 13, 17, 1, 3, 6, 16, 17, 20, 22, 1, 2, 3, 4, 5, 6, 7, 16, 23, 1, 22, 7, 25, 24, 24, 2, 3, 5, 19, 23, 7, 6, 11, 15, 15, 18, 20, 10, 18, 10, 5, 16, 17, 24, 25, 25, 1, 4, 11, 21, 20, 25, 4, 12, 13, 16, 20, 21, 10, 7, 12, 16, 23, 18, 3, 12, 11, 8, 4, 14, 15, 16, 23, 2, 3, 7, 2, 3, 7, 11, 12, 19, 2, 3, 7, 3, 12, 13, 21, 22, 22, 4, 3, 4, 7, 1, 2, 20, 3, 11, 15, 2, 4, 7, 10, 12, 15, 22, 25, 2, 3, 4, 7, 1, 3, 5, 6, 14, 16, 20, 22, 23, 1, 2, 3, 6, 7, 12, 14, 20, 25, 11, 6, 14, 20, 18, 9, 18, 12, 7, 3, 3, 6, 5, 11, 5, 6, 12, 21, 10, 12, 17, 5, 2, 12, 2, 3, 23, 7, 7, 7, 3, 20, 7, 1, 1, 15, 19, 24, 14, 4, 25, 25, 17, 12, 13, 23, 2, 25, 25, 13, 13, 13, 21, 14, 20, 9, 9, 12, 14, 16, 5, 4, 5, 16, 20, 3, 10, 10, 1, 13, 15, 3, 2, 5, 22, 25, 2, 24, 12, 23, 2, 12, 25, 2, 21, 23, 6, 9, 14, 20, 22, 1, 5, 6, 9, 14, 1, 6, 9, 14, 17, 20, 6, 8, 15, 20, 3, 4, 11, 14, 16, 18, 25, 12, 3, 12, 15, 8, 7, 10, 11, 23, 24, 1, 11, 15, 17, 20, 21, 1, 2, 3, 12, 22, 4, 8, 1, 1, 10, 15, 18, 1, 2, 7, 5, 8, 9, 5, 2, 14, 4, 7, 13, 15, 16, 18, 22, 17, 1, 17, 23, 11, 16, 21, 8, 3, 4, 7, 8, 12, 17, 24, 5, 4, 7, 21, 2, 3, 4, 7, 2, 1, 23, 21, 2, 7, 7, 25, 20, 15, 5, 22, 18, 10, 17, 9, 6, 3, 11, 23, 23, 3, 11, 11, 13, 23, 24, 18, 16, 12, 18, 8, 2, 11, 16, 22, 7, 10, 18, 20, 1, 6, 16, 12, 15, 17, 9, 14, 6, 18, 4, 6, 10, 16, 18, 22, 16, 1, 1, 1, 15, 18, 8, 12, 9, 10, 15, 17, 9, 14, 16, 17, 5, 14, 7, 14, 19, 1, 5, 10, 13, 23, 21, 15, 16, 1, 2, 11, 2, 3, 3, 3, 25, 1, 3, 14, 16, 25, 13, 15, 18, 15, 18, 2, 6, 9, 14, 6, 2, 2, 6, 9, 18, 24, 3, 4, 6, 7, 13, 21, 17, 1, 11, 15, 1, 2, 19, 6, 4, 6, 11, 14, 16, 15, 23, 5, 1, 13, 14, 18, 22, 1, 18, 14, 19, 19, 1, 19, 3, 15, 24, 10, 19, 23, 4, 16, 19, 14, 16, 15, 11, 17, 21, 24, 24, 12, 16, 2, 5, 20, 10, 24, 1, 5, 10, 13, 17, 15, 16, 17, 17, 3, 4, 18, 13, 13, 11, 12, 14, 7, 1, 4, 12, 13, 15, 16, 21, 3, 4, 13, 18, 21, 4, 13, 4, 2, 21, 3, 16, 7, 12, 2, 7, 12, 1, 6, 24, 3, 16, 17, 21, 8, 14, 23, 8, 17, 18, 6, 17, 8, 11, 19, 16, 6, 12, 1, 4, 8, 10, 11, 17, 1, 22, 8, 10, 15, 8, 19, 1, 3, 6, 8, 9, 12, 23, 20, 21, 17, 10, 21, 1, 13, 2, 6, 15, 20, 2, 15, 18, 3, 4, 7, 5, 18, 5, 17, 6, 11, 6, 4, 10, 12, 13, 1, 10, 20, 16, 1, 5, 6, 12, 17, 19, 25, 17, 22, 3, 4, 22, 3, 6, 16, 24, 4, 5, 8, 18, 20, 2, 2, 7, 23, 4, 14, 13, 20, 20, 25, 4, 11, 14, 6, 4, 17, 17, 5, 21, 9, 13, 13, 20, 11, 17, 17, 3, 6, 20, 8, 6, 5, 2, 6, 24, 11, 16, 18, 16, 11, 7, 23, 10, 24, 2, 3, 13, 20, 11, 15, 13, 8, 5, 5, 23, 25, 5, 15, 18, 3, 4, 10, 12, 16, 24, 4, 7, 7, 11, 1, 3, 4, 11, 13, 14, 21, 5, 20, 15, 15, 15, 15, 4, 20, 15, 18, 22, 10, 13, 20, 15, 8, 17, 5, 17, 2, 12, 12, 3, 22, 21, 9, 7, 11, 8, 7, 3, 16, 1, 4, 8, 12, 20, 9, 3, 5, 11, 12, 20, 25, 19, 1, 13, 19, 5, 25, 14, 10, 19, 23, 8, 13, 5, 22, 5, 25, 25, 16, 17, 21, 15, 7, 1, 2, 6, 10, 13, 18, 20, 25, 3, 10, 16, 20, 23, 24, 17, 14, 2, 6, 15, 20, 15, 24, 3, 8, 18, 19, 20, 19, 21, 4, 3, 14, 24, 13, 15, 16, 19, 3, 11, 16, 20, 22, 24, 8, 1, 2, 22, 12, 19, 4, 12, 10, 20, 2, 3, 6, 7, 12, 25, 21, 16, 2, 3, 7, 8, 9, 10, 11, 16, 18, 20, 21, 20, 13, 7, 4, 20, 15, 9, 14, 16, 11, 20, 1, 4, 9, 10, 11, 13, 14, 17, 21, 1, 8, 13, 12, 7, 2, 7, 11, 22, 20, 17, 9, 4, 5, 8, 9, 16, 19, 5, 20, 15, 1, 15, 1, 2, 3, 4, 6, 7, 9, 10, 11, 13, 16, 18, 22, 23, 25, 7, 23, 4, 11, 16, 20, 21, 24, 7, 16, 10, 1, 25, 2, 18, 6, 20, 18, 18, 3, 22, 19, 23, 3, 11, 19, 25, 4, 15, 8, 10, 23, 13, 17, 4, 4, 1, 3, 4, 6, 7, 8, 11, 12, 13, 14, 15, 16, 18, 20, 22, 23, 4, 15, 4, 13, 18, 24, 22, 3, 5, 6, 17, 22, 24, 1, 1, 4, 8, 20, 24, 9, 8, 3, 12, 4, 3, 11, 9, 20, 24, 9, 9, 18, 23, 3, 4, 10, 14, 6, 20, 21, 5, 3, 3, 14, 21, 23, 6, 24, 9, 13, 10, 19, 24, 21, 25, 5, 22, 4, 13, 16, 10, 3, 14, 23, 16, 6, 15, 17, 18, 11, 1, 3, 8, 4, 11, 2, 17, 1, 3, 4, 9, 11, 14, 25, 25, 19, 12, 19, 17, 9, 18, 3, 6, 9, 18, 25, 1, 6, 14, 1, 4, 4, 8, 15, 7, 8, 10, 13, 15, 16, 10, 16, 10, 14, 16, 23, 13, 5, 22, 1, 15, 11, 16, 22, 11, 2, 25, 12, 12, 12, 16, 4, 10, 13, 22, 16, 4, 6, 12, 13, 15, 19, 23, 19, 20, 8, 10, 15, 6, 13, 13, 10, 11, 22, 1, 3, 4, 7, 11, 15, 4, 7, 15, 20, 4, 4, 7, 16, 18, 19, 11, 19, 2, 13, 7, 16, 25, 7, 16, 6, 18, 1, 15, 17, 3, 14, 1, 3, 14, 21, 1, 4, 14, 20, 10, 20, 6, 23, 9, 1, 3, 5, 8, 10, 11, 16, 1, 7, 22, 1, 4, 17, 1, 1, 18, 18, 22, 1, 4, 23, 3, 3, 12, 15, 4, 12, 23, 6, 14, 19, 8, 15, 23, 23, 5, 22, 7, 2, 3, 4, 12, 20, 7, 15, 21, 3, 13, 4, 6, 9, 2, 13, 19, 11, 18, 23, 7, 24, 1, 4, 16, 18, 25, 2, 3, 7, 12, 2, 16, 17, 2, 3, 5, 11, 17, 20, 1, 18, 18, 21, 19, 9, 15, 18, 2, 4, 22, 25, 8, 10, 13, 14, 21, 23, 10, 13, 25, 25, 25, 1, 2, 3, 4, 5, 11, 16, 18, 22, 24, 25, 2, 10, 18, 24, 22, 7, 10, 13, 2, 24, 6, 18, 22, 6, 22, 5, 4, 16, 13, 6, 13, 14, 20, 23, 1, 22, 8, 8, 10, 11, 14, 21, 11, 24, 10, 19, 10, 4, 8, 9, 10, 12, 7, 24, 4, 8, 12, 13, 13, 17, 24, 22, 13, 22, 1], \"Freq\": [0.9545324680431834, 0.8059426117099922, 0.19065309094214866, 0.9758862036447141, 0.8516061586899015, 0.1310163321061387, 0.03880053632048486, 0.4138723874185051, 0.3039375345104647, 0.05173404842731314, 0.10993485290804042, 0.045267292373898996, 0.03233378026707071, 0.9960383874019437, 0.17481455187868944, 0.8128876662359059, 0.18320783283950456, 0.09160391641975228, 0.7197450575837679, 0.9041571725304275, 0.9652600448414821, 0.9738427202467415, 0.013780793211038795, 0.004593597737012931, 0.9661423771927268, 0.3291248483457241, 0.5385679336566394, 0.08976132227610656, 0.31062758025686976, 0.6600836080458482, 0.9601889923888327, 0.9559026588548288, 0.5092214068767665, 0.0933572579274072, 0.11881832827124554, 0.07638321103151499, 0.05940916413562277, 0.0933572579274072, 0.04243511723973055, 0.9465041221734385, 0.029578253817919953, 0.8974819282572154, 0.39588877630966446, 0.13196292543655483, 0.4618702390279419, 0.9687287225375414, 0.22457643541748187, 0.7485881180582729, 0.979014994633055, 0.9347537073896212, 0.9849468439741408, 0.6313634744740786, 0.32586501908339544, 0.04073312738542443, 0.7696859769709056, 0.2037404056687691, 0.9703357228027086, 0.9879809572803255, 0.12048869086576897, 0.8434208360603828, 0.8866365161389888, 0.0521550891846464, 0.9325953523729812, 0.28583229438482377, 0.07795426210495193, 0.05196950806996795, 0.5716645887696475, 0.28183722915783527, 0.4890704858915377, 0.09118263296282905, 0.03315732107739238, 0.09947196323217715, 0.9457045695958433, 0.9479104019364172, 0.8918235035183837, 0.8821096876144684, 0.09380618030908264, 0.09380618030908264, 0.8040529740778511, 0.7460268773691469, 0.15225038313656059, 0.09135022988193635, 0.9376023691010368, 0.8510207275380841, 0.9583396995448831, 0.9311376783000989, 0.933352125248292, 0.1263697375046635, 0.8687919453445615, 0.9628907787311813, 0.9103193156033075, 0.09761391829340821, 0.5856835097604493, 0.2928417548802246, 0.22653390949293514, 0.186081425654911, 0.12944794828167722, 0.016180993535209652, 0.3155293739365882, 0.12135745151407239, 0.8992668616502736, 0.10766418169990523, 0.8613134535992418, 0.09012302175480937, 0.5632688859675585, 0.20277679894832107, 0.13518453263221406, 0.9173856539348292, 0.9591663824861394, 0.5378742640455659, 0.21514970561822636, 0.10757485280911318, 0.14343313707881758, 0.9309249345476224, 0.8668853699415788, 0.13003280549123683, 0.9359765277822346, 0.892443521624799, 0.6666767530164395, 0.07575872193368631, 0.06060697754694905, 0.1969726770275844, 0.879159831744235, 0.9817216093510845, 0.9012495869301904, 0.905989649858906, 0.857855184592602, 0.9787174313660318, 0.9547113083408983, 0.9073620401260705, 0.0756135033438392, 0.9455206376440014, 0.932954372927309, 0.9155904654584401, 0.2444161479183911, 0.7434324499184396, 0.9250121102867739, 0.8699416284155116, 0.9361870380924444, 0.9315973700827692, 0.023333547667303074, 0.9644533035818604, 0.7085552039743974, 0.24339682579273192, 0.04327054680759679, 0.9340954090336916, 0.9100330606388108, 0.9485075151451926, 0.9151472889628489, 0.9148278116900979, 0.9571444473928076, 0.937832586297992, 0.9832573375945267, 0.9441463659911159, 0.867476582595896, 0.9443434137574291, 0.9946085519334656, 0.9156609947735007, 0.9082061495716991, 0.9224643373876877, 0.22079156982757434, 0.053525229049108926, 0.5586695782000745, 0.056870555864678235, 0.046834575417970314, 0.01672663407784654, 0.01672663407784654, 0.023417287708985157, 0.4242150027663656, 0.28552932878505377, 0.08973778904673117, 0.2039495205607527, 0.7127658627296802, 0.12959379322357822, 0.12959379322357822, 0.7628696689734988, 0.1185040262483105, 0.11109752460779108, 0.31775079194653283, 0.6788312373403202, 0.9649520088362786, 0.9607160264101596, 0.9462974225973778, 0.6859775961351787, 0.21892902004314216, 0.08757160801725686, 0.3320334916904472, 0.5774495507659951, 0.08661743261489928, 0.934385344857698, 0.8434155641845033, 0.9344204893883821, 0.9580467834107405, 0.0387648987507236, 0.9728723907673754, 0.11425989494393475, 0.8569492120795107, 0.26164711990917283, 0.15262748661368417, 0.5669020931365412, 0.9352718085773399, 0.9064918560054097, 0.050360658666967206, 0.9637572003985722, 0.8705392614834393, 0.9185367872370327, 0.889844028283046, 0.8854985888180055, 0.23209663069562067, 0.7220784066085977, 0.9529680807038888, 0.9852110510235251, 0.9627633464470865, 0.9387832372694924, 0.9417434355886115, 0.9422729335846939, 0.9719767731919803, 0.9960356484820576, 0.0024777006181145715, 0.9963389903181333, 0.9212444065101351, 0.9647440339517611, 0.09605805864624736, 0.3007034879360787, 0.30905636260096975, 0.0334114986595643, 0.1127638079760295, 0.025058623994673224, 0.04176437332445537, 0.025058623994673224, 0.05429368532179198, 0.958957213508439, 0.7591974988056606, 0.2404575707960989, 0.992283397737111, 0.9168871465196401, 0.9511510383339697, 0.9483552452986909, 0.9694362342705736, 0.9714084973727878, 0.9798105717869405, 0.9486252613133461, 0.9100196608839907, 0.9330358235952804, 0.8514959796750534, 0.0322801300061119, 0.936123770177245, 0.9488118757202754, 0.8868989651702969, 0.9151481458779027, 0.06655622879112019, 0.9896037709137062, 0.9827620710894109, 0.891831795928729, 0.9553933908185472, 0.9479020382183193, 0.0936435467832621, 0.8989780491193161, 0.16410965113738904, 0.779520842902598, 0.9454132523813076, 0.9500683830001048, 0.2589530691790773, 0.055489943395516564, 0.6751276446454516, 0.9612704034454864, 0.9706336368146667, 0.8903284361937515, 0.9443638481310198, 0.9798294188913149, 0.8499934543253586, 0.11086871143374243, 0.3459022631813697, 0.6226240737264654, 0.9430699643342845, 0.6230314496739968, 0.3594412209657674, 0.9811116304318338, 0.6302422136486895, 0.11389919523771497, 0.030373118730057325, 0.16705215301531529, 0.05315295777760032, 0.9935101564182461, 0.0045365760567043206, 0.9921333660338557, 0.9522853194205194, 0.9431310829568135, 0.5174249422122283, 0.024639282962487064, 0.4435070933247672, 0.9928515933118915, 0.9576491684019106, 0.9920983717309205, 0.9927113843180497, 0.23638404552657882, 0.5909601138164471, 0.1772880341449341, 0.919294706024625, 0.5704662767580906, 0.1064870383281769, 0.06845595321097087, 0.18254920856258897, 0.07606217023441207, 0.93960250860088, 0.10761031080594717, 0.8608824864475774, 0.9760337714650434, 0.30302212331441125, 0.656547933847891, 0.8557466858506338, 0.11564144403386944, 0.906607421359508, 0.9467832985637926, 0.9286974886819153, 0.9676649857605335, 0.9318235093144501, 0.6787976543897972, 0.25454912039617394, 0.056566471199149766, 0.9471958480612852, 0.9525969626341472, 0.9522666003114132, 0.9180579040709763, 0.9770672422396542, 0.9821292262021002, 0.2746161460338561, 0.7061558040870585, 0.911575809665661, 0.930778442772289, 0.9290269963974486, 0.1723271773116214, 0.5859124028595127, 0.20679261277394564, 0.9418518144329164, 0.9324359103242803, 0.8726697233581349, 0.08618960230697628, 0.03232110086511611, 0.15238005744052677, 0.1714275646205926, 0.05714252154019754, 0.6095202297621071, 0.923011723063282, 0.2746913739566456, 0.7210648566361947, 0.9539875822466479, 0.3249529173350932, 0.6499058346701864, 0.9546834212893991, 0.952564499116729, 0.9017813953730076, 0.08487354309393012, 0.9156036108740431, 0.9869919178699419, 0.9384974552486847, 0.973020436814516, 0.24976918601037557, 0.5245152906217887, 0.19981534880830046, 0.9621186111596035, 0.980620993463583, 0.924352958134983, 0.913185336284772, 0.8047608408196703, 0.1420166189681771, 0.8113230548099762, 0.11850786193853585, 0.0683699203491553, 0.9949957902728852, 0.9613099341017733, 0.9298864581363735, 0.07140346482498285, 0.6188300284831847, 0.07140346482498285, 0.2380115494166095, 0.26790924136134714, 0.07879683569451386, 0.6461340526950137, 0.9525017391955577, 0.18392819464168494, 0.7970221767806348, 0.9716182855159095, 0.9709200405346966, 0.9601974826740659, 0.9792534685510281, 0.9503853946013653, 0.03801541578405461, 0.21128035209862553, 0.774694624361627, 0.9916611783301603, 0.9942958908757137, 0.9016918677449196, 0.9655404480840993, 0.3517851252537414, 0.44298867624545213, 0.10423262970481226, 0.09120355099171074, 0.40573392037599887, 0.08114678407519976, 0.5100654999012557, 0.7442036432777652, 0.026715002579201827, 0.12594215501623718, 0.011449286819657926, 0.05724643409828963, 0.019082144699429877, 0.015265715759543903, 0.942301481803066, 0.9232963788267238, 0.9065437645281592, 0.16442583191187737, 0.7810227015814175, 0.921504074368396, 0.2168243275926269, 0.7433976946032922, 0.9701481177657159, 0.1122040334221838, 0.09973691859749671, 0.14960537789624506, 0.4612832485134223, 0.06233557412343545, 0.08726980377280963, 0.012467114824687089, 0.8566301397398149, 0.9480780966290758, 0.9561623567898672, 0.8971336202789205, 0.052772565898760025, 0.9834166222271827, 0.9717215913704896, 0.956823649044902, 0.9494506901257481, 0.11636198731373817, 0.8727149048530363, 0.975250653481237, 0.9454869377329163, 0.9757363083225874, 0.17461871646340865, 0.23811643154101178, 0.23811643154101178, 0.04762328630820235, 0.28573971784921415, 0.9704247046838486, 0.11889939505687, 0.0891745462926525, 0.07926626337124668, 0.0297248487642175, 0.16844080966389918, 0.39633131685623335, 0.10899111213546417, 0.9762379716947275, 0.9560518677512347, 0.14117454936436794, 0.6705791094807476, 0.1764681867054599, 0.9214787930796968, 0.15625394357300376, 0.6597388728637936, 0.18229626750183772, 0.9270568575914447, 0.2868680605936292, 0.2549938316387815, 0.17530825925166227, 0.06374845790969537, 0.20718248820650995, 0.9239500375728743, 0.6868592491365892, 0.3113761929419204, 0.9592972308596717, 0.8808146947742302, 0.10107709612163297, 0.8727894691191855, 0.9979510759852486, 0.8796475590088935, 0.10149779527025693, 0.8889740159179068, 0.9052557318476198, 0.09374024060188804, 0.8670972255674644, 0.9088791078120736, 0.96376950575705, 0.9462614703468378, 0.31438799320531674, 0.5716145331005759, 0.10003254329260078, 0.043248000149274574, 0.5946600020525254, 0.11893200041050508, 0.06487200022391186, 0.0973080003358678, 0.07568400026123051, 0.9299458602925499, 0.935324122734105, 0.9491900163828076, 0.9239544186617628, 0.9559271355974702, 0.9376307710554282, 0.9719717605570265, 0.12441786675749585, 0.808716133923723, 0.8343754227884306, 0.12378096931476718, 0.04126032310492239, 0.8945804026193771, 0.958982117283597, 0.9874786194656092, 0.9206946512932295, 0.9872550208986692, 0.35883922417548325, 0.44327198280500874, 0.1899737069164323, 0.986679544243405, 0.9019342908727875, 0.4368872821140993, 0.20630788322054688, 0.09708606269202207, 0.07281454701901655, 0.18203636754754138, 0.09310772078860509, 0.8690053940269808, 0.16196754686378023, 0.8368323254628646, 0.2936580004180284, 0.7002613856122216, 0.974322101994896, 0.23034066105549938, 0.031410090143931736, 0.638671832926612, 0.0942302704317952, 0.9667086698987213, 0.9958403408825953, 0.877426456281235, 0.9431515843082112, 0.9605443898370356, 0.9389329504550712, 0.8862143732617036, 0.9680794194867273, 0.3155702279533588, 0.27731929123173954, 0.18169194942769143, 0.019125468360809625, 0.13387827852566736, 0.057376405082428875, 0.019125468360809625, 0.9239693717291937, 0.07491643554561031, 0.9662463731188333, 0.9196492496886767, 0.9419451788995777, 0.9601743754001558, 0.11708346517440131, 0.03902782172480043, 0.8195842562208091, 0.9448091595451339, 0.9265048737347742, 0.9086426800093101, 0.03950620347866566, 0.9405767066407764, 0.9787506615064486, 0.8839803930111682, 0.07071843144089346, 0.9423851620280872, 0.8506567317829539, 0.12669355579746122, 0.9595753775232676, 0.19267736793733878, 0.1268850959587353, 0.5968298958059031, 0.03759558398777342, 0.042295031986245096, 0.9671283804935279, 0.9329421639003742, 0.9765745042137174, 0.9135698869009138, 0.955653775854692, 0.09674717978302697, 0.7954768115493328, 0.09674717978302697, 0.9011608326673591, 0.9597178152960526, 0.9573173964672907, 0.7308547335872264, 0.2631077040914015, 0.6992351639563144, 0.11382898017893489, 0.16261282882704983, 0.8286548703055397, 0.27452051110177006, 0.09150683703392336, 0.05490410222035401, 0.05490410222035401, 0.4941369199831861, 0.4653277618760968, 0.14177955244662324, 0.15268567186559426, 0.23993462721736242, 0.8917618498755389, 0.11613214908246619, 0.6503400348618107, 0.09290571926597295, 0.13935857889895942, 0.10522245782495784, 0.7365572047747049, 0.14029661043327712, 0.1333250544632755, 0.5523466542049985, 0.0952321817594825, 0.038092872703793, 0.152371490815172, 0.933932634167669, 0.513170888406729, 0.47040664770616825, 0.539424477751766, 0.445611525099285, 0.9502655871002428, 0.9933423365972128, 0.7914039211956033, 0.15828078423912068, 0.9619794443037022, 0.9308236982898991, 0.9190305636499765, 0.935913272254017, 0.9542603459837534, 0.9529295865568858, 0.22511902236629483, 0.7253835165136167, 0.02501322470736609, 0.21767748839436277, 0.7774196014084385, 0.8070301446256156, 0.18539881700858737, 0.9422215098968867, 0.9593338750689738, 0.3311020889708553, 0.6622041779417106, 0.3791466905994184, 0.15370811781057503, 0.43038272986961007, 0.02049441570807667, 0.6668834664132414, 0.16672086660331034, 0.1111472444022069, 0.037049081467402295, 0.9427999238894549, 0.06742553105369772, 0.6068297794832794, 0.15283120372171483, 0.08091063726443726, 0.0943957434751768, 0.9580049053003117, 0.9339774229122579, 0.33396084280506355, 0.20184446543163181, 0.4624073208070111, 0.9292023120682416, 0.9686858194376055, 0.15299492336087572, 0.03824873084021893, 0.7777241937511182, 0.025499153893479287, 0.9482822874634936, 0.9810488305083204, 0.9097299380678732, 0.9770812317313026, 0.46973068515140753, 0.062039901812450046, 0.053177058696385754, 0.32792519529437886, 0.07976558804457863, 0.9437892074234043, 0.23321516061966202, 0.6360413471445328, 0.10600689119075546, 0.9645054318055226, 0.9795457620318552, 0.9148222145662805, 0.18764817340480375, 0.8068871456406561, 0.8933769326887236, 0.9421844164620313, 0.7870040794542933, 0.20962258191072297, 0.6834623145240718, 0.2795982195780294, 0.9485391596535098, 0.7874754460215782, 0.19686886150539454, 0.253032641873337, 0.596434084415723, 0.1265163209366685, 0.9000790874717813, 0.07205750582706437, 0.21617251748119312, 0.5809636407307065, 0.1306042293115542, 0.25255928064749533, 0.21268149949262763, 0.11963334346460305, 0.3987778115486768, 0.9374492557043128, 0.5158180649723557, 0.47569888214117245, 0.8604413863917402, 0.16760972132463656, 0.8170973914576032, 0.7900280953672777, 0.20751890062642778, 0.21855137341835493, 0.05463784335458873, 0.7102919636096535, 0.2599678981366123, 0.05777064403035829, 0.6788050673567099, 0.8853756349365138, 0.08432148904157274, 0.20987303025700318, 0.174894191880836, 0.5946402523948424, 0.09527256258605672, 0.2994280538418925, 0.04083109825116717, 0.1361036608372239, 0.013610366083722389, 0.1224932947535015, 0.2722073216744478, 0.14972525315081228, 0.2450049597013292, 0.11569678652562768, 0.08166831990044307, 0.20417079975110766, 0.04763985327525846, 0.03402846662518461, 0.020417079975110768, 0.10208539987555383, 0.11750862013189643, 0.8813146509892232, 0.9698912164522422, 0.9379773120862496, 0.9121605010908862, 0.9415332718619427, 0.32387588835479036, 0.033737071703624, 0.6342569480281312, 0.9927891309615803, 0.9881407554017404, 0.9635607136464946, 0.9763413155877722, 0.9908988724984212, 0.9404863918116515, 0.8658769130021948, 0.8251590697416845, 0.15717315614127325, 0.8739783302270042, 0.09710870335855602, 0.9586320059770513, 0.9842531556634113, 0.18131331643692647, 0.09065665821846323, 0.70258910119309, 0.9707612468650769, 0.9551909356340609, 0.9418570985246597, 0.0697395981223286, 0.25571185978187155, 0.6509029158084004, 0.9792973036677445, 0.9246104765331106, 0.24563913741590745, 0.1364661874532819, 0.19105266243459468, 0.06823309372664095, 0.10917294996262553, 0.23199251867057924, 0.9663109994169564, 0.05212950922891158, 0.9383311661204085, 0.9350550661213516, 0.9573740607691661, 0.867262482783452, 0.9940504502813233, 0.9340407677620975, 0.9150283231371732, 0.9862002415431507, 0.10836031294183661, 0.23839268847204054, 0.06501618776510197, 0.2600647510604079, 0.3034088762371425, 0.0965974878334517, 0.22079425790503246, 0.6623827737150974, 0.4320882910188873, 0.13349069153429038, 0.16861982088541944, 0.04566786815646776, 0.2037489502365485, 0.01405165174045162, 0.10597567611379748, 0.3230714786381787, 0.5710339829432777, 0.9922345555035981, 0.981575147560934, 0.9230324754872972, 0.9608910275558509, 0.8552152576633474, 0.8525091084284532, 0.9268436293199956, 0.2241468407673348, 0.1707785453465408, 0.587051249628734, 0.11670088762150302, 0.7293805476343939, 0.14587610952687877, 0.9566422168174217, 0.9274031008508914, 0.9277432186044039, 0.12489131189397298, 0.13575142597170978, 0.10317108373849943, 0.16290171116605173, 0.24978262378794597, 0.12489131189397298, 0.038010399272078735, 0.059730627427552294, 0.1067401362214579, 0.8806061238270277, 0.9491980049449009, 0.8548026906875821, 0.3586493409848612, 0.2071073659208353, 0.1313363783888224, 0.025256995844004308, 0.03030839501280517, 0.06061679002561034, 0.07071958836321206, 0.0656681891944112, 0.04041119335040689, 0.3992173655160177, 0.1388582140925279, 0.12150093733096191, 0.06364334812574195, 0.09835790164887392, 0.05207183028469796, 0.023143035682087983, 0.09257214272835193, 0.01735727676156599, 0.9409494054909276, 0.3786254244679893, 0.11650013060553517, 0.4660005224221407, 0.9455283489914749, 0.8678211232598665, 0.9546860844457931, 0.9505895591865292, 0.9575786577069548, 0.9448950955180168, 0.968624043696277, 0.9499046054075407, 0.770285435496009, 0.19970363142489123, 0.16023353544933558, 0.13734303038514478, 0.045781010128381594, 0.6409341417973423, 0.9566027058795268, 0.0758250825471333, 0.8719884492920329, 0.9863511393167236, 0.9461638674563413, 0.9878430314534458, 0.8489174802436693, 0.05584983422655719, 0.08935973476249151, 0.9944992120202423, 0.9847837096957595, 0.9417574515533412, 0.9629917729014933, 0.9027113835398379, 0.9844959702496321, 0.9854954522233963, 0.3908545700964553, 0.5129966232515976, 0.07328523189308538, 0.8679638898809693, 0.9779508044577686, 0.9374419688962828, 0.9553549165666084, 0.9803887482460355, 0.9491632854089018, 0.21583119503531292, 0.7338260631200639, 0.956047707788053, 0.1741662562146456, 0.7961885998383799, 0.9357030062937391, 0.9709895263968631, 0.9721947046620291, 0.955832625881599, 0.9787151567446555, 0.9657682306717701, 0.8994149024846332, 0.9873906439280997, 0.9570043687977158, 0.02856729459097659, 0.07843619572647659, 0.9150889501422269, 0.9337063181905557, 0.06508953552106307, 0.21696511840354357, 0.5424127960088589, 0.15187558288248051, 0.9611695604874897, 0.9764891436316688, 0.9412650555074219, 0.32835521180179983, 0.15154855929313837, 0.5051618643104613, 0.9605111487616685, 0.9050475469261311, 0.07726015644491363, 0.014716220275221644, 0.980893457853919, 0.813535900139003, 0.13558931668983384, 0.8365418742947719, 0.11153891657263626, 0.8956419745000177, 0.10386722517965985, 0.9455163871400827, 0.9850658700644258, 0.9169388085775259, 0.932919478858619, 0.6219890700436312, 0.17127235262071006, 0.06310034043920897, 0.054086006090750545, 0.08563617631035503, 0.0419521423051725, 0.058732999227241504, 0.285274567675173, 0.486644850740001, 0.11746599845448301, 0.0281531051492822, 0.5502652370086976, 0.12796865976946453, 0.18427487006802892, 0.002559373195389291, 0.10237492781557163, 0.1961426834794588, 0.0490356708698647, 0.6864993921781057, 0.9536218147064601, 0.9741933311136669, 0.3268554028985565, 0.6239966782608807, 0.058733622787313644, 0.9201600903345803, 0.8498682592837731, 0.1359789214854037, 0.9521819613595112, 0.28452971196783877, 0.693541172921607, 0.9074450733914512, 0.9381767291775487, 0.11570431308150393, 0.028926078270375983, 0.34711293924451175, 0.40496509578526374, 0.08677823481112794, 0.3164275123669916, 0.04276047464418806, 0.059864664501863285, 0.41050055658420537, 0.11117723407488896, 0.0684167594307009, 0.2682853416090143, 0.4842223238796843, 0.14068621572180018, 0.03926126950375819, 0.06543544917293032, 0.770722048562188, 0.2244821500666567, 0.9990173855937687, 0.308595328330612, 0.20573021888707463, 0.08229208755482986, 0.3908874158854418, 0.7501067562536382, 0.07032250839877859, 0.16408585293048336, 0.9865503333551475, 0.9368081459560077, 0.8436201694476503, 0.940071670384577, 0.9785034526166314, 0.9830178286923309, 0.21593585632630874, 0.12956151379578523, 0.4318717126526175, 0.028791447510174498, 0.15835296130595974, 0.028791447510174498, 0.957263704356202, 0.9731614478318971, 0.7347148032910868, 0.1836787008227717, 0.06122623360759057, 0.9808326799468806, 0.9517740513571477, 0.9308402145827384, 0.9588676416960692, 0.05513854150304393, 0.17329255900956664, 0.039384672502174235, 0.11027708300608786, 0.08664627950478332, 0.40960059402261206, 0.12603095200695758, 0.9968988591400011, 0.31387995394023394, 0.19181552740792074, 0.4708199309103509, 0.46711974659430666, 0.16015534168947657, 0.10677022779298438, 0.2535792910083379, 0.9436999263772945, 0.9906545948711032, 0.9256075276948715, 0.9788280735198659, 0.4116397439331391, 0.5846477522528643, 0.9722437870925881, 0.9796034125105834, 0.9377538265852049, 0.9471140249878083, 0.9491752793839846, 0.8816287972066733, 0.9658350714578255, 0.9724447368972094, 0.969830991966931, 0.9255473473592627, 0.8973188980854692, 0.7926630520168128, 0.14647034656832408, 0.05169541643587909, 0.9281527512965292, 0.9695654500625991, 0.9644319442620751, 0.16727292523316095, 0.2509093878497414, 0.5436370070077731, 0.8891974802999499, 0.9410119511640049, 0.9319601869223735, 0.9829397437974728, 0.9731599245700022, 0.9577222055780978, 0.05187312407020212, 0.3804029098481489, 0.5533133234154893, 0.9336001789583348, 0.1041283275352766, 0.8850907840498511, 0.8238662836002395, 0.09692544512943993, 0.4404840519206848, 0.5462002243816492, 0.9700280191275368, 0.9442092687942156, 0.9002991937390179, 0.9580301577422683, 0.895106469474126, 0.9694868830143298, 0.8991215847115311, 0.06578938424718521, 0.29301352618409104, 0.05023089020298704, 0.4269625667253898, 0.041859075169155865, 0.13394904054129875, 0.05860270523681821, 0.9602925928566873, 0.9950963198809343, 0.9587931914378883, 0.10926653578411745, 0.09560821881110278, 0.7785240674618369, 0.060212653972527674, 0.9232606942454243, 0.16925205865401902, 0.0282086764423365, 0.225669411538692, 0.56417352884673, 0.11506309429800274, 0.882150389618021, 0.8399582063948964, 0.1426344124066805, 0.9939450609173659, 0.9847292755619104, 0.885841668010609, 0.9559038219828575, 0.9504813824260695, 0.8513681473026656, 0.14511957056295438, 0.8816522235917642, 0.13582649939844235, 0.8602344961901348, 0.939769058358414, 0.7056666890873456, 0.2566060687590348, 0.11750701279244331, 0.07344188299527707, 0.8005165246485201, 0.11930746167176075, 0.8731136967797036, 0.92539043913742, 0.9879614835492723, 0.9409028815671038, 0.10836435539388076, 0.2786511995842648, 0.06192248879650329, 0.18576746638950986, 0.34057368838076807, 0.3679121193660208, 0.3679121193660208, 0.23806078311918993, 0.9244975285749971, 0.9472746554165904, 0.028650389078022403, 0.7019345324115488, 0.2005527235461568, 0.0429755836170336, 0.922568941444864, 0.9419145629192395, 0.02049869458144944, 0.840446477839427, 0.01537402093608708, 0.12299216748869664, 0.9714492985192966, 0.006292968577347084, 0.24542577451653624, 0.025171874309388335, 0.6922265435081791, 0.031464842886735414, 0.9781869969084094, 0.8795224147591679, 0.16371493910708038, 0.060028811005929474, 0.7749173784401805, 0.9257876335363376, 0.05004257478574798, 0.8815197923516264, 0.9331158768099796, 0.04710491124859783, 0.4037563821308386, 0.4845076585570063, 0.060563457319625785, 0.9272677685395512, 0.4709723482463345, 0.49576036657508893, 0.9886135871563851, 0.7183374204637333, 0.07422820011458577, 0.07422820011458577, 0.026339038750336885, 0.10535615500134754, 0.09651902705938677, 0.9008442525542765, 0.1090494961642854, 0.8723959693142832, 0.993952810615183, 0.8416724699335317, 0.15303135816973304, 0.1724819240107134, 0.4928054971734669, 0.32032357316275345, 0.04626067231908418, 0.7710112053180697, 0.18195864445506443, 0.10020159381391167, 0.10020159381391167, 0.7682122192399894, 0.06095364146249193, 0.914304621937379, 0.9513765575760115, 0.9256259571717913, 0.6361526390147194, 0.06696343568575994, 0.28794277344876773, 0.9175173540415148, 0.89991624126184, 0.9611174320624531, 0.9024022220965952, 0.9934864348021633, 0.8827009949086215, 0.0669430521340411, 0.8702596777425344, 0.27124994634615357, 0.12658330829487166, 0.45208324391025595, 0.09041664878205119, 0.03616665951282048, 0.014979474963116227, 0.08987684977869737, 0.8837890228238574, 0.9824463001636136, 0.05529259031658295, 0.8293888547487442, 0.1105851806331659, 0.9919149824163904, 0.9590568548672698, 0.8717610112269851, 0.9928288151619777, 0.9801768753992145, 0.916363060393956, 0.16826626710078255, 0.42066566775195635, 0.15424407817571734, 0.08413313355039127, 0.07011094462532606, 0.056088755700260846, 0.042066566775195637, 0.10549959797079198, 0.5380479496510391, 0.04219983918831679, 0.24264907533282154, 0.07384971857955439, 0.9256845893027007, 0.031920158251817266, 0.9918178655580212, 0.9894198701895995, 0.9480693791138327, 0.8330558393149217, 0.16661116786298433, 0.33212235633860193, 0.6642447126772039, 0.4333310665766282, 0.5236083721134257, 0.04212940925050552, 0.09261552921750248, 0.8705859746445233, 0.018523105843500493, 0.20542031176345765, 0.11738303529340437, 0.11738303529340437, 0.5282236588203196, 0.990567873594952, 0.22267137459081346, 0.7422379153027114, 0.9861950839744806, 0.10062290816832281, 0.8720652041254644, 0.2809222785802643, 0.7023056964506608, 0.22729072729108396, 0.7323812323823817, 0.8358859254225481, 0.9740318339793732, 0.9613313573431488, 0.962009743135292, 0.2583666560489501, 0.07234266369370602, 0.4547253146461521, 0.11368132866153803, 0.06200799745174802, 0.03100399872587401, 0.9564252791037655, 0.01649009101903044, 0.6668060373761641, 0.3125653300200769, 0.8740502470831941, 0.9783857935495567, 0.9657432103739017, 0.09941149797364343, 0.19882299594728686, 0.11929379756837212, 0.11929379756837212, 0.019882299594728686, 0.4109008582910595, 0.033137165991214475, 0.8896069917615198, 0.08896069917615199, 0.8782286035813643, 0.9597581315710969, 0.9666684464206067, 0.17943579793580255, 0.8005597138674269, 0.06374848371368318, 0.2549939348547327, 0.5976420348157798, 0.07968560464210397, 0.24668615206694258, 0.6695766984674156, 0.05286131830005913, 0.24375127452179726, 0.7312538235653918, 0.980613884016132, 0.4190011985888624, 0.576885708202057, 0.9777804324567863, 0.9631856251186792, 0.9712645612751011, 0.9665345173998277, 0.9618251503110976, 0.793764105218234, 0.1275692311957876, 0.02834871804350836, 0.02834871804350836, 0.9874307070968785, 0.14437851582225286, 0.8181449229927662, 0.9257735270686117, 0.04244707210168653, 0.15766055352054997, 0.6063867443098075, 0.05457480698788268, 0.03638320465858846, 0.07276640931717691, 0.0242554697723923, 0.9804734797774318, 0.9114099635291414, 0.0930404114105538, 0.23260102852638453, 0.6512828798738767, 0.919656068075848, 0.9792512060195462, 0.05788607032472781, 0.897234090033281, 0.1398636205435859, 0.19580906876102025, 0.5594544821743436, 0.09790453438051012, 0.9806492170407208, 0.8883786827884881, 0.35537056749226525, 0.2665279256191989, 0.35537056749226525, 0.9831731200152652, 0.9690657799218438, 0.19085004139141284, 0.7952085057975535, 0.8978772046058928, 0.0561173252878683, 0.9624383739709758, 0.7967999848797659, 0.11382856926853797, 0.9191352694037727, 0.17689380977921124, 0.7960221440064505, 0.954585986036447, 0.9436500972951559, 0.9588117074691811, 0.7274123375169304, 0.2545943181309256, 0.8261715130819244, 0.11015620174425658, 0.8982684887817058, 0.9761154451788502, 0.9589073855987772, 0.3860599079889761, 0.10294930879706028, 0.48900921678603637, 0.9688628300200066, 0.9416007367886039, 0.9409717972009659, 0.9019739400618978, 0.9709712180998995, 0.9810554928449325, 0.9438605292200569, 0.08505996376833688, 0.8931296195675372, 0.969125477623004, 0.8845298249085853, 0.9434628472491466, 0.9211070617669894, 0.9406026911137256, 0.9905866317636467, 0.10586068157840686, 0.811598558767786, 0.07057378771893791, 0.9460211866107857, 0.9855374375825805, 0.869549143047775, 0.9410935207828752, 0.9520639007750793, 0.944295192578902, 0.9887840859817321, 0.9235336774142892, 0.9822996593366501, 0.9331736224813244, 0.8823205444920832, 0.9555005966172531, 0.030382544540667477, 0.638033435354017, 0.22786908405500608, 0.045573816811001214, 0.045573816811001214, 0.015191272270333738, 0.29528309695359817, 0.6791511229932758, 0.4010819749858981, 0.5882535633126506, 0.16028039194050744, 0.035061335736986006, 0.31555202163287405, 0.21036801442191602, 0.06511390922583116, 0.05509638472954944, 0.15026286744422573, 0.834943852112474, 0.13915730868541235, 0.9769887487653567, 0.951855119002889, 0.9807864096636866, 0.9869265915162725, 0.9536548045612785, 0.988920780203106, 0.9901183194169662, 0.9381180620854565, 0.8996049794461447, 0.9713998457176958, 0.9220753302237761, 0.06470704071745796, 0.8530240618856351, 0.03758243263551024, 0.9520882934329261, 0.1468055182747219, 0.8441317300796509, 0.7877320365086516, 0.17723970821444662, 0.9201526254108467, 0.2697034918912641, 0.7012290789172867, 0.9780181362172338, 0.9759697866231688, 0.9034001045504046, 0.0790475091481604, 0.9686795949780456, 0.9892057472462523, 0.918998451151718, 0.8972823750543514, 0.09665847022650972, 0.7925994558573798, 0.019331694045301946, 0.07732677618120778, 0.9704596156301836, 0.9250624260445242, 0.27228629173348184, 0.239611936725464, 0.08713161335471419, 0.3267435500801782, 0.07624016168537491, 0.9788056131605016, 0.9257096779954134, 0.5162633927275863, 0.024583971082266013, 0.4179275083985222, 0.8045534897391692, 0.17878966438648206, 0.9644189797840906, 0.9329376876487281, 0.9226756831085163, 0.9573884124836051, 0.8641994735117934, 0.12345706764454191, 0.8285388976013265, 0.16756966468341436, 0.9191054924062001, 0.9697235472380442, 0.9306753879950033, 0.9610746243388675, 0.8785720165131494, 0.9431966698580442, 0.9168308277693467, 0.9708576661705896, 0.022182547076019524, 0.34382947967830263, 0.03327382061402928, 0.1774603766081562, 0.15527782953213665, 0.011091273538009762, 0.03327382061402928, 0.21073419722218548, 0.10520673369153917, 0.21041346738307834, 0.1227411893067957, 0.2454823786135914, 0.2805512898441045, 0.01753445561525653, 0.9908831411069777, 0.9307006408073286, 0.02033233732928517, 0.24398804795142204, 0.6099701198785551, 0.10166168664642586, 0.8966228135695348, 0.9673477283936676, 0.10630369221971477, 0.08504295377577181, 0.21260738443942953, 0.44647550732280206, 0.10630369221971477, 0.9703278853791166, 0.9653370766313837, 0.9619977277249563, 0.23531764203185618, 0.10589293891433528, 0.6471235155876045, 0.1748439770555835, 0.03178981401010609, 0.23842360507579566, 0.5404268381718035, 0.3026934759170832, 0.6810603208134371, 0.07538067613311669, 0.07538067613311669, 0.15076135226623338, 0.6784260851980503, 0.9768926485603859, 0.13808562229033686, 0.2761712445806737, 0.5178210835887632, 0.3529810831709185, 0.6096945982043137, 0.01838571329857273, 0.9744428048243546, 0.8441056055868125, 0.14680097488466304, 0.3032302925477012, 0.052889004514133926, 0.02115560180565357, 0.16219294717667737, 0.3666970979646619, 0.09520020812544107, 0.9117581810249137, 0.9804927153663201, 0.05157602777958644, 0.1289400694489661, 0.1289400694489661, 0.08596004629931073, 0.06017203240951751, 0.17192009259862145, 0.11174806018910395, 0.06017203240951751, 0.06876803703944859, 0.06017203240951751, 0.06876803703944859, 0.9210971879001436, 0.9858668913789291, 0.8361449831074613, 0.927997430892309, 0.9817138886896445, 0.9700492218184088, 0.9953913929492813, 0.23289079492010964, 0.7504258947425755, 0.9460475245841915, 0.9705952875999408, 0.04529009625379086, 0.38496581815722225, 0.007548349375631809, 0.08680601781976581, 0.21135378251769066, 0.052838445629422665, 0.06038679500505447, 0.0830318431319499, 0.06038679500505447, 0.35112333418704206, 0.5679936288319798, 0.07229009821497924, 0.9782296268060956, 0.8537110553034293, 0.4476431025214991, 0.5371717230257989, 0.9937847273875062, 0.9452803847028272, 0.8964588286161862, 0.9372586795486769, 0.9416471972635322, 0.022780019204634697, 0.12366296139658835, 0.16922299980585773, 0.4881432686707435, 0.15946013443244286, 0.03254288457804957, 0.11750474672364845, 0.8519094137464513, 0.98865360763318, 0.12975906273006912, 0.859653790586708, 0.02871170240458716, 0.21055248430030585, 0.13079775539867483, 0.05423321565310908, 0.10527624215015292, 0.07337435058950052, 0.10208605299408768, 0.0319018915606524, 0.05104302649704384, 0.05742340480917432, 0.02871170240458716, 0.01276075662426096, 0.07018416143343528, 0.00638037831213048, 0.03828226987278288, 0.4091752794257344, 0.5796649791864571, 0.6598250730084009, 0.043988338200560057, 0.17595335280224023, 0.05278600584067207, 0.026393002920336035, 0.043988338200560057, 0.14145977011901958, 0.8487586207141176, 0.8849745906738178, 0.9297454775643937, 0.9544750181848521, 0.3212830908389881, 0.6425661816779762, 0.20626297486438094, 0.7734861557414285, 0.9093330215046281, 0.9676195739606932, 0.9627309311476328, 0.9877759744645679, 0.9679091785773327, 0.941554966655046, 0.9390772591118663, 0.9813466522977609, 0.9565930546715151, 0.935434442191804, 0.24732529398916886, 0.7007549996359784, 0.8293738147852184, 0.15550759027222844, 0.9273893305712273, 0.9490043944659511, 0.9793544971819331, 0.9537858584060797, 0.9426056098676101, 0.1393239597039392, 0.02933135993767141, 0.1099925997662678, 0.08432765982080531, 0.12832469972731242, 0.098993339789641, 0.01833209996104463, 0.043997039906507114, 0.09166049980522316, 0.010999259976626779, 0.047663459898716044, 0.010999259976626779, 0.0549962998831339, 0.06599555985976067, 0.03666419992208926, 0.02933135993767141, 0.18925883217502007, 0.7780640878306381, 0.9473610829821072, 0.9355978407819701, 0.31826457657517593, 0.6718918838809269, 0.9669590016713314, 0.9276254992392862, 0.06945941286065345, 0.7486181163870427, 0.02701199389025412, 0.1504953945314158, 0.9506606852321287, 0.9071290861963157, 0.35745355684722124, 0.5188841954233857, 0.0576537994914873, 0.02306151979659492, 0.034592279694892376, 0.8501362655016217, 0.9575042319324485, 0.1358468346715616, 0.842250374963682, 0.9875016719628743, 0.11897653314706902, 0.8685286919736038, 0.9960582710365404, 0.40995065282183624, 0.5856437897454804, 0.9945997483673501, 0.996310825763016, 0.9570312942937673, 0.9760200073966493, 0.9286637650792368, 0.05159243139329093, 0.9526110894455038, 0.9127731267503595, 0.9556051842902002, 0.9177044456044579, 0.9125458993511616, 0.9850132145572406, 0.9923646907417979, 0.8746004207345411, 0.02301580054564582, 0.06904740163693746, 0.9281499635722126, 0.8802313728409014, 0.8892639909931305, 0.8958676811763876, 0.9747857450942677, 0.9148256212462441, 0.8923074075633316, 0.08923074075633315, 0.974617673000535, 0.9699655618573556, 0.9742687750462522, 0.9453083852785343, 0.7290637402915453, 0.09919234561789732, 0.16862698755042546, 0.8972413337209791, 0.02340378480310888, 0.772324898502593, 0.16382649362176216, 0.9665387660288022, 0.9199393120027267, 0.8542797600615784, 0.9122658758615811, 0.07017429814319855, 0.9550749508411981, 0.7593183736506083, 0.1786631467413196, 0.05211008446621822, 0.8199485386609052, 0.17392847789776777, 0.9088470298010112, 0.9293502580620936, 0.10912963640507492, 0.04676984417360354, 0.1403095325208106, 0.1714894286365463, 0.405338649504564, 0.10912963640507492, 0.986983024156003, 0.986333997107397, 0.9548805122622026, 0.9528709006914992, 0.9664123103137329, 0.9850805738013146, 0.989639804222105, 0.9471180066112213, 0.23683177495171293, 0.1114502470361002, 0.43186970726488827, 0.1671753705541503, 0.02786256175902505, 0.37921824737837107, 0.5353669374753474, 0.04461391145627895, 0.9154246021796323, 0.07422361639294316, 0.9593741760441078, 0.9749810808813207, 0.8401197892929758, 0.032911070732909914, 0.5814289162814085, 0.05485178455484986, 0.08776285528775978, 0.005485178455484986, 0.2303774951303694, 0.8895318531015941, 0.9663391862176773, 0.18781762249886247, 0.4758046436637849, 0.05634528674965874, 0.2692052589150362, 0.9382177109407208, 0.9877664654982754, 0.964864377312377, 0.9601882695645221, 0.8868635723378178, 0.18985465835505533, 0.1423909937662915, 0.6644913042426936, 0.8668482130570168, 0.8993105376670029, 0.07993871445928914, 0.9740332954828924, 0.9778946708577959, 0.9712529365364739, 0.9584154235937099, 0.13631253452014694, 0.6702032947240557, 0.17039066815018367, 0.02271875575335782, 0.9638748460093203, 0.919739037395131, 0.054102296317360646, 0.2114111021756208, 0.07550396506272172, 0.6040317205017738, 0.09060475807526606, 0.9579278567024979, 0.26430260030152336, 0.7173927722469919, 0.5856137957909996, 0.13223537324312895, 0.28336151409241916, 0.08920426185059283, 0.9047860844845844, 0.9870091506444841, 0.9271799832154222, 0.8802086977038904, 0.9857986788362076, 0.018244542847036558, 0.030407571411727594, 0.17028239990567454, 0.1581193713409835, 0.4317875140465318, 0.1885269427527111, 0.27954943377819913, 0.388263102469721, 0.27954943377819913, 0.046591572296366526, 0.9632893575963961, 0.6318969974845758, 0.13403875704218274, 0.11489036317901379, 0.09574196931584482, 0.8428557969864995, 0.9226405941657392, 0.9554776253594608, 0.8833538671117707, 0.9383485145204501, 0.19420968186783583, 0.03066468661071092, 0.7563956030642027, 0.8385044714450856, 0.09316716349389839, 0.9701245180237449, 0.8726297454846903, 0.7299532993306669, 0.17824441030167448, 0.08487829061984499, 0.9256433125398225, 0.9536259858502836, 0.3988947252052245, 0.5812465995847558, 0.9379661401358345, 0.9116175672607302, 0.9283050910986926, 0.06630750650704947, 0.7101809574236525, 0.24583186987741817, 0.9660260444736641, 0.9329005380690217, 0.20328532729539875, 0.7724842437225152, 0.936244053239759, 0.37155177909652964, 0.17876547862191522, 0.2944372589066839, 0.007010410926349616, 0.07010410926349617, 0.035052054631748084, 0.0420624655580977, 0.6800814221064069, 0.21020698501470758, 0.09892093412456827, 0.9753103331372398, 0.41716225035900795, 0.566148768344368, 0.9850406602235444, 0.9675106421791422, 0.9544848931673163, 0.15799466373500445, 0.7899733186750223, 0.9846516745250774, 0.9465196112949131, 0.9534644245890774, 0.9702936144982077, 0.9469815601782686, 0.9814745299692216, 0.8944658427132436, 0.025554189296128696, 0.9455050039567618, 0.8969116254624597, 0.8008656666145934, 0.18743664537788357, 0.9471384141624504, 0.9541847649568753, 0.7873752198748625, 0.20996672529996332, 0.9733932376229875, 0.16142419149365608, 0.8071209574682805, 0.8937521569957672, 0.08112178901831876, 0.4867307341099126, 0.2317765400523393, 0.15065475103402057, 0.034766481007850895, 0.9185694851494178, 0.9067157089153015, 0.9587878180050824, 0.886190691130087, 0.931589402556967, 0.09805975901091964, 0.17160457826910938, 0.7109332528291674, 0.1254410902443158, 0.8467273591491316, 0.9334890100015464, 0.23146369623597515, 0.023146369623597517, 0.717537458331523, 0.12102821945541944, 0.8471975361879361, 0.11419553871643329, 0.2387724900434514, 0.0934327134952636, 0.43601932964456347, 0.10381412610584843, 0.757074193102785, 0.16458134632669238, 0.041145336581673096, 0.03291626926533848, 0.2796417772832965, 0.19574924409830752, 0.5033551991099336, 0.30845543156459077, 0.0077113857891147695, 0.3778579036666237, 0.04626831473468862, 0.08482524368026247, 0.16193910157141017, 0.978404136736451, 0.9933523763497855, 0.8461069224948908, 0.1253491737029468, 0.9572391816612106, 0.018426600031316562, 0.9581832016284612, 0.8876747062446624, 0.9488244791702878, 0.16155409519001027, 0.8077704759500514, 0.979887665973115, 0.22626760352413605, 0.24367280379522346, 0.4351300067771847, 0.017405200271087388, 0.06962080108434955, 0.9261585565033305, 0.8960800702273637, 0.10552819913512687, 0.844225593081015, 0.9663009670449324, 0.9414097038150612, 0.10893426260279168, 0.2783875599849121, 0.06455363709795063, 0.07665744405381637, 0.06051903477932871, 0.04841522782346297, 0.1452456834703889, 0.15331488810763275, 0.04438062550484106, 0.016138409274487658, 0.008069204637243829, 0.9491992091802208, 0.9322580574930902, 0.9658326102236754, 0.9640087494104767, 0.9705514228011818, 0.8428264388768438, 0.0747668615132684, 0.0747668615132684, 0.8474229415964072, 0.9807849407794529, 0.9974742877677768, 0.2813267366695403, 0.7033168416738507, 0.9536970029485549, 0.9340079652475161, 0.9316340443784007, 0.9276173752671671, 0.8906797764674755, 0.9229297732151047, 0.37835505731284935, 0.02910423517791149, 0.5820847035582298, 0.9643435629979168, 0.9333715358807051, 0.9314891326909984, 0.04657445663454992, 0.9181769302642078, 0.5377072798263128, 0.2781244550825756, 0.11124978203303024, 0.0741665213553535, 0.9864092214401315, 0.7499575151379223, 0.22057573974644773, 0.9307636742848467, 0.05556798055431921, 0.952134566088396, 0.7565261875682987, 0.09456577344603734, 0.04728288672301867, 0.0788048112050311, 0.9604919302280027, 0.9278263953043389, 0.9551012079952765, 0.9496304558931412, 0.0941833328535748, 0.7848611071131233, 0.0941833328535748, 0.6725967852406038, 0.2959425855058657, 0.9466686890073341, 0.9114960835918717, 0.3026184111047815, 0.6808914249857584, 0.9860057224470269], \"Term\": [\"academique\", \"accessoire\", \"accessoire\", \"accessoire_mode\", \"accompagnement\", \"accompagnement\", \"achat\", \"achat\", \"achat\", \"achat\", \"achat\", \"achat\", \"achat\", \"acquisition_immeubler\", \"actif\", \"actif\", \"action\", \"action\", \"action\", \"active\", \"activer_domaine\", \"administratif\", \"administratif\", \"administratif\", \"administratif_comptable\", \"aerien\", \"aerien\", \"aerien\", \"aeronautique\", \"aeronautique\", \"aeronef\", \"aeroport\", \"affaire\", \"affaire\", \"affaire\", \"affaire\", \"affaire\", \"affaire\", \"affaire\", \"affectation_exclusivement\", \"affectation_exclusivement\", \"affection_humain\", \"afferent\", \"afferent\", \"afferent\", \"affilie\", \"affilier\", \"affilier\", \"affretement\", \"africain\", \"afrique\", \"age\", \"age\", \"age\", \"agence\", \"agence\", \"agencement\", \"agencemer\", \"agent\", \"agent\", \"agir\", \"agir\", \"agir_participation\", \"agricole\", \"agricole\", \"agricole\", \"agricole\", \"aide\", \"aide\", \"aide\", \"aide\", \"aide\", \"alarme\", \"alcool\", \"alcooliser\", \"aliment\", \"alimentaire\", \"alimentaire\", \"alimentaire\", \"alimentation\", \"alimentation\", \"alimentation\", \"alimentation_boisson\", \"alliance\", \"alternatif\", \"aluminium\", \"ambiance\", \"amenagement\", \"amenagement\", \"amenagemer\", \"amerique\", \"analogue\", \"analogue\", \"analogue\", \"analyse\", \"analyse\", \"analyse\", \"analyse\", \"analyse\", \"analyse\", \"analyses\", \"animal\", \"animal\", \"animation\", \"animation\", \"animation\", \"animation\", \"anti\", \"antiquite\", \"appareil\", \"appareil\", \"appareil\", \"appareil\", \"apparenter\", \"appartement\", \"appartement\", \"appel_public\", \"applicatier\", \"application\", \"application\", \"application\", \"application\", \"apporteur_affaire\", \"apprentissage\", \"approche\", \"aquatique\", \"arbitrage\", \"architecte\", \"architectes\", \"architectur\", \"architectur\", \"architectur_architectur\", \"architectur_urbanisme\", \"architectural\", \"architecture\", \"architecture\", \"architecture_urbanisme\", \"argent\", \"arme\", \"arrosage\", \"art\", \"art\", \"article\", \"article\", \"article\", \"article_bijouterie\", \"article_horlogerie\", \"article_maroquinerie\", \"article_mode\", \"article_nature\", \"article_produire\", \"article_sport\", \"artisanal\", \"artisanat\", \"artisanau\", \"artister\", \"artistique\", \"asiatique\", \"asie\", \"assimiler\", \"assistance\", \"assistance\", \"assistance\", \"assistance\", \"assistance\", \"assistance\", \"assistance\", \"assistance\", \"association\", \"association\", \"association\", \"association\", \"associer\", \"associer\", \"associer\", \"assurance\", \"assurance\", \"assurance\", \"atelier\", \"atelier\", \"atelier_architectur\", \"atelier_carrosserie\", \"audio_visuel\", \"audiovisuel\", \"audiovisuel\", \"audiovisuel\", \"audit\", \"audit\", \"audit\", \"auto\", \"automation\", \"automatique\", \"automobile\", \"automobile\", \"autonomie\", \"autorisation\", \"autorisation\", \"autorite\", \"autorite\", \"autorite\", \"autour\", \"aviation\", \"aviation\", \"avocat\", \"avocat_inscrire\", \"axer\", \"bail\", \"bain\", \"bancaire\", \"bancaire\", \"banque\", \"bar\", \"bar_restaurant\", \"bar_restaurer\", \"baser\", \"bateal\", \"bateau\", \"batiment\", \"batiment\", \"beaute\", \"benefice\", \"beton\", \"bien\", \"bien\", \"bien\", \"bien\", \"bien\", \"bien\", \"bien\", \"bien\", \"bien\", \"bien_consommation\", \"bien_immobilier\", \"bien_immobilier\", \"bien_mobilier\", \"bien_produire\", \"biere\", \"bijou\", \"bijouterie\", \"bijouterie_joaillerie\", \"bijoux\", \"bijoux_accessoire\", \"bilan\", \"bio\", \"biologie\", \"biologique\", \"biologique\", \"biomedical\", \"blanchisserie\", \"bois\", \"bois\", \"boisson\", \"boulangerie\", \"bourse_commerce\", \"boutique\", \"brasserie\", \"brevet\", \"brevet\", \"brevet_marque\", \"brevet_marque\", \"brut\", \"brut_produit\", \"bureau\", \"bureau\", \"bureau\", \"bureau_architecte\", \"bureau_architectur\", \"bureau_fiduciaire\", \"but_analogue\", \"but_complet\", \"but_lucratif\", \"but_lucratif\", \"but_principal\", \"but_principal\", \"but_similaire\", \"buvette\", \"buvette\", \"cabinet\", \"cadre\", \"cadre\", \"cadre\", \"cadre\", \"cadre\", \"cafe\", \"cafe\", \"cafes\", \"calcul\", \"camion\", \"canton\", \"canton\", \"canton\", \"capital\", \"carouge\", \"carrelage\", \"carrosserie\", \"cas\", \"cas\", \"cas\", \"central\", \"centre\", \"centre\", \"centre\", \"centre\", \"centre\", \"cereale\", \"cession\", \"cession\", \"cf_statut\", \"change\", \"change\", \"chantier\", \"chantier\", \"chantier_naval\", \"chape\", \"charcuterie\", \"chauffage\", \"chauffage_ventilation\", \"chauffeur\", \"chauffeur\", \"chauffeur\", \"chaussure\", \"chaussure_accessoire\", \"chien\", \"chine\", \"chinois\", \"chirurgical\", \"chirurgie\", \"chirurgie\", \"chocolat\", \"chocolaterie\", \"christ\", \"cinema\", \"cinema\", \"cinema\", \"cinematographique\", \"citoyen\", \"civil\", \"civil\", \"civil\", \"client\", \"client\", \"client\", \"client\", \"client_cadre\", \"clientele\", \"clientele\", \"climatisation\", \"clinique\", \"clinique\", \"cloison\", \"club\", \"coaching\", \"coaching\", \"coaching_formation\", \"coiffure\", \"colis\", \"collaborateur\", \"collaboration\", \"collaboration\", \"collaboration\", \"collectif\", \"collection\", \"comestible\", \"commercant\", \"commerce_gros\", \"commerce_gros\", \"commercial_financier\", \"commercial_financier\", \"commercial_financier\", \"commercial_industriel\", \"commercialisation_logiciel\", \"commercialisation_solution\", \"communaute\", \"communaute\", \"communaute\", \"communaute\", \"communication\", \"communication\", \"communication\", \"communication_visuel\", \"competence\", \"competence\", \"competition\", \"complement\", \"complementaire\", \"composant\", \"comprehension\", \"comprehension\", \"comprendre\", \"comprendre\", \"comptabilite\", \"comptable\", \"comptable_administratif\", \"comptable_fiscal\", \"compte\", \"compte\", \"compte\", \"compte\", \"compte_tiers\", \"compte_tiers\", \"compte_tiers\", \"conception\", \"conception\", \"conception\", \"conception\", \"conception\", \"conception\", \"conception\", \"concerne\", \"conciergerie\", \"conclusion_contrat\", \"condition\", \"condition\", \"conditionnement\", \"conduite\", \"conduite\", \"confection\", \"conference\", \"conference\", \"conference\", \"conference\", \"conference\", \"conference\", \"conference\", \"confiseri\", \"confiserie\", \"conflit\", \"congres\", \"congres\", \"connexe\", \"consequence\", \"conservation\", \"constituer\", \"constitution\", \"constitution\", \"constitution_administration\", \"construction_transformation\", \"consultance\", \"consultation\", \"consultation\", \"consultation\", \"consultation\", \"consultation\", \"consulter\", \"consulting\", \"consulting\", \"consulting\", \"consulting\", \"consulting\", \"consulting\", \"consulting\", \"contenu\", \"continue\", \"contrat\", \"contrat\", \"contrat\", \"contribuer\", \"controle\", \"controle\", \"controle\", \"controler\", \"coordination\", \"coordination\", \"coordination\", \"coordination\", \"coordination\", \"corps\", \"cosmetique\", \"cosmetique\", \"courrier\", \"cours\", \"cours\", \"course\", \"courtage\", \"courtage_assurance\", \"courtage_assurance\", \"couverture\", \"createur\", \"credit\", \"credit\", \"cuir\", \"cuisine\", \"culinaire\", \"culture\", \"culture\", \"culture\", \"culturel\", \"culturel\", \"culturel\", \"culturel\", \"culturel\", \"culturel\", \"culturelle\", \"cultureller\", \"cycle\", \"danse\", \"debit\", \"decembre\", \"deces\", \"dechet\", \"dechet\", \"decoration\", \"decoration\", \"decoration\", \"decouverte\", \"demarche\", \"demenagement\", \"democratie\", \"demolition\", \"denree\", \"denree\", \"denree\", \"dentaire\", \"dentaire_laboratoire\", \"depannage\", \"depannage\", \"depannage\", \"depannage\", \"depannage\", \"derive\", \"derive\", \"deriver\", \"deriver\", \"design\", \"design\", \"dessin\", \"destiner\", \"destiner\", \"destiner\", \"destiner\", \"detacher\", \"detail\", \"detection\", \"devise\", \"diagnostic_traitement\", \"dialogue\", \"diamant_pierre\", \"difficulte\", \"diffusion\", \"diffusion\", \"diffusion\", \"diffusion\", \"diffusion\", \"diffusion\", \"diffusion\", \"digital\", \"digital\", \"direct_indirect\", \"direction_projet\", \"discotheque\", \"dispositif\", \"disposition\", \"disposition\", \"disposition\", \"distance\", \"divertissement\", \"document\", \"document\", \"domestique\", \"domicil\", \"domiciliation\", \"domiciliation\", \"domotique\", \"donnee\", \"donnee\", \"dossier\", \"droit\", \"droit\", \"droit\", \"droit\", \"droit\", \"droit_auteur\", \"droit_enfant\", \"droit_homme\", \"droit_humain\", \"droit_valeur\", \"durable\", \"durable\", \"durable\", \"dynamique\", \"ebenisterie\", \"echafaudage\", \"echange\", \"echange\", \"ecole\", \"ecole\", \"ecole\", \"ecologie\", \"economie\", \"economie\", \"economie\", \"economie\", \"economie\", \"economique\", \"economique\", \"economique\", \"economique\", \"edification\", \"education\", \"education\", \"education\", \"education\", \"egalement\", \"egalement\", \"egalement\", \"elaboration\", \"elaboration\", \"elaboration\", \"elaboration\", \"elaboration\", \"elagage\", \"electricite\", \"electricite\", \"electrique\", \"electrique\", \"electromenager\", \"electronique\", \"eleve\", \"eleve\", \"emploi\", \"employe\", \"employeur\", \"emprunt\", \"encadrement\", \"enchere\", \"energetique\", \"energetique\", \"energetique\", \"energie\", \"energie\", \"enfant\", \"enfant\", \"engineering\", \"enregistrement\", \"enseigne\", \"enseigne\", \"enseignement\", \"enseignement\", \"enseignement\", \"enseignement\", \"entite\", \"entite\", \"entite\", \"entite\", \"entrainement\", \"entreprendre\", \"entreprendre\", \"entreprendre\", \"entreprendre\", \"entreprendre\", \"entrepris\", \"entrer_cadre\", \"entretien\", \"entretien\", \"entretien\", \"entretien_maintenance\", \"entretien_parc\", \"environnement\", \"environnement\", \"environnement\", \"environnement\", \"environnemental\", \"epicerie\", \"epilation\", \"equipe\", \"equipement\", \"equipement\", \"equipement\", \"equipement\", \"equipement\", \"equitable\", \"espace\", \"espace\", \"espace\", \"espace_publicitaire\", \"esprit\", \"essentiellement\", \"esthetique\", \"esthetique\", \"estimation\", \"etablir\", \"etablissement\", \"etablissement\", \"etancheite\", \"etancheite\", \"europe\", \"europeen\", \"europeen\", \"evaluation\", \"evaluation\", \"evaluation\", \"evangil\", \"evenement\", \"evenement\", \"evenement\", \"evenement\", \"evenementiel\", \"evenementiel\", \"evenementiel\", \"evenementiel\", \"evenementiell\", \"exception\", \"exception\", \"exclusivement_affectation\", \"exclusivement_commercial\", \"exclusivement_commercial\", \"execution\", \"execution\", \"exercer\", \"exercer\", \"exercer\", \"exercice\", \"exercice\", \"exercice\", \"existant\", \"existant\", \"experience\", \"experience\", \"experience\", \"expertis\", \"expertis\", \"expertis\", \"expertis\", \"expertis\", \"expertis\", \"expertis\", \"expertise\", \"expertise\", \"expertise\", \"expertise\", \"expertise\", \"expertise\", \"expertise\", \"expertise\", \"expertise\", \"exploitation_agence\", \"exploitation_agence\", \"exploitation_banque\", \"exploitation_boucherie\", \"exploitation_boulangeri\", \"exploitation_boutique\", \"exploitation_bureau\", \"exploitation_bureau\", \"exploitation_bureau\", \"exploitation_cabinet\", \"exploitation_centre\", \"exploitation_galerie\", \"exploitation_garage\", \"exploitation_salon\", \"exploite\", \"exploration\", \"exportation\", \"exportation\", \"exposition\", \"exposition\", \"expression\", \"exterieur\", \"fabrication_commercialisation\", \"fabrication_commercialisation\", \"fabrication_commercialisation\", \"facade\", \"faible\", \"familial\", \"famille\", \"famille\", \"famille\", \"family_office\", \"faux_plafond\", \"faveur\", \"faveur\", \"faveur\", \"faveur\", \"faveur\", \"faveur\", \"favoriser\", \"federal\", \"federal\", \"fenetre\", \"ferblanterie\", \"fete\", \"fiduciaire\", \"fiduciaire_constitution\", \"filiale\", \"film\", \"fin\", \"fin\", \"fin\", \"fin\", \"fin\", \"finance\", \"finance\", \"finance\", \"financement\", \"financement\", \"financement\", \"financement\", \"financement\", \"financement\", \"financier\", \"financier\", \"financier\", \"fiscal\", \"fiscalite\", \"fitnes\", \"fixer_voie\", \"floral\", \"fluvial\", \"fonctionnement\", \"fonds\", \"fonds\", \"fonds\", \"fonds_commerce\", \"fonds_commerce\", \"fonds_commerce\", \"fonds_placement\", \"football\", \"formation_adulte\", \"forme\", \"forme\", \"forme\", \"forme\", \"forme\", \"forme\", \"forme\", \"forme\", \"fortune\", \"fortune\", \"fournisseur\", \"fournitur\", \"fourniture\", \"fourniture\", \"fourniture\", \"fourniture\", \"fourniture\", \"fourniture\", \"fourniture\", \"fourniture\", \"fourniture\", \"fourniture_service\", \"fourniture_service\", \"fourniture_service\", \"fourniture_service\", \"fourniture_service\", \"fourniture_service\", \"fourniture_service\", \"fourniture_service\", \"fourniture_service\", \"france\", \"franchise\", \"franchise\", \"franchise\", \"fret\", \"froid\", \"fruit\", \"fusion\", \"fusion_acquisition\", \"gage\", \"garde\", \"garde_meuble\", \"gaz\", \"gaz\", \"generalement\", \"generalement\", \"generalement\", \"generalement\", \"generation\", \"genevois\", \"genevois\", \"genie\", \"geopolitique\", \"geranc\", \"gerance\", \"gerance\", \"gerance\", \"gestion_fortune\", \"gestion_patrimoine\", \"gestion_portefeuille\", \"gestion_salaire\", \"gestionnaire\", \"global\", \"graphique\", \"graphisme\", \"graphisme\", \"graphisme\", \"gravure\", \"gros\", \"groupement\", \"gypserie\", \"gypserie_peintur\", \"habitation\", \"hebergement\", \"hebergement\", \"histoire\", \"holding\", \"holding\", \"holding_exclusion\", \"homme\", \"homme_femme\", \"horloger\", \"horlogerie\", \"horlogerie_bijouterie\", \"hospitalier\", \"hotel\", \"hotellerie\", \"hotellerie\", \"humanitaire\", \"humanitaire\", \"hydraulique\", \"hygiene\", \"hygiene\", \"hygiene\", \"hygiene\", \"hypothecaire\", \"idee\", \"illustration\", \"image\", \"image\", \"image\", \"immateriel\", \"immeuble\", \"immeuble\", \"immeuble\", \"immeuble_affectation\", \"immeubler\", \"immeubler\", \"immeubles\", \"immeubles\", \"immobilier\", \"immobilier\", \"immobilier_affectation\", \"immobiliere\", \"impact\", \"import\", \"import_export\", \"import_export\", \"import_export\", \"import_export\", \"import_export\", \"importation\", \"importation\", \"importation\", \"importation\", \"importation\", \"importation_exportation\", \"importation_exportation\", \"importation_exportation\", \"importation_exportation\", \"importation_exportation\", \"importation_exportation\", \"impression\", \"impression\", \"impression\", \"imprimerie\", \"inclure\", \"independant\", \"independant\", \"indirect\", \"indirect\", \"indirect_but\", \"indirect_but\", \"indirecte\", \"indirectement\", \"indirectement\", \"indirectemer\", \"individu\", \"individuel\", \"individuel\", \"individuel\", \"individuel\", \"individuel\", \"industrie\", \"industrie\", \"industrie\", \"industrie\", \"industrie\", \"industrie\", \"industriel\", \"industriel\", \"industriel\", \"industriel\", \"industriel\", \"information\", \"information\", \"informatique\", \"infrastructure\", \"infrastructure\", \"infrastructure\", \"infrastructure\", \"ingenierie\", \"ingenierie\", \"ingenierie\", \"ingenieur\", \"initiative\", \"insertion\", \"installation_chauffage\", \"installation_sanitaire\", \"institut\", \"institution\", \"institution\", \"institution\", \"institution\", \"institution\", \"institution\", \"institutionnel\", \"instrument\", \"integration\", \"integration\", \"integration\", \"intellectuel\", \"intellectuel_industriel\", \"intelligence\", \"interesser\", \"interet\", \"interet\", \"interet\", \"interet\", \"interet\", \"interet\", \"interet\", \"interieur\", \"intermediaire\", \"intermediaire\", \"intermediaire\", \"intermediation\", \"intermediation\", \"intermediation\", \"intermediation\", \"interne\", \"internet\", \"interpretation\", \"invalidite\", \"investissement\", \"investissement\", \"investisseur\", \"isolation\", \"issu\", \"italien\", \"jardin\", \"jardinage\", \"jeu\", \"jeune\", \"joaillerie\", \"joaillerie_bijouterie\", \"journal\", \"juridique\", \"juridique\", \"juridique\", \"juridique_client\", \"juridique_fiscal\", \"laboratoire\", \"langue\", \"langue\", \"langue\", \"large\", \"laser\", \"leadership\", \"legal\", \"legume\", \"liberte\", \"licence\", \"licence\", \"licence\", \"lier_loin\", \"lieu\", \"lieu\", \"lieux\", \"lieux\", \"ligne\", \"ligne\", \"limite\", \"limite_lfaie\", \"limiter\", \"lingerie\", \"liquide\", \"livraison\", \"livre\", \"livre\", \"local\", \"local\", \"local\", \"local\", \"local\", \"local\", \"logement\", \"logiciel\", \"logiciel_informatique\", \"logistique\", \"logistique\", \"logistique\", \"loi\", \"loi\", \"loisir\", \"loisir\", \"loisir\", \"loisir\", \"luxe\", \"luxe\", \"machine\", \"machine\", \"maconnerie\", \"magasin\", \"magasin_alimentation\", \"magasins\", \"main\", \"maintenance\", \"maintenance\", \"maintien\", \"maison\", \"maison\", \"malade\", \"maladie\", \"maladie\", \"management\", \"management\", \"management\", \"mandat\", \"mandat\", \"mandat_entrer\", \"mandat_fiduciaire\", \"mandataire\", \"maniere\", \"maniere\", \"maniere\", \"maniere\", \"maniere\", \"manifestation\", \"manifestation\", \"manifestation\", \"manifestation_culturel\", \"manuel\", \"manufacture\", \"manufacture\", \"manufacture\", \"manufacture\", \"manutention\", \"maquillage\", \"marchandise\", \"marchandise\", \"marchandise\", \"marchandise\", \"marchandise_genre\", \"marche\", \"marche\", \"marche\", \"marche\", \"marche\", \"maritime\", \"maritimer\", \"marketing\", \"marketing\", \"marketing\", \"marketing_communication\", \"marketing_communication\", \"marketing_digital\", \"maroquinerie\", \"marque\", \"marque\", \"marque\", \"marque\", \"marque_brevet\", \"massage\", \"massage\", \"materiau\", \"materiel\", \"materiel\", \"materiel\", \"materiel\", \"materiel\", \"mecanique\", \"mecanique\", \"medecin\", \"medecin\", \"medecine\", \"media\", \"media\", \"mediation\", \"mediation\", \"mediation\", \"medical\", \"medical\", \"medical\", \"medicament\", \"medicament\", \"medicament\", \"medico\", \"medico\", \"meditation\", \"meilleur\", \"membre\", \"membre\", \"membre\", \"membre_association\", \"menager\", \"mental\", \"mentionner\", \"menuiserie\", \"menuiserie_agencemer\", \"mer\", \"mer\", \"mesure\", \"mesure\", \"mesure\", \"mesure\", \"mesure\", \"metal\", \"metal\", \"metal\", \"metallique\", \"methode\", \"methode\", \"methode\", \"metier\", \"mettre_disposition\", \"mettre_relation\", \"mettre_valeur\", \"meuble\", \"mieux\", \"mise\", \"mise\", \"mise\", \"mise\", \"mise\", \"mise\", \"mise\", \"mise_disposition\", \"mise_disposition\", \"mise_disposition\", \"mise_disposition\", \"mise_disposition\", \"mise_oeuvre\", \"mise_oeuvre\", \"mise_place\", \"mise_valeur\", \"mobile\", \"mobilier\", \"mobilier\", \"mobilier_immobilier\", \"mobilier_immobilier\", \"mobiliere\", \"mobiliere\", \"mobiliere\", \"mode\", \"mode\", \"mode\", \"modele\", \"modele\", \"modele\", \"modele\", \"monde\", \"monde_entier\", \"monde_entier\", \"mondial\", \"montage\", \"montage\", \"montre\", \"montre\", \"moral\", \"moral\", \"mosaique\", \"moteur\", \"moto\", \"mouvement\", \"moyen\", \"moyen\", \"moyen\", \"moyen\", \"moyen\", \"moyen\", \"multimedia\", \"multimedia\", \"musical\", \"musical\", \"musicien\", \"musique\", \"national\", \"nature\", \"nature\", \"nature\", \"nature\", \"nature\", \"nature\", \"nature\", \"naturel\", \"naturel\", \"nautique\", \"navigation\", \"navire\", \"necessaire\", \"necessaire\", \"negoc\", \"negoc\", \"negoc\", \"negoc\", \"negoce\", \"negoce\", \"negoce\", \"negociation\", \"negociation\", \"negocier\", \"nettoyage\", \"nettoyage\", \"nettoyage_entretien\", \"neuf\", \"neuf_occasion\", \"nom\", \"norme\", \"nouveau\", \"nouveau\", \"nouveau\", \"nouveau\", \"numerique\", \"nutrition\", \"nutrition\", \"nutritionnel\", \"objet\", \"objet\", \"objet\", \"objet\", \"objet\", \"objet\", \"objet\", \"objet_art\", \"objet_similaire\", \"objet_social\", \"objet_social\", \"objet_social\", \"obligation\", \"occasion\", \"octroi\", \"octroi\", \"oeuvre\", \"oeuvre\", \"oeuvre\", \"oeuvre\", \"oeuvre_art\", \"oeuvre_musical\", \"offre\", \"offre\", \"offre\", \"offre_conseil\", \"onglerie\", \"operationnel\", \"operationnel\", \"opportunite\", \"opportunite\", \"optimisation\", \"optique\", \"optique\", \"or\", \"ordinateur\", \"ordinateur\", \"orfevrerie\", \"organisation_exposition\", \"organisation_gouvernemental\", \"organisation_manifestation\", \"organisation_manifestation\", \"organisation_voyage\", \"organisation_voyage\", \"organisationnel\", \"organiser\", \"outillage\", \"ouvrage\", \"ouvrage\", \"ouvrage\", \"paix\", \"papier\", \"papier_peindre\", \"papier_valeur\", \"paramedical\", \"parfumerie\", \"parfums\", \"parquet\", \"parquet\", \"participation_direct\", \"particulier_professionnel\", \"partie\", \"party\", \"patient\", \"patisserie\", \"patrimoine\", \"patrimoine\", \"patrimoine\", \"patrimoine_familial\", \"patrimonial\", \"pauvrete\", \"paysagisme\", \"paysagiste\", \"peindre\", \"peintur\", \"peintur_carrelage\", \"peinture\", \"peinture_papier\", \"pension\", \"perle\", \"permettre\", \"permettre\", \"permettre\", \"permettre\", \"permettre\", \"permettre\", \"personnaliser\", \"personnaliser\", \"personne_physique\", \"personne_physique\", \"personnel\", \"personnel\", \"personnel\", \"personnel\", \"personnel\", \"personnel\", \"personnel\", \"petit\", \"petit\", \"petit_restauration\", \"petrochimique\", \"petrole\", \"petrolier\", \"peuple\", \"pharmaceutique\", \"photographie\", \"photographique\", \"photovoltaique\", \"physiotherapie\", \"physique\", \"physique\", \"physique_mental\", \"piece\", \"piece\", \"pierre\", \"pierre\", \"pilotage\", \"pilotage\", \"pilotage_projet\", \"pilotage_promotion\", \"pilotage_promotion\", \"piscine\", \"place\", \"placement\", \"placement\", \"placement_capital\", \"placement_collectif\", \"placement_investissement\", \"plafond\", \"plan\", \"plan\", \"plan\", \"plan\", \"plan_international\", \"plan_national\", \"planification\", \"planification\", \"planification\", \"planification\", \"planification\", \"plante\", \"plat\", \"plateforme\", \"plateforme\", \"plateforme\", \"platrerie\", \"platrerie\", \"plomberie\", \"pluridisciplinaire\", \"pme\", \"point_vente\", \"population\", \"population\", \"pose\", \"pose\", \"pose_carrelage\", \"pose_papier\", \"pose_parquet\", \"possession_exploitation\", \"post\", \"poursuite\", \"poursuivre\", \"poursuivre_but\", \"pouvoir\", \"pouvoir\", \"pouvoir\", \"pouvoir\", \"pouvoir\", \"pouvoir\", \"pouvoir\", \"pouvoir\", \"pratique\", \"pratique\", \"pratique\", \"pratique\", \"pratique\", \"pratique\", \"precieux\", \"precision\", \"premiere\", \"premiere\", \"premiere\", \"premiere\", \"premieres\", \"prendre_participation\", \"preparation\", \"preparation\", \"preparation\", \"preparation\", \"preparation\", \"presse\", \"prestataire_service\", \"prestation_exercice\", \"pret\", \"pret\", \"pret\", \"prevention\", \"prevention\", \"prevention\", \"prevention\", \"prevoyance\", \"prevoyance\", \"principal\", \"principal\", \"principal\", \"principal\", \"principe\", \"pris\", \"pris\", \"pris\", \"pris_participation\", \"pris_participation\", \"prise\", \"prise\", \"prise_charge\", \"prise_charge\", \"prise_participation\", \"prise_participation\", \"prise_participation\", \"prise_participation\", \"prise_participation\", \"prise_participation\", \"private_equity\", \"prive\", \"priver\", \"priver\", \"priver\", \"priver\", \"priver\", \"priver\", \"priver\", \"priver\", \"priver\", \"priver\", \"priver\", \"priver_institutionnel\", \"probleme\", \"producteur\", \"production_diffusion\", \"produire\", \"produit_agricole\", \"produit_alimentaire\", \"produit_chimique\", \"produit_chimique\", \"produit_consommation\", \"produit_pharmaceutique\", \"professionnel\", \"professionnel\", \"professionnel\", \"professionnel\", \"professionnel\", \"professionnel\", \"professionnel\", \"professionnel\", \"professionnel\", \"programme\", \"programme\", \"programme\", \"prohiber_loi\", \"proposition\", \"propre_compte\", \"propre_compte\", \"propriete\", \"proprieter\", \"prospection\", \"prototype\", \"provenance\", \"public\", \"public\", \"public\", \"public\", \"public\", \"public\", \"public_priver\", \"public_priver\", \"publicitaire\", \"publicite\", \"publicite\", \"qu\", \"qu\", \"qu\", \"qu\", \"qu\", \"qu\", \"qu\", \"qu\", \"qu\", \"qu\", \"qu\", \"qu\", \"qu\", \"qu\", \"qu\", \"qualifie\", \"qualifie\", \"qualite\", \"qualite\", \"qualite\", \"qualite\", \"qualite\", \"qualite\", \"que\", \"que\", \"quotidien\", \"radio\", \"rapport_but\", \"rapport_direct\", \"rapport_direct\", \"rapportant\", \"rapportant\", \"rapporte\", \"rapporter_indirectement\", \"rapprocher\", \"rattacher\", \"realiser\", \"reassurance\", \"recherch\", \"recrutement\", \"redaction\", \"refection\", \"regie\", \"regie\", \"region\", \"region\", \"registre\", \"regle\", \"reglementaire\", \"reglementation\", \"reinsertion\", \"relation\", \"relation\", \"relation\", \"relation\", \"relation\", \"relation\", \"relation\", \"relation\", \"relation\", \"relation\", \"relation\", \"relation\", \"relation\", \"relation\", \"relation\", \"relation\", \"relation_public\", \"relation_public\", \"relever\", \"religion\", \"rencontre\", \"rencontre\", \"renouvelable\", \"reorganisation\", \"reparation\", \"reparation\", \"reparation\", \"reparation\", \"representant\", \"reproduction\", \"reseau\", \"reseau\", \"reseau\", \"reseau\", \"reseau\", \"reservation\", \"reserve\", \"respect_lfaie\", \"respect_lfaie\", \"respect_prescription\", \"ressource_humain\", \"ressource_humain\", \"restaurant\", \"restaurant_bar\", \"restaurant_bar\", \"restauration\", \"restaurer\", \"restaurer_bar\", \"restaurer_enseigne\", \"restructuration\", \"restructuration\", \"resulter\", \"retouche\", \"retraite\", \"revent\", \"revente\", \"revetement\", \"revision\", \"risque\", \"risque\", \"risque\", \"room\", \"roue\", \"route\", \"russie\", \"salle\", \"salle_bain\", \"salon\", \"salon\", \"salon_coiffure\", \"sandwicherie\", \"sanitaire\", \"sanitaire_chauffage\", \"sante\", \"sante\", \"sante\", \"scene\", \"scientifique\", \"scientifique\", \"scientifique\", \"scolaire\", \"scooter\", \"seance\", \"second_oeuvre\", \"second_oeuvre\", \"secretariat\", \"securite\", \"securite\", \"securite\", \"selection\", \"selection\", \"semblable\", \"semi\", \"seminaire\", \"seminaire\", \"seminaire\", \"seminaire\", \"seminaire\", \"seminaire\", \"sens\", \"sens_holding\", \"sens_large\", \"sens_lfaie\", \"sensibilisation\", \"serrurerie\", \"service_traiteur\", \"shipping\", \"similaire\", \"similaire\", \"similaire\", \"similaire\", \"similaire\", \"site\", \"site\", \"site\", \"site_internet\", \"site_internet\", \"site_web\", \"situation\", \"situer\", \"social\", \"social\", \"social\", \"social\", \"social\", \"social\", \"social_culturel\", \"socio\", \"soin\", \"soin\", \"soin\", \"soin\", \"soiree\", \"sol\", \"solaire\", \"solution_informatique\", \"sonore\", \"sorte\", \"sorte\", \"sorte\", \"soumettre\", \"soumettre_lfaie\", \"soumettre_lfaie\", \"soumettre_loi\", \"soumis_lfaie\", \"souscription\", \"soutenir\", \"soutien\", \"soutien\", \"soutien\", \"soutien\", \"special\", \"specialise\", \"specialise\", \"specialiser\", \"specialiser\", \"specialiser\", \"specialiser\", \"specialiste\", \"specialite\", \"specialite\", \"spectacle\", \"spectacle\", \"spectacle\", \"sport\", \"sport\", \"sportif\", \"station_service\", \"stockage_transport\", \"store\", \"strategie\", \"strategie\", \"strategie\", \"strategie\", \"strategie\", \"strategie\", \"strategique\", \"strategique\", \"strategique\", \"strategique\", \"structuration\", \"structure\", \"structure\", \"structure\", \"structure\", \"style\", \"succursale\", \"sud\", \"suisse_financemer\", \"suisse_limiter\", \"suisse_qu\", \"suisse_qu\", \"suisse_qu\", \"suivi\", \"suivi\", \"sujet\", \"superieur\", \"support\", \"support\", \"support\", \"surete\", \"surface\", \"surveillance\", \"surveillance\", \"susmentionner\", \"synthetique\", \"systeme\", \"systeme\", \"tabac\", \"tabac\", \"tache\", \"talent\", \"tea_room\", \"tea_room\", \"tea_rooms\", \"technique\", \"technique\", \"technique\", \"technique\", \"technique\", \"technique\", \"technique\", \"technologie\", \"technologie\", \"technologie\", \"technologie_information\", \"technologique\", \"technologique\", \"telecommunication\", \"telecommunications\", \"telephonie\", \"telephonique\", \"telephonique\", \"television\", \"temporaire\", \"temps\", \"tenir\", \"tenue\", \"terrassement\", \"terre\", \"territoire\", \"territoire\", \"texte\", \"textile\", \"textile\", \"the\", \"theatre\", \"therapeutique\", \"therapeutique\", \"therapie\", \"thermique\", \"thermique\", \"tissu\", \"titre\", \"titre\", \"titre\", \"titre\", \"titre\", \"titre_fiduciaire\", \"titre_valeur\", \"tolerie\", \"total\", \"tour\", \"tourisme\", \"tourisme\", \"tourisme\", \"touristique\", \"touristique\", \"traditionnel_chinois\", \"traduction\", \"traduction\", \"traduction\", \"traire\", \"traire\", \"traitement\", \"traitement\", \"traitement\", \"traitement\", \"traitement\", \"transaction\", \"transaction\", \"transaction\", \"transaction\", \"transfert\", \"transfert\", \"transfert\", \"transformation\", \"transformation\", \"transformation\", \"transformation\", \"transformation\", \"transformation\", \"transmission\", \"transport\", \"transport_marchandise\", \"transport_marchandise\", \"transport_maritime\", \"transport_personne\", \"transport_personne\", \"travail_second\", \"travailleur\", \"traval\", \"traval\", \"travaux\", \"travers\", \"travers\", \"travers\", \"travers\", \"travers\", \"tribunal\", \"trouble\", \"trust\", \"trust\", \"trust_fondation\", \"trustee\", \"type\", \"type\", \"type\", \"type\", \"type\", \"type\", \"type\", \"type\", \"type\", \"type\", \"type\", \"type_entrepris\", \"type_family\", \"universitaire\", \"urbanisme\", \"utiliser\", \"valeur\", \"valeur\", \"valeur\", \"valeur_patrimonial\", \"valorisation\", \"vehicule\", \"velo\", \"velo\", \"vente_ligne\", \"ventilation\", \"ventilation_climatisation\", \"verification\", \"verre\", \"verts\", \"vetement\", \"vetement\", \"vetement\", \"veterinaire\", \"viande\", \"video\", \"video\", \"videos\", \"vie\", \"vie\", \"vie\", \"vie\", \"vieillesse\", \"ville\", \"ville\", \"vin\", \"vin\", \"vin_spiritueux\", \"viser\", \"viser\", \"viser\", \"viser\", \"viser_loi\", \"viticole\", \"vitrerie\", \"vocation\", \"voie\", \"voie\", \"voie\", \"voiture\", \"voiture\", \"voiture_moto\", \"vol\", \"voyage\", \"voyage\", \"web\"]}, \"R\": 30, \"lambda.step\": 0.01, \"plot.opts\": {\"xlab\": \"PC1\", \"ylab\": \"PC2\"}, \"topic.order\": [2, 3, 1, 18, 15, 12, 24, 23, 20, 25, 4, 19, 7, 14, 9, 10, 21, 6, 16, 17, 22, 8, 13, 11, 5]};\n",
              "\n",
              "function LDAvis_load_lib(url, callback){\n",
              "  var s = document.createElement('script');\n",
              "  s.src = url;\n",
              "  s.async = true;\n",
              "  s.onreadystatechange = s.onload = callback;\n",
              "  s.onerror = function(){console.warn(\"failed to load library \" + url);};\n",
              "  document.getElementsByTagName(\"head\")[0].appendChild(s);\n",
              "}\n",
              "\n",
              "if(typeof(LDAvis) !== \"undefined\"){\n",
              "   // already loaded: just create the visualization\n",
              "   !function(LDAvis){\n",
              "       new LDAvis(\"#\" + \"ldavis_el47411396807148939766621329358\", ldavis_el47411396807148939766621329358_data);\n",
              "   }(LDAvis);\n",
              "}else if(typeof define === \"function\" && define.amd){\n",
              "   // require.js is available: use it to load d3/LDAvis\n",
              "   require.config({paths: {d3: \"https://cdnjs.cloudflare.com/ajax/libs/d3/3.5.5/d3.min\"}});\n",
              "   require([\"d3\"], function(d3){\n",
              "      window.d3 = d3;\n",
              "      LDAvis_load_lib(\"https://cdn.rawgit.com/bmabey/pyLDAvis/files/ldavis.v1.0.0.js\", function(){\n",
              "        new LDAvis(\"#\" + \"ldavis_el47411396807148939766621329358\", ldavis_el47411396807148939766621329358_data);\n",
              "      });\n",
              "    });\n",
              "}else{\n",
              "    // require.js not available: dynamically load d3 & LDAvis\n",
              "    LDAvis_load_lib(\"https://cdnjs.cloudflare.com/ajax/libs/d3/3.5.5/d3.min.js\", function(){\n",
              "         LDAvis_load_lib(\"https://cdn.rawgit.com/bmabey/pyLDAvis/files/ldavis.v1.0.0.js\", function(){\n",
              "                 new LDAvis(\"#\" + \"ldavis_el47411396807148939766621329358\", ldavis_el47411396807148939766621329358_data);\n",
              "            })\n",
              "         });\n",
              "}\n",
              "</script>"
            ],
            "text/plain": [
              "PreparedData(topic_coordinates=              x         y  topics  cluster      Freq\n",
              "topic                                               \n",
              "1     -0.052461  0.002938       1        1  7.134648\n",
              "2     -0.325632 -0.060223       2        1  6.645026\n",
              "0     -0.230944  0.043142       3        1  6.403727\n",
              "17    -0.000338  0.176145       4        1  5.406419\n",
              "14    -0.004760 -0.152142       5        1  5.142902\n",
              "11     0.051779 -0.276054       6        1  4.981830\n",
              "23    -0.223327  0.079722       7        1  4.892581\n",
              "22     0.079084  0.142357       8        1  4.638106\n",
              "19     0.074870 -0.137153       9        1  3.979075\n",
              "24     0.082277  0.111151      10        1  3.738309\n",
              "3      0.001029  0.072698      11        1  3.703949\n",
              "18    -0.210903 -0.034366      12        1  3.654801\n",
              "6      0.078415  0.098213      13        1  3.613447\n",
              "13     0.091853 -0.168797      14        1  3.599911\n",
              "8      0.035917  0.045325      15        1  3.551173\n",
              "9      0.061981  0.064690      16        1  3.436652\n",
              "20     0.080956  0.042275      17        1  3.263631\n",
              "5      0.035348 -0.008131      18        1  3.155599\n",
              "15     0.082449 -0.000741      19        1  2.992185\n",
              "16     0.050129 -0.064120      20        1  2.987382\n",
              "21     0.059263  0.091610      21        1  2.802638\n",
              "7      0.027050 -0.102294      22        1  2.797961\n",
              "12     0.060753 -0.007810      23        1  2.586241\n",
              "10     0.089354  0.052190      24        1  2.512269\n",
              "4      0.005859 -0.010626      25        1  2.379539, topic_info=                     Term         Freq        Total Category  logprob  loglift\n",
              "11             immobilier  1174.000000  1174.000000  Default  30.0000  30.0000\n",
              "142             financier   971.000000   971.000000  Default  29.0000  29.0000\n",
              "218          informatique   525.000000   525.000000  Default  28.0000  28.0000\n",
              "6                courtage   482.000000   482.000000  Default  27.0000  27.0000\n",
              "134              batiment   403.000000   403.000000  Default  26.0000  26.0000\n",
              "...                   ...          ...          ...      ...      ...      ...\n",
              "578               holding    31.933619    40.191482  Topic25  -4.1530   3.5083\n",
              "549           electricite    33.205306    70.152070  Topic25  -4.1139   2.9903\n",
              "1341              maniere    21.709801    64.596887  Topic25  -4.5389   2.6479\n",
              "531   prise_participation    26.668932   283.612825  Topic25  -4.3331   1.3742\n",
              "916               pouvoir    19.088626    90.160972  Topic25  -4.6675   2.1858\n",
              "\n",
              "[1279 rows x 6 columns], token_table=      Topic      Freq             Term\n",
              "term                                  \n",
              "2841     24  0.954532       academique\n",
              "966       6  0.805943       accessoire\n",
              "966      14  0.190653       accessoire\n",
              "3187     13  0.975886  accessoire_mode\n",
              "253       4  0.851606   accompagnement\n",
              "...     ...       ...              ...\n",
              "6844     24  0.946669     voiture_moto\n",
              "564      22  0.911496              vol\n",
              "699      13  0.302618           voyage\n",
              "699      22  0.680891           voyage\n",
              "400       1  0.986006              web\n",
              "\n",
              "[2024 rows x 3 columns], R=30, lambda_step=0.01, plot_opts={'xlab': 'PC1', 'ylab': 'PC2'}, topic_order=[2, 3, 1, 18, 15, 12, 24, 23, 20, 25, 4, 19, 7, 14, 9, 10, 21, 6, 16, 17, 22, 8, 13, 11, 5])"
            ]
          },
          "metadata": {
            "tags": []
          },
          "execution_count": 78
        }
      ]
    },
    {
      "cell_type": "code",
      "metadata": {
        "id": "NstaLf7bz96k"
      },
      "source": [
        "from gensim import similarities\n",
        "index = similarities.MatrixSimilarity(model[corpusBow])"
      ],
      "execution_count": null,
      "outputs": []
    },
    {
      "cell_type": "code",
      "metadata": {
        "id": "rdD5D-101NW-"
      },
      "source": [
        "sims = index[vec_lsi]"
      ],
      "execution_count": null,
      "outputs": []
    },
    {
      "cell_type": "code",
      "metadata": {
        "id": "oUxO_1vG2Oxt",
        "outputId": "0b975eda-b7bf-4a57-9457-979169b46148",
        "colab": {
          "base_uri": "https://localhost:8080/",
          "height": 284
        }
      },
      "source": [
        "vec_lsi"
      ],
      "execution_count": null,
      "outputs": [
        {
          "output_type": "execute_result",
          "data": {
            "text/plain": [
              "[(0, 0.02222222),\n",
              " (1, 0.02222222),\n",
              " (2, 0.02222222),\n",
              " (3, 0.02222222),\n",
              " (4, 0.02222222),\n",
              " (5, 0.02222225),\n",
              " (6, 0.02222222),\n",
              " (7, 0.02222222),\n",
              " (8, 0.02222222),\n",
              " (9, 0.02222222),\n",
              " (10, 0.02222222),\n",
              " (11, 0.02222222),\n",
              " (12, 0.02222222),\n",
              " (13, 0.3555555),\n",
              " (14, 0.3555556)]"
            ]
          },
          "metadata": {
            "tags": []
          },
          "execution_count": 113
        }
      ]
    },
    {
      "cell_type": "code",
      "metadata": {
        "id": "b0lAhRW32EpB"
      },
      "source": [
        "sorted(enumerate(sims), key=lambda item: -item[1])"
      ],
      "execution_count": null,
      "outputs": []
    },
    {
      "cell_type": "code",
      "metadata": {
        "id": "5jSq_6thP7uQ"
      },
      "source": [
        "doc = \"horlogerie metal precieux\"\n",
        "vec_bow = id2word.doc2bow(doc.lower().split())\n",
        "vec_lsi = model[vec_bow]  # convert the query to LSI space\n",
        "sims = index[vec_lsi]\n",
        "sims = sorted(enumerate(sims), key=lambda item: -item[1])\n",
        "for i, s in sims[:200]:\n",
        "    print(i,s, corpus0[i])"
      ],
      "execution_count": null,
      "outputs": []
    },
    {
      "cell_type": "code",
      "metadata": {
        "id": "qbrzV-EyW0HZ"
      },
      "source": [
        ""
      ],
      "execution_count": null,
      "outputs": []
    }
  ]
}